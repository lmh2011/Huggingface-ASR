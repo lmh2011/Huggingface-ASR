{
  "cells": [
    {
      "cell_type": "markdown",
      "metadata": {
        "id": "cV-pf35571ap"
      },
      "source": [
        "### If you dont want to use Wandb, disable Wandb otherwise optional\n",
        "\n",
        "references for WANDB\n",
        "https://analyticsindiamag.com/hands-on-guide-to-weights-and-biases-wandb-with-python-implementation/\n",
        "\n",
        "https://docs.wandb.ai/\n"
      ]
    },
    {
      "cell_type": "code",
      "source": [
        "from google.colab import drive\n",
        "drive.mount('/content/drive')"
      ],
      "metadata": {
        "colab": {
          "base_uri": "https://localhost:8080/"
        },
        "id": "6ou4II_-3tDW",
        "outputId": "4446c47f-771f-49b9-fd8e-9437b8b12c62"
      },
      "execution_count": null,
      "outputs": [
        {
          "output_type": "stream",
          "name": "stdout",
          "text": [
            "Mounted at /content/drive\n"
          ]
        }
      ]
    },
    {
      "cell_type": "code",
      "source": [
        "%cd /content/drive/MyDrive\n"
      ],
      "metadata": {
        "colab": {
          "base_uri": "https://localhost:8080/"
        },
        "id": "hAmnY_fu4Byo",
        "outputId": "cb0e6974-0cbb-42ee-9b4a-b8c5f16fc438"
      },
      "execution_count": null,
      "outputs": [
        {
          "output_type": "stream",
          "name": "stdout",
          "text": [
            "/content/drive/MyDrive\n"
          ]
        }
      ]
    },
    {
      "cell_type": "code",
      "execution_count": null,
      "metadata": {
        "id": "tmYJBBbwyiX3"
      },
      "outputs": [],
      "source": [
        "import os\n",
        "os.environ[\"WANDB_DISABLED\"]=\"true\""
      ]
    },
    {
      "cell_type": "markdown",
      "metadata": {
        "id": "k1hOFHi-x5UZ"
      },
      "source": [
        "# Install required packages"
      ]
    },
    {
      "cell_type": "code",
      "execution_count": null,
      "metadata": {
        "colab": {
          "base_uri": "https://localhost:8080/"
        },
        "id": "SqADZ2Sgx5Ua",
        "outputId": "9fc2f975-3ee1-4f1f-ecea-36c98c302a31"
      },
      "outputs": [
        {
          "output_type": "stream",
          "name": "stdout",
          "text": [
            "Collecting datasets\n",
            "  Downloading datasets-2.19.0-py3-none-any.whl (542 kB)\n",
            "\u001b[2K     \u001b[90m━━━━━━━━━━━━━━━━━━━━━━━━━━━━━━━━━━━━━━━━\u001b[0m \u001b[32m542.0/542.0 kB\u001b[0m \u001b[31m7.1 MB/s\u001b[0m eta \u001b[36m0:00:00\u001b[0m\n",
            "\u001b[?25hRequirement already satisfied: transformers in /usr/local/lib/python3.10/dist-packages (4.40.1)\n",
            "Collecting sacrebleu\n",
            "  Downloading sacrebleu-2.4.2-py3-none-any.whl (106 kB)\n",
            "\u001b[2K     \u001b[90m━━━━━━━━━━━━━━━━━━━━━━━━━━━━━━━━━━━━━━━━\u001b[0m \u001b[32m106.7/106.7 kB\u001b[0m \u001b[31m10.5 MB/s\u001b[0m eta \u001b[36m0:00:00\u001b[0m\n",
            "\u001b[?25hRequirement already satisfied: torch in /usr/local/lib/python3.10/dist-packages (2.2.1+cu121)\n",
            "Requirement already satisfied: sentencepiece in /usr/local/lib/python3.10/dist-packages (0.1.99)\n",
            "Requirement already satisfied: filelock in /usr/local/lib/python3.10/dist-packages (from datasets) (3.13.4)\n",
            "Requirement already satisfied: numpy>=1.17 in /usr/local/lib/python3.10/dist-packages (from datasets) (1.25.2)\n",
            "Requirement already satisfied: pyarrow>=12.0.0 in /usr/local/lib/python3.10/dist-packages (from datasets) (14.0.2)\n",
            "Requirement already satisfied: pyarrow-hotfix in /usr/local/lib/python3.10/dist-packages (from datasets) (0.6)\n",
            "Collecting dill<0.3.9,>=0.3.0 (from datasets)\n",
            "  Downloading dill-0.3.8-py3-none-any.whl (116 kB)\n",
            "\u001b[2K     \u001b[90m━━━━━━━━━━━━━━━━━━━━━━━━━━━━━━━━━━━━━━━━\u001b[0m \u001b[32m116.3/116.3 kB\u001b[0m \u001b[31m10.3 MB/s\u001b[0m eta \u001b[36m0:00:00\u001b[0m\n",
            "\u001b[?25hRequirement already satisfied: pandas in /usr/local/lib/python3.10/dist-packages (from datasets) (2.0.3)\n",
            "Requirement already satisfied: requests>=2.19.0 in /usr/local/lib/python3.10/dist-packages (from datasets) (2.31.0)\n",
            "Requirement already satisfied: tqdm>=4.62.1 in /usr/local/lib/python3.10/dist-packages (from datasets) (4.66.2)\n",
            "Collecting xxhash (from datasets)\n",
            "  Downloading xxhash-3.4.1-cp310-cp310-manylinux_2_17_x86_64.manylinux2014_x86_64.whl (194 kB)\n",
            "\u001b[2K     \u001b[90m━━━━━━━━━━━━━━━━━━━━━━━━━━━━━━━━━━━━━━━━\u001b[0m \u001b[32m194.1/194.1 kB\u001b[0m \u001b[31m10.7 MB/s\u001b[0m eta \u001b[36m0:00:00\u001b[0m\n",
            "\u001b[?25hCollecting multiprocess (from datasets)\n",
            "  Downloading multiprocess-0.70.16-py310-none-any.whl (134 kB)\n",
            "\u001b[2K     \u001b[90m━━━━━━━━━━━━━━━━━━━━━━━━━━━━━━━━━━━━━━━━\u001b[0m \u001b[32m134.8/134.8 kB\u001b[0m \u001b[31m11.8 MB/s\u001b[0m eta \u001b[36m0:00:00\u001b[0m\n",
            "\u001b[?25hRequirement already satisfied: fsspec[http]<=2024.3.1,>=2023.1.0 in /usr/local/lib/python3.10/dist-packages (from datasets) (2023.6.0)\n",
            "Requirement already satisfied: aiohttp in /usr/local/lib/python3.10/dist-packages (from datasets) (3.9.5)\n",
            "Collecting huggingface-hub>=0.21.2 (from datasets)\n",
            "  Downloading huggingface_hub-0.22.2-py3-none-any.whl (388 kB)\n",
            "\u001b[2K     \u001b[90m━━━━━━━━━━━━━━━━━━━━━━━━━━━━━━━━━━━━━━━━\u001b[0m \u001b[32m388.9/388.9 kB\u001b[0m \u001b[31m10.7 MB/s\u001b[0m eta \u001b[36m0:00:00\u001b[0m\n",
            "\u001b[?25hRequirement already satisfied: packaging in /usr/local/lib/python3.10/dist-packages (from datasets) (24.0)\n",
            "Requirement already satisfied: pyyaml>=5.1 in /usr/local/lib/python3.10/dist-packages (from datasets) (6.0.1)\n",
            "Requirement already satisfied: regex!=2019.12.17 in /usr/local/lib/python3.10/dist-packages (from transformers) (2023.12.25)\n",
            "Requirement already satisfied: tokenizers<0.20,>=0.19 in /usr/local/lib/python3.10/dist-packages (from transformers) (0.19.1)\n",
            "Requirement already satisfied: safetensors>=0.4.1 in /usr/local/lib/python3.10/dist-packages (from transformers) (0.4.3)\n",
            "Collecting portalocker (from sacrebleu)\n",
            "  Downloading portalocker-2.8.2-py3-none-any.whl (17 kB)\n",
            "Requirement already satisfied: tabulate>=0.8.9 in /usr/local/lib/python3.10/dist-packages (from sacrebleu) (0.9.0)\n",
            "Collecting colorama (from sacrebleu)\n",
            "  Downloading colorama-0.4.6-py2.py3-none-any.whl (25 kB)\n",
            "Requirement already satisfied: lxml in /usr/local/lib/python3.10/dist-packages (from sacrebleu) (4.9.4)\n",
            "Requirement already satisfied: typing-extensions>=4.8.0 in /usr/local/lib/python3.10/dist-packages (from torch) (4.11.0)\n",
            "Requirement already satisfied: sympy in /usr/local/lib/python3.10/dist-packages (from torch) (1.12)\n",
            "Requirement already satisfied: networkx in /usr/local/lib/python3.10/dist-packages (from torch) (3.3)\n",
            "Requirement already satisfied: jinja2 in /usr/local/lib/python3.10/dist-packages (from torch) (3.1.3)\n",
            "Collecting nvidia-cuda-nvrtc-cu12==12.1.105 (from torch)\n",
            "  Using cached nvidia_cuda_nvrtc_cu12-12.1.105-py3-none-manylinux1_x86_64.whl (23.7 MB)\n",
            "Collecting nvidia-cuda-runtime-cu12==12.1.105 (from torch)\n",
            "  Using cached nvidia_cuda_runtime_cu12-12.1.105-py3-none-manylinux1_x86_64.whl (823 kB)\n",
            "Collecting nvidia-cuda-cupti-cu12==12.1.105 (from torch)\n",
            "  Using cached nvidia_cuda_cupti_cu12-12.1.105-py3-none-manylinux1_x86_64.whl (14.1 MB)\n",
            "Collecting nvidia-cudnn-cu12==8.9.2.26 (from torch)\n",
            "  Using cached nvidia_cudnn_cu12-8.9.2.26-py3-none-manylinux1_x86_64.whl (731.7 MB)\n",
            "Collecting nvidia-cublas-cu12==12.1.3.1 (from torch)\n",
            "  Using cached nvidia_cublas_cu12-12.1.3.1-py3-none-manylinux1_x86_64.whl (410.6 MB)\n",
            "Collecting nvidia-cufft-cu12==11.0.2.54 (from torch)\n",
            "  Using cached nvidia_cufft_cu12-11.0.2.54-py3-none-manylinux1_x86_64.whl (121.6 MB)\n",
            "Collecting nvidia-curand-cu12==10.3.2.106 (from torch)\n",
            "  Using cached nvidia_curand_cu12-10.3.2.106-py3-none-manylinux1_x86_64.whl (56.5 MB)\n",
            "Collecting nvidia-cusolver-cu12==11.4.5.107 (from torch)\n",
            "  Using cached nvidia_cusolver_cu12-11.4.5.107-py3-none-manylinux1_x86_64.whl (124.2 MB)\n",
            "Collecting nvidia-cusparse-cu12==12.1.0.106 (from torch)\n",
            "  Using cached nvidia_cusparse_cu12-12.1.0.106-py3-none-manylinux1_x86_64.whl (196.0 MB)\n",
            "Collecting nvidia-nccl-cu12==2.19.3 (from torch)\n",
            "  Using cached nvidia_nccl_cu12-2.19.3-py3-none-manylinux1_x86_64.whl (166.0 MB)\n",
            "Collecting nvidia-nvtx-cu12==12.1.105 (from torch)\n",
            "  Using cached nvidia_nvtx_cu12-12.1.105-py3-none-manylinux1_x86_64.whl (99 kB)\n",
            "Requirement already satisfied: triton==2.2.0 in /usr/local/lib/python3.10/dist-packages (from torch) (2.2.0)\n",
            "Collecting nvidia-nvjitlink-cu12 (from nvidia-cusolver-cu12==11.4.5.107->torch)\n",
            "  Using cached nvidia_nvjitlink_cu12-12.4.127-py3-none-manylinux2014_x86_64.whl (21.1 MB)\n",
            "Requirement already satisfied: protobuf in /usr/local/lib/python3.10/dist-packages (from transformers) (3.20.3)\n",
            "Requirement already satisfied: aiosignal>=1.1.2 in /usr/local/lib/python3.10/dist-packages (from aiohttp->datasets) (1.3.1)\n",
            "Requirement already satisfied: attrs>=17.3.0 in /usr/local/lib/python3.10/dist-packages (from aiohttp->datasets) (23.2.0)\n",
            "Requirement already satisfied: frozenlist>=1.1.1 in /usr/local/lib/python3.10/dist-packages (from aiohttp->datasets) (1.4.1)\n",
            "Requirement already satisfied: multidict<7.0,>=4.5 in /usr/local/lib/python3.10/dist-packages (from aiohttp->datasets) (6.0.5)\n",
            "Requirement already satisfied: yarl<2.0,>=1.0 in /usr/local/lib/python3.10/dist-packages (from aiohttp->datasets) (1.9.4)\n",
            "Requirement already satisfied: async-timeout<5.0,>=4.0 in /usr/local/lib/python3.10/dist-packages (from aiohttp->datasets) (4.0.3)\n",
            "Requirement already satisfied: charset-normalizer<4,>=2 in /usr/local/lib/python3.10/dist-packages (from requests>=2.19.0->datasets) (3.3.2)\n",
            "Requirement already satisfied: idna<4,>=2.5 in /usr/local/lib/python3.10/dist-packages (from requests>=2.19.0->datasets) (3.7)\n",
            "Requirement already satisfied: urllib3<3,>=1.21.1 in /usr/local/lib/python3.10/dist-packages (from requests>=2.19.0->datasets) (2.0.7)\n",
            "Requirement already satisfied: certifi>=2017.4.17 in /usr/local/lib/python3.10/dist-packages (from requests>=2.19.0->datasets) (2024.2.2)\n",
            "Requirement already satisfied: MarkupSafe>=2.0 in /usr/local/lib/python3.10/dist-packages (from jinja2->torch) (2.1.5)\n",
            "Requirement already satisfied: python-dateutil>=2.8.2 in /usr/local/lib/python3.10/dist-packages (from pandas->datasets) (2.8.2)\n",
            "Requirement already satisfied: pytz>=2020.1 in /usr/local/lib/python3.10/dist-packages (from pandas->datasets) (2023.4)\n",
            "Requirement already satisfied: tzdata>=2022.1 in /usr/local/lib/python3.10/dist-packages (from pandas->datasets) (2024.1)\n",
            "Requirement already satisfied: mpmath>=0.19 in /usr/local/lib/python3.10/dist-packages (from sympy->torch) (1.3.0)\n",
            "Requirement already satisfied: six>=1.5 in /usr/local/lib/python3.10/dist-packages (from python-dateutil>=2.8.2->pandas->datasets) (1.16.0)\n",
            "Installing collected packages: xxhash, portalocker, nvidia-nvtx-cu12, nvidia-nvjitlink-cu12, nvidia-nccl-cu12, nvidia-curand-cu12, nvidia-cufft-cu12, nvidia-cuda-runtime-cu12, nvidia-cuda-nvrtc-cu12, nvidia-cuda-cupti-cu12, nvidia-cublas-cu12, dill, colorama, sacrebleu, nvidia-cusparse-cu12, nvidia-cudnn-cu12, multiprocess, huggingface-hub, nvidia-cusolver-cu12, datasets\n",
            "  Attempting uninstall: huggingface-hub\n",
            "    Found existing installation: huggingface-hub 0.20.3\n",
            "    Uninstalling huggingface-hub-0.20.3:\n",
            "      Successfully uninstalled huggingface-hub-0.20.3\n",
            "Successfully installed colorama-0.4.6 datasets-2.19.0 dill-0.3.8 huggingface-hub-0.22.2 multiprocess-0.70.16 nvidia-cublas-cu12-12.1.3.1 nvidia-cuda-cupti-cu12-12.1.105 nvidia-cuda-nvrtc-cu12-12.1.105 nvidia-cuda-runtime-cu12-12.1.105 nvidia-cudnn-cu12-8.9.2.26 nvidia-cufft-cu12-11.0.2.54 nvidia-curand-cu12-10.3.2.106 nvidia-cusolver-cu12-11.4.5.107 nvidia-cusparse-cu12-12.1.0.106 nvidia-nccl-cu12-2.19.3 nvidia-nvjitlink-cu12-12.4.127 nvidia-nvtx-cu12-12.1.105 portalocker-2.8.2 sacrebleu-2.4.2 xxhash-3.4.1\n"
          ]
        }
      ],
      "source": [
        "! pip install datasets transformers sacrebleu torch sentencepiece transformers[sentencepiece]"
      ]
    },
    {
      "cell_type": "code",
      "execution_count": null,
      "metadata": {
        "colab": {
          "base_uri": "https://localhost:8080/",
          "height": 1000
        },
        "id": "0OwqDXWdLlds",
        "outputId": "f28730fd-604e-430d-8b1a-8586b7cb7b7f"
      },
      "outputs": [
        {
          "name": "stdout",
          "output_type": "stream",
          "text": [
            "Collecting accelerate\n",
            "  Downloading accelerate-0.29.3-py3-none-any.whl (297 kB)\n",
            "\u001b[2K     \u001b[90m━━━━━━━━━━━━━━━━━━━━━━━━━━━━━━━━━━━━━━━━\u001b[0m \u001b[32m297.6/297.6 kB\u001b[0m \u001b[31m2.7 MB/s\u001b[0m eta \u001b[36m0:00:00\u001b[0m\n",
            "\u001b[?25hRequirement already satisfied: numpy>=1.17 in /usr/local/lib/python3.10/dist-packages (from accelerate) (1.25.2)\n",
            "Requirement already satisfied: packaging>=20.0 in /usr/local/lib/python3.10/dist-packages (from accelerate) (24.0)\n",
            "Requirement already satisfied: psutil in /usr/local/lib/python3.10/dist-packages (from accelerate) (5.9.5)\n",
            "Requirement already satisfied: pyyaml in /usr/local/lib/python3.10/dist-packages (from accelerate) (6.0.1)\n",
            "Requirement already satisfied: torch>=1.10.0 in /usr/local/lib/python3.10/dist-packages (from accelerate) (2.2.1+cu121)\n",
            "Requirement already satisfied: huggingface-hub in /usr/local/lib/python3.10/dist-packages (from accelerate) (0.22.2)\n",
            "Requirement already satisfied: safetensors>=0.3.1 in /usr/local/lib/python3.10/dist-packages (from accelerate) (0.4.3)\n",
            "Requirement already satisfied: filelock in /usr/local/lib/python3.10/dist-packages (from torch>=1.10.0->accelerate) (3.13.4)\n",
            "Requirement already satisfied: typing-extensions>=4.8.0 in /usr/local/lib/python3.10/dist-packages (from torch>=1.10.0->accelerate) (4.11.0)\n",
            "Requirement already satisfied: sympy in /usr/local/lib/python3.10/dist-packages (from torch>=1.10.0->accelerate) (1.12)\n",
            "Requirement already satisfied: networkx in /usr/local/lib/python3.10/dist-packages (from torch>=1.10.0->accelerate) (3.3)\n",
            "Requirement already satisfied: jinja2 in /usr/local/lib/python3.10/dist-packages (from torch>=1.10.0->accelerate) (3.1.3)\n",
            "Requirement already satisfied: fsspec in /usr/local/lib/python3.10/dist-packages (from torch>=1.10.0->accelerate) (2023.6.0)\n",
            "Requirement already satisfied: nvidia-cuda-nvrtc-cu12==12.1.105 in /usr/local/lib/python3.10/dist-packages (from torch>=1.10.0->accelerate) (12.1.105)\n",
            "Requirement already satisfied: nvidia-cuda-runtime-cu12==12.1.105 in /usr/local/lib/python3.10/dist-packages (from torch>=1.10.0->accelerate) (12.1.105)\n",
            "Requirement already satisfied: nvidia-cuda-cupti-cu12==12.1.105 in /usr/local/lib/python3.10/dist-packages (from torch>=1.10.0->accelerate) (12.1.105)\n",
            "Requirement already satisfied: nvidia-cudnn-cu12==8.9.2.26 in /usr/local/lib/python3.10/dist-packages (from torch>=1.10.0->accelerate) (8.9.2.26)\n",
            "Requirement already satisfied: nvidia-cublas-cu12==12.1.3.1 in /usr/local/lib/python3.10/dist-packages (from torch>=1.10.0->accelerate) (12.1.3.1)\n",
            "Requirement already satisfied: nvidia-cufft-cu12==11.0.2.54 in /usr/local/lib/python3.10/dist-packages (from torch>=1.10.0->accelerate) (11.0.2.54)\n",
            "Requirement already satisfied: nvidia-curand-cu12==10.3.2.106 in /usr/local/lib/python3.10/dist-packages (from torch>=1.10.0->accelerate) (10.3.2.106)\n",
            "Requirement already satisfied: nvidia-cusolver-cu12==11.4.5.107 in /usr/local/lib/python3.10/dist-packages (from torch>=1.10.0->accelerate) (11.4.5.107)\n",
            "Requirement already satisfied: nvidia-cusparse-cu12==12.1.0.106 in /usr/local/lib/python3.10/dist-packages (from torch>=1.10.0->accelerate) (12.1.0.106)\n",
            "Requirement already satisfied: nvidia-nccl-cu12==2.19.3 in /usr/local/lib/python3.10/dist-packages (from torch>=1.10.0->accelerate) (2.19.3)\n",
            "Requirement already satisfied: nvidia-nvtx-cu12==12.1.105 in /usr/local/lib/python3.10/dist-packages (from torch>=1.10.0->accelerate) (12.1.105)\n",
            "Requirement already satisfied: triton==2.2.0 in /usr/local/lib/python3.10/dist-packages (from torch>=1.10.0->accelerate) (2.2.0)\n",
            "Requirement already satisfied: nvidia-nvjitlink-cu12 in /usr/local/lib/python3.10/dist-packages (from nvidia-cusolver-cu12==11.4.5.107->torch>=1.10.0->accelerate) (12.4.127)\n",
            "Requirement already satisfied: requests in /usr/local/lib/python3.10/dist-packages (from huggingface-hub->accelerate) (2.31.0)\n",
            "Requirement already satisfied: tqdm>=4.42.1 in /usr/local/lib/python3.10/dist-packages (from huggingface-hub->accelerate) (4.66.2)\n",
            "Requirement already satisfied: MarkupSafe>=2.0 in /usr/local/lib/python3.10/dist-packages (from jinja2->torch>=1.10.0->accelerate) (2.1.5)\n",
            "Requirement already satisfied: charset-normalizer<4,>=2 in /usr/local/lib/python3.10/dist-packages (from requests->huggingface-hub->accelerate) (3.3.2)\n",
            "Requirement already satisfied: idna<4,>=2.5 in /usr/local/lib/python3.10/dist-packages (from requests->huggingface-hub->accelerate) (3.7)\n",
            "Requirement already satisfied: urllib3<3,>=1.21.1 in /usr/local/lib/python3.10/dist-packages (from requests->huggingface-hub->accelerate) (2.0.7)\n",
            "Requirement already satisfied: certifi>=2017.4.17 in /usr/local/lib/python3.10/dist-packages (from requests->huggingface-hub->accelerate) (2024.2.2)\n",
            "Requirement already satisfied: mpmath>=0.19 in /usr/local/lib/python3.10/dist-packages (from sympy->torch>=1.10.0->accelerate) (1.3.0)\n",
            "Installing collected packages: accelerate\n",
            "Successfully installed accelerate-0.29.3\n",
            "Requirement already satisfied: transformers in /usr/local/lib/python3.10/dist-packages (4.40.0)\n",
            "Collecting transformers\n",
            "  Downloading transformers-4.40.1-py3-none-any.whl (9.0 MB)\n",
            "\u001b[2K     \u001b[90m━━━━━━━━━━━━━━━━━━━━━━━━━━━━━━━━━━━━━━━━\u001b[0m \u001b[32m9.0/9.0 MB\u001b[0m \u001b[31m24.6 MB/s\u001b[0m eta \u001b[36m0:00:00\u001b[0m\n",
            "\u001b[?25hRequirement already satisfied: filelock in /usr/local/lib/python3.10/dist-packages (from transformers) (3.13.4)\n",
            "Requirement already satisfied: huggingface-hub<1.0,>=0.19.3 in /usr/local/lib/python3.10/dist-packages (from transformers) (0.22.2)\n",
            "Requirement already satisfied: numpy>=1.17 in /usr/local/lib/python3.10/dist-packages (from transformers) (1.25.2)\n",
            "Requirement already satisfied: packaging>=20.0 in /usr/local/lib/python3.10/dist-packages (from transformers) (24.0)\n",
            "Requirement already satisfied: pyyaml>=5.1 in /usr/local/lib/python3.10/dist-packages (from transformers) (6.0.1)\n",
            "Requirement already satisfied: regex!=2019.12.17 in /usr/local/lib/python3.10/dist-packages (from transformers) (2023.12.25)\n",
            "Requirement already satisfied: requests in /usr/local/lib/python3.10/dist-packages (from transformers) (2.31.0)\n",
            "Requirement already satisfied: tokenizers<0.20,>=0.19 in /usr/local/lib/python3.10/dist-packages (from transformers) (0.19.1)\n",
            "Requirement already satisfied: safetensors>=0.4.1 in /usr/local/lib/python3.10/dist-packages (from transformers) (0.4.3)\n",
            "Requirement already satisfied: tqdm>=4.27 in /usr/local/lib/python3.10/dist-packages (from transformers) (4.66.2)\n",
            "Requirement already satisfied: fsspec>=2023.5.0 in /usr/local/lib/python3.10/dist-packages (from huggingface-hub<1.0,>=0.19.3->transformers) (2023.6.0)\n",
            "Requirement already satisfied: typing-extensions>=3.7.4.3 in /usr/local/lib/python3.10/dist-packages (from huggingface-hub<1.0,>=0.19.3->transformers) (4.11.0)\n",
            "Requirement already satisfied: charset-normalizer<4,>=2 in /usr/local/lib/python3.10/dist-packages (from requests->transformers) (3.3.2)\n",
            "Requirement already satisfied: idna<4,>=2.5 in /usr/local/lib/python3.10/dist-packages (from requests->transformers) (3.7)\n",
            "Requirement already satisfied: urllib3<3,>=1.21.1 in /usr/local/lib/python3.10/dist-packages (from requests->transformers) (2.0.7)\n",
            "Requirement already satisfied: certifi>=2017.4.17 in /usr/local/lib/python3.10/dist-packages (from requests->transformers) (2024.2.2)\n",
            "Installing collected packages: transformers\n",
            "  Attempting uninstall: transformers\n",
            "    Found existing installation: transformers 4.40.0\n",
            "    Uninstalling transformers-4.40.0:\n",
            "      Successfully uninstalled transformers-4.40.0\n",
            "Successfully installed transformers-4.40.1\n"
          ]
        },
        {
          "data": {
            "application/vnd.colab-display-data+json": {
              "id": "d5d045619eff42e2987254695ab5b46e",
              "pip_warning": {
                "packages": [
                  "transformers"
                ]
              }
            }
          },
          "metadata": {},
          "output_type": "display_data"
        }
      ],
      "source": [
        "! pip install -U accelerate\n",
        "! pip install -U transformers"
      ]
    },
    {
      "cell_type": "code",
      "execution_count": null,
      "metadata": {
        "id": "xdDylm4LLo_G"
      },
      "outputs": [],
      "source": [
        "import os\n",
        "os._exit(00)"
      ]
    },
    {
      "cell_type": "code",
      "execution_count": null,
      "metadata": {
        "colab": {
          "base_uri": "https://localhost:8080/",
          "height": 160,
          "referenced_widgets": [
            "7a1ed85e18a945a989178f1847dd33a7",
            "452e8bd05b0b4e759394ccfa7346b92e",
            "6f4150da328e4ae49b8a6600f29ebb6c",
            "97cf14a6bbab42fbbd55da56b8a0060d",
            "e23e6956d7b440489df6763eb3a893ba",
            "f9288742da334eb593d8b8147eabccce",
            "ea80f5d74458403294bf12af9333688a",
            "a76a843b5ac64734aa158217045ac659",
            "ef50b5ea6d244be9a209c02c1c70998b",
            "67742708a3e04fb280ff949b9c86d604",
            "7b7dfcf1dadd430e806d0731a97dc031",
            "8bd025b43ef8488aaaaeacea64de811c",
            "dc323d9ba5304c80b5370c1bbb8c22ca",
            "eb88d3a4b1e64f4ba402ca3209725764"
          ]
        },
        "id": "9kYDtOr2Lqrs",
        "outputId": "ce1d9607-4f03-45dc-9980-130bd368fcee"
      },
      "outputs": [
        {
          "data": {
            "application/vnd.jupyter.widget-view+json": {
              "model_id": "7a1ed85e18a945a989178f1847dd33a7",
              "version_major": 2,
              "version_minor": 0
            },
            "text/plain": [
              "VBox(children=(HTML(value='<center> <img\\nsrc=https://huggingface.co/front/assets/huggingface_logo-noborder.sv…"
            ]
          },
          "metadata": {},
          "output_type": "display_data"
        }
      ],
      "source": [
        "from huggingface_hub import notebook_login\n",
        "\n",
        "notebook_login()"
      ]
    },
    {
      "cell_type": "markdown",
      "metadata": {
        "id": "qN5RtJdM8xi5"
      },
      "source": [
        "Make sure your version of Transformers is at least 4.11.0 since the functionality was introduced in that version"
      ]
    },
    {
      "cell_type": "code",
      "execution_count": null,
      "metadata": {
        "colab": {
          "base_uri": "https://localhost:8080/"
        },
        "id": "5xKFwtNEx5Uc",
        "outputId": "cb7ec923-000d-487e-ba35-7593ca0bdf77"
      },
      "outputs": [
        {
          "name": "stdout",
          "output_type": "stream",
          "text": [
            "4.40.1\n"
          ]
        }
      ],
      "source": [
        "import transformers\n",
        "print(transformers.__version__)"
      ]
    },
    {
      "cell_type": "markdown",
      "metadata": {
        "id": "DKkJGYY19I11"
      },
      "source": [
        "# Fine-tuning a model on a translation task"
      ]
    },
    {
      "cell_type": "markdown",
      "metadata": {
        "id": "AT9VnMFn9O0_"
      },
      "source": [
        "In this notebook, we will see how to fine-tune one of the hugging-face Transformers model for a english to romanian translation task. We will use the WMT dataset, a machine translation dataset composed from a collection of various sources, including news commentaries and parliament proceedings.\n",
        "\n",
        "Below is the example translation text using pre-trained model\n",
        "\n",
        "Reference : https://huggingface.co/Helsinki-NLP/opus-mt-en-ro\n",
        "\n",
        "\n",
        "![image.png](data:image/png;base64,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)"
      ]
    },
    {
      "cell_type": "markdown",
      "metadata": {
        "id": "wks6Nz8Z-3Qf"
      },
      "source": [
        "We will see how to easily load the dataset for this task using Datasets and how to fine-tune a model on it using the Trainer API\n",
        "\n",
        "This notebook is built to run with any model checkpoint from the Model Hub as long as that model has a sequence-to-sequence version in the Transformers library. Here we picked the Helsinki-NLP/opus-mt-en-ro checkpoint.\n",
        "**[You may not download the model when you working in private cloud, we can download model from Files and versions tab.]**\n",
        "\n",
        "![image.png](data:image/png;base64,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)\n",
        "\n"
      ]
    },
    {
      "cell_type": "code",
      "execution_count": null,
      "metadata": {
        "id": "MX7DsEmOx5Ud"
      },
      "outputs": [],
      "source": [
        "#model_checkpoint = \"Helsinki-NLP/opus-mt-en-ro\"\n",
        "model_checkpoint = \"VietAI/envit5-translation\""
      ]
    },
    {
      "cell_type": "markdown",
      "metadata": {
        "id": "t-riYaFmF91z"
      },
      "source": []
    },
    {
      "cell_type": "markdown",
      "metadata": {
        "id": "Fu45aGHIAQqM"
      },
      "source": [
        "### Loading the dataset\n",
        "\n",
        "We will use the [datasets](https://github.com/huggingface/datasets/tree/master/datasets/wmt16) library to download the data and get the metric we need to use for evaluation (to compare our model to the benchmark). This can be easily done with the functions load_dataset and load_metric. We use the English/Romanian part of the WMT dataset here"
      ]
    },
    {
      "cell_type": "code",
      "execution_count": null,
      "metadata": {
        "colab": {
          "base_uri": "https://localhost:8080/",
          "height": 424,
          "referenced_widgets": [
            "34fd15427c7d4f4189c9ce38924107b5",
            "53ec358cc4784c25a50e17bd8764fd56",
            "c916612f156b457f828410fdc85c8def",
            "de1e4b0f94f74b4380de2cb4447352f1",
            "04672fbdc8754babbb7bb3bfb7bcfd2e",
            "ed5983a37cba4faea852cf2e13b355b4",
            "c04bdf05ef684c8fb12ea45833394e77",
            "adbad0b85f78492583b2c5b291341030",
            "f8f12dcd6d164513bae3d4d7835cc45e",
            "5600aa1b802c46b183417910f0e18cc4",
            "a9aa1538562840f2b969340f1cbf8bbb",
            "fd705f2d192c41f8bbbf5c6270e6ffb0",
            "b982f93475414c0c8a92601717138dc4",
            "98b513fb020744bfbbe0678daa33f2aa",
            "4295f3dc0a494198b776f682b327924d",
            "d8499a1a46144034b56489025aaee86f",
            "a434f279213545da8a92da73bc320504",
            "17ecb55f59dd411084d8692b80cc8cad",
            "0c2955e8cff44b5ba998ca584e485e54",
            "e1d75f47a76d4bf8b2941fe543e46242",
            "ad65c758c1114adab13e6dbf29f660aa",
            "eb10554a79a04ecf92517ba96ca956d9",
            "e3ada02e2bf34b5699475b1eb7801282",
            "9c9af690e08d490dbba5524e35fa6fcb",
            "c5d0a0ee946745609e561ffece8cde76",
            "9d13fcfc7b4e4ef182ef48df08253af4",
            "88c725d411d34463b632ec85fa67ed4a",
            "c4298a4942db4790a357a342c7cc13e7",
            "4d9080a460f34c8abdb3af1fdf0eddce",
            "a8744f13ff43450db14031275a7ba769",
            "edf107491f434e7486765ebda2ad938e",
            "922bfc020eb345c584ab31721a10922c",
            "f9c351511a33475d993fee0d6c1cddba",
            "4b5219e4a1a1400a982acc3065b46e2c"
          ]
        },
        "id": "biPo8vFTx5Ue",
        "outputId": "402f80b1-801c-4452-f502-dfcb9d9e9326"
      },
      "outputs": [
        {
          "data": {
            "application/vnd.jupyter.widget-view+json": {
              "model_id": "34fd15427c7d4f4189c9ce38924107b5",
              "version_major": 2,
              "version_minor": 0
            },
            "text/plain": [
              "Downloading:   0%|          | 0.00/1.41k [00:00<?, ?B/s]"
            ]
          },
          "metadata": {},
          "output_type": "display_data"
        },
        {
          "data": {
            "application/vnd.jupyter.widget-view+json": {
              "model_id": "fd705f2d192c41f8bbbf5c6270e6ffb0",
              "version_major": 2,
              "version_minor": 0
            },
            "text/plain": [
              "Downloading:   0%|          | 0.00/1.52k [00:00<?, ?B/s]"
            ]
          },
          "metadata": {},
          "output_type": "display_data"
        },
        {
          "data": {
            "application/vnd.jupyter.widget-view+json": {
              "model_id": "e3ada02e2bf34b5699475b1eb7801282",
              "version_major": 2,
              "version_minor": 0
            },
            "text/plain": [
              "Downloading:   0%|          | 0.00/8.69k [00:00<?, ?B/s]"
            ]
          },
          "metadata": {},
          "output_type": "display_data"
        },
        {
          "name": "stdout",
          "output_type": "stream",
          "text": [
            "Downloading and preparing dataset wmt16/ro-en to /root/.cache/huggingface/datasets/wmt16/ro-en/1.0.0/0d9fb3e814712c785176ad8cdb9f465fbe6479000ee6546725db30ad8a8b5f8a...\n"
          ]
        },
        {
          "data": {
            "application/vnd.jupyter.widget-view+json": {
              "model_id": "9c9af690e08d490dbba5524e35fa6fcb",
              "version_major": 2,
              "version_minor": 0
            },
            "text/plain": [
              "  0%|          | 0/4 [00:00<?, ?it/s]"
            ]
          },
          "metadata": {},
          "output_type": "display_data"
        },
        {
          "data": {
            "application/vnd.jupyter.widget-view+json": {
              "model_id": "c5d0a0ee946745609e561ffece8cde76",
              "version_major": 2,
              "version_minor": 0
            },
            "text/plain": [
              "Downloading:   0%|          | 0.00/225M [00:00<?, ?B/s]"
            ]
          },
          "metadata": {},
          "output_type": "display_data"
        },
        {
          "data": {
            "application/vnd.jupyter.widget-view+json": {
              "model_id": "9d13fcfc7b4e4ef182ef48df08253af4",
              "version_major": 2,
              "version_minor": 0
            },
            "text/plain": [
              "Downloading:   0%|          | 0.00/23.5M [00:00<?, ?B/s]"
            ]
          },
          "metadata": {},
          "output_type": "display_data"
        },
        {
          "data": {
            "application/vnd.jupyter.widget-view+json": {
              "model_id": "88c725d411d34463b632ec85fa67ed4a",
              "version_major": 2,
              "version_minor": 0
            },
            "text/plain": [
              "Downloading:   0%|          | 0.00/38.7M [00:00<?, ?B/s]"
            ]
          },
          "metadata": {},
          "output_type": "display_data"
        },
        {
          "data": {
            "application/vnd.jupyter.widget-view+json": {
              "model_id": "c4298a4942db4790a357a342c7cc13e7",
              "version_major": 2,
              "version_minor": 0
            },
            "text/plain": [
              "  0%|          | 0/4 [00:00<?, ?it/s]"
            ]
          },
          "metadata": {},
          "output_type": "display_data"
        },
        {
          "data": {
            "application/vnd.jupyter.widget-view+json": {
              "model_id": "4d9080a460f34c8abdb3af1fdf0eddce",
              "version_major": 2,
              "version_minor": 0
            },
            "text/plain": [
              "0it [00:00, ?it/s]"
            ]
          },
          "metadata": {},
          "output_type": "display_data"
        },
        {
          "data": {
            "application/vnd.jupyter.widget-view+json": {
              "model_id": "a8744f13ff43450db14031275a7ba769",
              "version_major": 2,
              "version_minor": 0
            },
            "text/plain": [
              "0 examples [00:00, ? examples/s]"
            ]
          },
          "metadata": {},
          "output_type": "display_data"
        },
        {
          "data": {
            "application/vnd.jupyter.widget-view+json": {
              "model_id": "edf107491f434e7486765ebda2ad938e",
              "version_major": 2,
              "version_minor": 0
            },
            "text/plain": [
              "0 examples [00:00, ? examples/s]"
            ]
          },
          "metadata": {},
          "output_type": "display_data"
        },
        {
          "data": {
            "application/vnd.jupyter.widget-view+json": {
              "model_id": "922bfc020eb345c584ab31721a10922c",
              "version_major": 2,
              "version_minor": 0
            },
            "text/plain": [
              "0 examples [00:00, ? examples/s]"
            ]
          },
          "metadata": {},
          "output_type": "display_data"
        },
        {
          "name": "stdout",
          "output_type": "stream",
          "text": [
            "Dataset wmt16 downloaded and prepared to /root/.cache/huggingface/datasets/wmt16/ro-en/1.0.0/0d9fb3e814712c785176ad8cdb9f465fbe6479000ee6546725db30ad8a8b5f8a. Subsequent calls will reuse this data.\n"
          ]
        },
        {
          "data": {
            "application/vnd.jupyter.widget-view+json": {
              "model_id": "f9c351511a33475d993fee0d6c1cddba",
              "version_major": 2,
              "version_minor": 0
            },
            "text/plain": [
              "  0%|          | 0/3 [00:00<?, ?it/s]"
            ]
          },
          "metadata": {},
          "output_type": "display_data"
        },
        {
          "data": {
            "application/vnd.jupyter.widget-view+json": {
              "model_id": "4b5219e4a1a1400a982acc3065b46e2c",
              "version_major": 2,
              "version_minor": 0
            },
            "text/plain": [
              "Downloading:   0%|          | 0.00/2.37k [00:00<?, ?B/s]"
            ]
          },
          "metadata": {},
          "output_type": "display_data"
        }
      ],
      "source": [
        "# from datasets import load_dataset, load_metric\n",
        "# raw_datasets = load_dataset(\"wmt16\", \"ro-en\")\n",
        "# metric = load_metric(\"sacrebleu\")"
      ]
    },
    {
      "cell_type": "code",
      "execution_count": null,
      "metadata": {
        "colab": {
          "base_uri": "https://localhost:8080/"
        },
        "id": "ZhyH8fpLFS7m",
        "outputId": "8a017ce6-9cab-4090-ddbc-d4f9d7cd1d28"
      },
      "outputs": [
        {
          "name": "stderr",
          "output_type": "stream",
          "text": [
            "/usr/local/lib/python3.10/dist-packages/huggingface_hub/utils/_token.py:89: UserWarning: \n",
            "The secret `HF_TOKEN` does not exist in your Colab secrets.\n",
            "To authenticate with the Hugging Face Hub, create a token in your settings tab (https://huggingface.co/settings/tokens), set it as secret in your Google Colab and restart your session.\n",
            "You will be able to reuse this secret in all of your notebooks.\n",
            "Please note that authentication is recommended but still optional to access public models or datasets.\n",
            "  warnings.warn(\n",
            "<ipython-input-5-c7b663d48ed5>:5: FutureWarning: load_metric is deprecated and will be removed in the next major version of datasets. Use 'evaluate.load' instead, from the new library 🤗 Evaluate: https://huggingface.co/docs/evaluate\n",
            "  metric = load_metric(\"sacrebleu\")\n",
            "/usr/local/lib/python3.10/dist-packages/datasets/load.py:759: FutureWarning: The repository for sacrebleu contains custom code which must be executed to correctly load the metric. You can inspect the repository content at https://raw.githubusercontent.com/huggingface/datasets/2.19.0/metrics/sacrebleu/sacrebleu.py\n",
            "You can avoid this message in future by passing the argument `trust_remote_code=True`.\n",
            "Passing `trust_remote_code=True` will be mandatory to load this metric from the next major release of `datasets`.\n",
            "  warnings.warn(\n"
          ]
        }
      ],
      "source": [
        "from datasets import load_dataset, load_metric\n",
        "\n",
        "raw_datasets = load_dataset('mt_eng_vietnamese', 'iwslt2015-vi-en')\n",
        "\n",
        "metric = load_metric(\"sacrebleu\")"
      ]
    },
    {
      "cell_type": "markdown",
      "metadata": {
        "id": "-LqXNw9_BFQe"
      },
      "source": [
        "The dataset object itself is [datasetdict](https://huggingface.co/docs/datasets/package_reference/main_classes.html#datasetdict), which contains one key for the training, validation and test set:"
      ]
    },
    {
      "cell_type": "code",
      "execution_count": null,
      "metadata": {
        "colab": {
          "base_uri": "https://localhost:8080/"
        },
        "id": "379sQa4Ix5Uf",
        "outputId": "639c743f-5e6b-478e-9963-e5757ad557f2"
      },
      "outputs": [
        {
          "data": {
            "text/plain": [
              "DatasetDict({\n",
              "    train: Dataset({\n",
              "        features: ['translation'],\n",
              "        num_rows: 133318\n",
              "    })\n",
              "    validation: Dataset({\n",
              "        features: ['translation'],\n",
              "        num_rows: 1269\n",
              "    })\n",
              "    test: Dataset({\n",
              "        features: ['translation'],\n",
              "        num_rows: 1269\n",
              "    })\n",
              "})"
            ]
          },
          "execution_count": 6,
          "metadata": {},
          "output_type": "execute_result"
        }
      ],
      "source": [
        "raw_datasets"
      ]
    },
    {
      "cell_type": "code",
      "execution_count": null,
      "metadata": {
        "colab": {
          "base_uri": "https://localhost:8080/"
        },
        "id": "Nkiu4ITXx5Ug",
        "outputId": "8510fc96-a106-40cf-b63b-5362b27be616"
      },
      "outputs": [
        {
          "data": {
            "text/plain": [
              "{'translation': {'en': 'Rachel Pike : The science behind a climate headline',\n",
              "  'vi': 'Khoa học đằng sau một tiêu đề về khí hậu'}}"
            ]
          },
          "execution_count": 13,
          "metadata": {},
          "output_type": "execute_result"
        }
      ],
      "source": [
        "raw_datasets[\"train\"][0]"
      ]
    },
    {
      "cell_type": "markdown",
      "metadata": {
        "id": "_6hsuFL1Bwa6"
      },
      "source": [
        "To get a sense of how the data looks like, the following function will show some examples picked randomly in the dataset."
      ]
    },
    {
      "cell_type": "code",
      "execution_count": null,
      "metadata": {
        "colab": {
          "base_uri": "https://localhost:8080/",
          "height": 258
        },
        "id": "1OE_CXoxx5Uh",
        "outputId": "35d51a8d-942b-4524-fb59-46517a820e6a"
      },
      "outputs": [
        {
          "data": {
            "text/html": [
              "<table border=\"1\" class=\"dataframe\">\n",
              "  <thead>\n",
              "    <tr style=\"text-align: right;\">\n",
              "      <th></th>\n",
              "      <th>translation</th>\n",
              "    </tr>\n",
              "  </thead>\n",
              "  <tbody>\n",
              "    <tr>\n",
              "      <th>0</th>\n",
              "      <td>{'en': 'Like , you can see here in the Rcif Plaza .', 'vi': 'Như bạn thấy ở đây , Rcif Plaza .'}</td>\n",
              "    </tr>\n",
              "    <tr>\n",
              "      <th>1</th>\n",
              "      <td>{'en': 'I &amp;apos;m not saying that they can &amp;apos;t live a beautiful , wonderful life .', 'vi': 'Tôi không nói rằng họ không thể sống một cuộc sống vui vẻ , tuyệt vời .'}</td>\n",
              "    </tr>\n",
              "    <tr>\n",
              "      <th>2</th>\n",
              "      <td>{'en': 'Human beings are works in progress that mistakenly think they &amp;apos;re finished .', 'vi': 'Con người là công việc còn dang dở lại lầm tưởng rằng mình đã xong xuôi .'}</td>\n",
              "    </tr>\n",
              "    <tr>\n",
              "      <th>3</th>\n",
              "      <td>{'en': 'I grew up in a traditional Mexican family .', 'vi': 'và lớn lên trong một gia đình đậm truyền thống Mexico .'}</td>\n",
              "    </tr>\n",
              "    <tr>\n",
              "      <th>4</th>\n",
              "      <td>{'en': 'That &amp;apos;s all the bad news .', 'vi': 'Đó là mọi tin xấu .'}</td>\n",
              "    </tr>\n",
              "  </tbody>\n",
              "</table>"
            ],
            "text/plain": [
              "<IPython.core.display.HTML object>"
            ]
          },
          "metadata": {},
          "output_type": "display_data"
        }
      ],
      "source": [
        "import datasets\n",
        "import random\n",
        "import pandas as pd\n",
        "from IPython.display import display, HTML\n",
        "def show_random_elements(dataset, num_examples=5):\n",
        "    assert num_examples <= len(dataset), \"Can't pick more elements than there are in the dataset.\"\n",
        "    picks = []\n",
        "    for _ in range(num_examples):\n",
        "        pick = random.randint(0, len(dataset)-1)\n",
        "        while pick in picks:\n",
        "            pick = random.randint(0, len(dataset)-1)\n",
        "        picks.append(pick)\n",
        "\n",
        "    df = pd.DataFrame(dataset[picks])\n",
        "    for column, typ in dataset.features.items():\n",
        "        if isinstance(typ, datasets.ClassLabel):\n",
        "            df[column] = df[column].transform(lambda i: typ.names[i])\n",
        "    display(HTML(df.to_html()))\n",
        "show_random_elements(raw_datasets[\"train\"])"
      ]
    },
    {
      "cell_type": "code",
      "execution_count": null,
      "metadata": {
        "colab": {
          "base_uri": "https://localhost:8080/"
        },
        "id": "oAHbdQH5x5Ui",
        "outputId": "36b5bc91-0959-4c91-f227-a6b7c5de35e2"
      },
      "outputs": [
        {
          "data": {
            "text/plain": [
              "Metric(name: \"sacrebleu\", features: {'predictions': Value(dtype='string', id='sequence'), 'references': Sequence(feature=Value(dtype='string', id='sequence'), length=-1, id='references')}, usage: \"\"\"\n",
              "Produces BLEU scores along with its sufficient statistics\n",
              "from a source against one or more references.\n",
              "\n",
              "Args:\n",
              "    predictions (`list` of `str`): list of translations to score. Each translation should be tokenized into a list of tokens.\n",
              "    references (`list` of `list` of `str`): A list of lists of references. The contents of the first sub-list are the references for the first prediction, the contents of the second sub-list are for the second prediction, etc. Note that there must be the same number of references for each prediction (i.e. all sub-lists must be of the same length).\n",
              "    smooth_method (`str`): The smoothing method to use, defaults to `'exp'`. Possible values are:\n",
              "        - `'none'`: no smoothing\n",
              "        - `'floor'`: increment zero counts\n",
              "        - `'add-k'`: increment num/denom by k for n>1\n",
              "        - `'exp'`: exponential decay\n",
              "    smooth_value (`float`): The smoothing value. Only valid when `smooth_method='floor'` (in which case `smooth_value` defaults to `0.1`) or `smooth_method='add-k'` (in which case `smooth_value` defaults to `1`).\n",
              "    tokenize (`str`): Tokenization method to use for BLEU. If not provided, defaults to `'zh'` for Chinese, `'ja-mecab'` for Japanese and `'13a'` (mteval) otherwise. Possible values are:\n",
              "        - `'none'`: No tokenization.\n",
              "        - `'zh'`: Chinese tokenization.\n",
              "        - `'13a'`: mimics the `mteval-v13a` script from Moses.\n",
              "        - `'intl'`: International tokenization, mimics the `mteval-v14` script from Moses\n",
              "        - `'char'`: Language-agnostic character-level tokenization.\n",
              "        - `'ja-mecab'`: Japanese tokenization. Uses the [MeCab tokenizer](https://pypi.org/project/mecab-python3).\n",
              "    lowercase (`bool`): If `True`, lowercases the input, enabling case-insensitivity. Defaults to `False`.\n",
              "    force (`bool`): If `True`, insists that your tokenized input is actually detokenized. Defaults to `False`.\n",
              "    use_effective_order (`bool`): If `True`, stops including n-gram orders for which precision is 0. This should be `True`, if sentence-level BLEU will be computed. Defaults to `False`.\n",
              "\n",
              "Returns:\n",
              "    'score': BLEU score,\n",
              "    'counts': Counts,\n",
              "    'totals': Totals,\n",
              "    'precisions': Precisions,\n",
              "    'bp': Brevity penalty,\n",
              "    'sys_len': predictions length,\n",
              "    'ref_len': reference length,\n",
              "\n",
              "Examples:\n",
              "\n",
              "    Example 1:\n",
              "        >>> predictions = [\"hello there general kenobi\", \"foo bar foobar\"]\n",
              "        >>> references = [[\"hello there general kenobi\", \"hello there !\"], [\"foo bar foobar\", \"foo bar foobar\"]]\n",
              "        >>> sacrebleu = datasets.load_metric(\"sacrebleu\")\n",
              "        >>> results = sacrebleu.compute(predictions=predictions, references=references)\n",
              "        >>> print(list(results.keys()))\n",
              "        ['score', 'counts', 'totals', 'precisions', 'bp', 'sys_len', 'ref_len']\n",
              "        >>> print(round(results[\"score\"], 1))\n",
              "        100.0\n",
              "\n",
              "    Example 2:\n",
              "        >>> predictions = [\"hello there general kenobi\",\n",
              "        ...                 \"on our way to ankh morpork\"]\n",
              "        >>> references = [[\"hello there general kenobi\", \"hello there !\"],\n",
              "        ...                 [\"goodbye ankh morpork\", \"ankh morpork\"]]\n",
              "        >>> sacrebleu = datasets.load_metric(\"sacrebleu\")\n",
              "        >>> results = sacrebleu.compute(predictions=predictions,\n",
              "        ...                             references=references)\n",
              "        >>> print(list(results.keys()))\n",
              "        ['score', 'counts', 'totals', 'precisions', 'bp', 'sys_len', 'ref_len']\n",
              "        >>> print(round(results[\"score\"], 1))\n",
              "        39.8\n",
              "\"\"\", stored examples: 0)"
            ]
          },
          "execution_count": 15,
          "metadata": {},
          "output_type": "execute_result"
        }
      ],
      "source": [
        "metric"
      ]
    },
    {
      "cell_type": "markdown",
      "metadata": {
        "id": "N6OLK8GQB8lK"
      },
      "source": [
        "You can call its compute method with your predictions and labels, which need to be list of decoded strings (list of list for the labels):"
      ]
    },
    {
      "cell_type": "code",
      "execution_count": null,
      "metadata": {
        "colab": {
          "base_uri": "https://localhost:8080/"
        },
        "id": "G24hShAwx5Uj",
        "outputId": "43d9224d-a400-42d0-c8b7-a87e1459b359"
      },
      "outputs": [
        {
          "data": {
            "text/plain": [
              "{'score': 0.0,\n",
              " 'counts': [4, 2, 0, 0],\n",
              " 'totals': [4, 2, 0, 0],\n",
              " 'precisions': [100.0, 100.0, 0.0, 0.0],\n",
              " 'bp': 1.0,\n",
              " 'sys_len': 4,\n",
              " 'ref_len': 4}"
            ]
          },
          "execution_count": 8,
          "metadata": {},
          "output_type": "execute_result"
        }
      ],
      "source": [
        "fake_preds = [\"hello there\", \"general kenobi\"]\n",
        "fake_labels = [[\"hello there\"], [\"general kenobi\"]]\n",
        "metric.compute(predictions=fake_preds, references=fake_labels)"
      ]
    },
    {
      "cell_type": "markdown",
      "metadata": {
        "id": "-6HmkA7uCWRa"
      },
      "source": [
        "# Preprocessing the data\n",
        "\n",
        "Before we can feed those texts to our model, we need to preprocess them. This is done by a Transformers Tokenizer which will (as the name indicates) tokenize the inputs (including converting the tokens to their corresponding IDs in the pretrained vocabulary) and put it in a format the model expects, as well as generate the other inputs that model requires.\n",
        "\n",
        "To do all of this, we instantiate our tokenizer with the AutoTokenizer.from_pretrained method, which will ensure:\n",
        "\n",
        "we get a tokenizer that corresponds to the model architecture we want to use,\n",
        "we download the vocabulary used when pretraining this specific checkpoint.\n",
        "That vocabulary will be cached, so it's not downloaded again the next time we run the cell.\n",
        "\n",
        "If you downloaded the model manually, you can provide model present directory instead of model_checkpoint"
      ]
    },
    {
      "cell_type": "code",
      "execution_count": null,
      "metadata": {
        "colab": {
          "base_uri": "https://localhost:8080/"
        },
        "id": "agDlgrOix5Uj",
        "outputId": "3cb9cf0e-b225-4554-a564-c632c00f1704"
      },
      "outputs": [
        {
          "name": "stderr",
          "output_type": "stream",
          "text": [
            "/usr/local/lib/python3.10/dist-packages/transformers/models/marian/tokenization_marian.py:175: UserWarning: Recommended: pip install sacremoses.\n",
            "  warnings.warn(\"Recommended: pip install sacremoses.\")\n"
          ]
        }
      ],
      "source": [
        "from transformers import AutoTokenizer\n",
        "\n",
        "tokenizer = AutoTokenizer.from_pretrained(model_checkpoint)"
      ]
    },
    {
      "cell_type": "markdown",
      "metadata": {
        "id": "zbih6yhKG9JB"
      },
      "source": [
        "You can directly call this tokenizer on one sentence or a pair of sentences:"
      ]
    },
    {
      "cell_type": "code",
      "execution_count": null,
      "metadata": {
        "colab": {
          "base_uri": "https://localhost:8080/"
        },
        "id": "j9XTBM27x5Uk",
        "outputId": "7d915967-6d12-4047-8f42-a1ccc8a51d05"
      },
      "outputs": [
        {
          "data": {
            "text/plain": [
              "{'input_ids': [[1247, 4, 63, 136, 6937, 17, 0], [251, 32, 714, 6937, 2, 0]], 'attention_mask': [[1, 1, 1, 1, 1, 1, 1], [1, 1, 1, 1, 1, 1]]}"
            ]
          },
          "execution_count": 11,
          "metadata": {},
          "output_type": "execute_result"
        }
      ],
      "source": [
        "tokenizer([\"Hello, this one sentence!\", \"This is another sentence.\"])"
      ]
    },
    {
      "cell_type": "markdown",
      "metadata": {
        "id": "Lf2HfvKdHCeS"
      },
      "source": [
        "To prepare the targets for our model, we need to tokenize them inside the as_target_tokenizer context manager. This will make sure the tokenizer uses the special tokens corresponding to the targets:"
      ]
    },
    {
      "cell_type": "code",
      "execution_count": null,
      "metadata": {
        "colab": {
          "base_uri": "https://localhost:8080/"
        },
        "id": "qvYg6BXJx5Ul",
        "outputId": "44dbf776-8d2e-4fbb-c53a-672c85796b50"
      },
      "outputs": [
        {
          "name": "stdout",
          "output_type": "stream",
          "text": [
            "{'input_ids': [[1247, 4, 63, 136, 18936, 29, 5540, 17, 0], [251, 32, 145, 8279, 18936, 29, 5540, 2, 0]], 'attention_mask': [[1, 1, 1, 1, 1, 1, 1, 1, 1], [1, 1, 1, 1, 1, 1, 1, 1, 1]]}\n"
          ]
        }
      ],
      "source": [
        "with tokenizer.as_target_tokenizer():\n",
        "    print(tokenizer([\"Hello, this one sentence!\", \"This is another sentence.\"]))"
      ]
    },
    {
      "cell_type": "markdown",
      "metadata": {
        "id": "AgjkiP5wHNc0"
      },
      "source": [
        "We can then write the function that will preprocess our samples. We just feed them to the tokenizer with the argument truncation=True. This will ensure that an input longer that what the model selected can handle will be truncated to the maximum length accepted by the model. The padding will be dealt with later on (in a data collator) so we pad examples to the longest length in the batch and not the whole dataset."
      ]
    },
    {
      "cell_type": "code",
      "execution_count": null,
      "metadata": {
        "id": "e1fnOpO6x5Um"
      },
      "outputs": [],
      "source": [
        "prefix = \"\"\n",
        "max_input_length = 128\n",
        "max_target_length = 128\n",
        "source_lang = \"en\"\n",
        "target_lang = \"vi\"\n",
        "def preprocess_function(examples):\n",
        "    inputs = [prefix + ex[source_lang] for ex in examples[\"translation\"]]\n",
        "    targets = [ex[target_lang] for ex in examples[\"translation\"]]\n",
        "    model_inputs = tokenizer(inputs, max_length=max_input_length, truncation=True)\n",
        "    # Setup the tokenizer for targets\n",
        "    with tokenizer.as_target_tokenizer():\n",
        "        labels = tokenizer(targets, max_length=max_target_length, truncation=True)\n",
        "    model_inputs[\"labels\"] = labels[\"input_ids\"]\n",
        "    return model_inputs"
      ]
    },
    {
      "cell_type": "code",
      "execution_count": null,
      "metadata": {
        "colab": {
          "base_uri": "https://localhost:8080/"
        },
        "id": "9uXJ6SFex5Un",
        "outputId": "eac4b0d2-bd9e-49bd-9802-bc9ba7f662e4"
      },
      "outputs": [
        {
          "data": {
            "text/plain": [
              "{'input_ids': [[2697, 19679, 302, 53, 100, 3753, 1769, 15, 8122, 21018, 0], [338, 1076, 1642, 302, 4, 33730, 24597, 2697, 19679, 5349, 15, 16436, 13, 7, 8568, 7178, 3754, 1769, 7, 10789, 22644, 56, 8122, 1333, 302, 4, 68, 184, 2158, 777, 136, 13, 3340, 174, 12707, 777, 1539, 15, 15275, 4528, 352, 7, 31076, 22, 10027, 13, 3451, 56, 15, 2556, 18930, 302, 2, 0]], 'attention_mask': [[1, 1, 1, 1, 1, 1, 1, 1, 1, 1, 1], [1, 1, 1, 1, 1, 1, 1, 1, 1, 1, 1, 1, 1, 1, 1, 1, 1, 1, 1, 1, 1, 1, 1, 1, 1, 1, 1, 1, 1, 1, 1, 1, 1, 1, 1, 1, 1, 1, 1, 1, 1, 1, 1, 1, 1, 1, 1, 1, 1, 1, 1, 1, 1, 1]], 'labels': [[9811, 266, 2378, 264, 27, 800, 381, 84, 862, 1802, 0], [553, 1076, 1158, 109, 1994, 324, 4905, 266, 862, 3529, 2697, 19679, 446, 3136, 842, 5683, 84, 46, 3007, 676, 1615, 266, 16186, 83, 232, 2378, 264, 46, 800, 381, 4648, 2137, 84, 860, 534, 862, 1802, 109, 192, 50, 1980, 1761, 509, 21, 110, 5, 33, 460, 1741, 26, 30, 6958, 4434, 34, 915, 1220, 44, 5, 33, 27, 2163, 911, 4031, 1172, 254, 2478, 1544, 77, 242, 872, 512, 179, 84, 27, 1065, 814, 357, 5870, 225, 0]]}"
            ]
          },
          "execution_count": 14,
          "metadata": {},
          "output_type": "execute_result"
        }
      ],
      "source": [
        "preprocess_function(raw_datasets['train'][:2])"
      ]
    },
    {
      "cell_type": "markdown",
      "metadata": {
        "id": "h8ZDByENHTtO"
      },
      "source": [
        "To apply this function on all the pairs of sentences in our dataset, we just use the map method of our dataset object we created earlier. This will apply the function on all the elements of all the splits in dataset, so our training, validation and testing data will be preprocessed in one single command"
      ]
    },
    {
      "cell_type": "code",
      "execution_count": null,
      "metadata": {
        "id": "uZlsJFZnx5Uo"
      },
      "outputs": [],
      "source": [
        "tokenized_datasets = raw_datasets.map(preprocess_function, batched=True)"
      ]
    },
    {
      "cell_type": "markdown",
      "metadata": {
        "id": "b4kA3jpsHcFE"
      },
      "source": [
        "## Fine-tuning the model"
      ]
    },
    {
      "cell_type": "markdown",
      "metadata": {
        "id": "ooZLnaC1HhBq"
      },
      "source": [
        "Now that our data is ready, we can download the pretrained model and fine-tune it. Since our task is of the sequence-to-sequence kind, we use the AutoModelForSeq2SeqLM class. Like with the tokenizer, the from_pretrained method will download and cache the model for us."
      ]
    },
    {
      "cell_type": "code",
      "execution_count": null,
      "metadata": {
        "id": "IvrIjd-Lx5Uq"
      },
      "outputs": [],
      "source": [
        "from transformers import AutoModelForSeq2SeqLM, DataCollatorForSeq2Seq, Seq2SeqTrainingArguments, Seq2SeqTrainer\n",
        "model = AutoModelForSeq2SeqLM.from_pretrained(model_checkpoint)"
      ]
    },
    {
      "cell_type": "markdown",
      "metadata": {
        "id": "jPagNnmWHoQW"
      },
      "source": [
        "To instantiate a Seq2SeqTrainer, we will need to define three more things. The most important is the [Seq2SeqTrainingArguments](https://huggingface.co/transformers/main_classes/trainer.html#transformers.Seq2SeqTrainingArguments), which is a class that contains all the attributes to customize the training. It requires one folder name, which will be used to save the checkpoints of the model, and all other arguments are optional:"
      ]
    },
    {
      "cell_type": "code",
      "execution_count": null,
      "metadata": {
        "id": "qk2p1KEwx5Ur"
      },
      "outputs": [],
      "source": [
        "batch_size = 16\n",
        "model_name = model_checkpoint.split(\"/\")[-1]\n",
        "args = Seq2SeqTrainingArguments(\n",
        "    f\"{model_name}-finetuned-{source_lang}-to-{target_lang}\",\n",
        "    evaluation_strategy = \"epoch\",\n",
        "    learning_rate=2e-5,\n",
        "    per_device_train_batch_size=batch_size,\n",
        "    per_device_eval_batch_size=batch_size,\n",
        "    weight_decay=0.01,\n",
        "    save_total_limit=3,\n",
        "    num_train_epochs=1,\n",
        "    predict_with_generate=True\n",
        ")"
      ]
    },
    {
      "cell_type": "markdown",
      "metadata": {
        "id": "t9UUwvXCH8Op"
      },
      "source": [
        "Here we set the evaluation to be done at the end of each epoch, tweak the learning rate, use the batch_size defined at the top of the cell and customize the weight decay. Since the Seq2SeqTrainer will save the model regularly and our dataset is quite large, we tell it to make three saves maximum. Lastly, we use the predict_with_generate option (to properly generate summaries) and activate mixed precision training (to go a bit faster).\n",
        "\n",
        "Model will save under **{model_name}-finetuned-{source_lang}-to-{target_lang}** directory\n",
        "\n",
        "Then, we need a special kind of data collator, which will not only pad the inputs to the maximum length in the batch, but also the labels:"
      ]
    },
    {
      "cell_type": "code",
      "execution_count": null,
      "metadata": {
        "colab": {
          "base_uri": "https://localhost:8080/"
        },
        "id": "Oat3xRW7Mgv6",
        "outputId": "9b39a740-8b84-4711-8600-56de551759d3"
      },
      "outputs": [
        {
          "name": "stdout",
          "output_type": "stream",
          "text": [
            "Mounted at /content/drive\n"
          ]
        }
      ],
      "source": [
        "# from google.colab import drive\n",
        "# drive.mount('/content/drive')"
      ]
    },
    {
      "cell_type": "code",
      "execution_count": null,
      "metadata": {
        "colab": {
          "base_uri": "https://localhost:8080/"
        },
        "id": "-ofSt39wEbLa",
        "outputId": "b297dbe2-71c3-4936-db13-932b6f6e2558"
      },
      "outputs": [
        {
          "name": "stdout",
          "output_type": "stream",
          "text": [
            "/content/drive/MyDrive/mt-en-vi-finetune\n"
          ]
        }
      ],
      "source": [
        "# %cd /content/drive/MyDrive/mt-en-vi-finetune"
      ]
    },
    {
      "cell_type": "code",
      "execution_count": null,
      "metadata": {
        "id": "qV9wfuvZx5Us"
      },
      "outputs": [],
      "source": [
        "data_collator = DataCollatorForSeq2Seq(tokenizer, model=model)"
      ]
    },
    {
      "cell_type": "markdown",
      "metadata": {
        "id": "Jw7by60eH_p5"
      },
      "source": [
        "The last thing to define for our Seq2SeqTrainer is how to compute the metrics from the predictions. We need to define a function for this, which will just use the metric we loaded earlier, and we have to do a bit of pre-processing to decode the predictions into texts:"
      ]
    },
    {
      "cell_type": "code",
      "execution_count": null,
      "metadata": {
        "id": "mHqp_FFhx5Uu"
      },
      "outputs": [],
      "source": [
        "import numpy as np\n",
        "def postprocess_text(preds, labels):\n",
        "    preds = [pred.strip() for pred in preds]\n",
        "    labels = [[label.strip()] for label in labels]\n",
        "    return preds, labels\n",
        "def compute_metrics(eval_preds):\n",
        "    preds, labels = eval_preds\n",
        "    if isinstance(preds, tuple):\n",
        "        preds = preds[0]\n",
        "    decoded_preds = tokenizer.batch_decode(preds, skip_special_tokens=True)\n",
        "    # Replace -100 in the labels as we can't decode them.\n",
        "    labels = np.where(labels != -100, labels, tokenizer.pad_token_id)\n",
        "    decoded_labels = tokenizer.batch_decode(labels, skip_special_tokens=True)\n",
        "    # Some simple post-processing\n",
        "    decoded_preds, decoded_labels = postprocess_text(decoded_preds, decoded_labels)\n",
        "    result = metric.compute(predictions=decoded_preds, references=decoded_labels)\n",
        "    result = {\"bleu\": result[\"score\"]}\n",
        "    prediction_lens = [np.count_nonzero(pred != tokenizer.pad_token_id) for pred in preds]\n",
        "    result[\"gen_len\"] = np.mean(prediction_lens)\n",
        "    result = {k: round(v, 4) for k, v in result.items()}\n",
        "    return result"
      ]
    },
    {
      "cell_type": "markdown",
      "metadata": {
        "id": "E_XK7px-IDkC"
      },
      "source": [
        "Then we just need to pass all of this along with our datasets to the Seq2SeqTrainer:"
      ]
    },
    {
      "cell_type": "code",
      "execution_count": null,
      "metadata": {
        "id": "c7zuF8rLx5Uy"
      },
      "outputs": [],
      "source": [
        "trainer = Seq2SeqTrainer(\n",
        "    model,\n",
        "    args,\n",
        "    train_dataset=tokenized_datasets[\"train\"],\n",
        "    eval_dataset=tokenized_datasets[\"validation\"],\n",
        "    data_collator=data_collator,\n",
        "    tokenizer=tokenizer,\n",
        "    compute_metrics=compute_metrics\n",
        ")"
      ]
    },
    {
      "cell_type": "markdown",
      "metadata": {
        "id": "W1TskjmQIGKd"
      },
      "source": [
        "We can now finetune our model by just calling the train method:"
      ]
    },
    {
      "cell_type": "code",
      "execution_count": null,
      "metadata": {
        "colab": {
          "background_save": true,
          "base_uri": "https://localhost:8080/",
          "height": 1000
        },
        "id": "sonIRAfDx5Uz",
        "outputId": "8b4a37db-8d26-44ad-dec7-2c0dec6d9ce8"
      },
      "outputs": [
        {
          "data": {
            "text/html": [
              "\n",
              "    <div>\n",
              "      \n",
              "      <progress value='29001' max='99990' style='width:300px; height:20px; vertical-align: middle;'></progress>\n",
              "      [29001/99990 55:02 < 2:14:44, 8.78 it/s, Epoch 0.87/3]\n",
              "    </div>\n",
              "    <table border=\"1\" class=\"dataframe\">\n",
              "  <thead>\n",
              " <tr style=\"text-align: left;\">\n",
              "      <th>Epoch</th>\n",
              "      <th>Training Loss</th>\n",
              "      <th>Validation Loss</th>\n",
              "    </tr>\n",
              "  </thead>\n",
              "  <tbody>\n",
              "  </tbody>\n",
              "</table><p>"
            ],
            "text/plain": [
              "<IPython.core.display.HTML object>"
            ]
          },
          "metadata": {},
          "output_type": "display_data"
        },
        {
          "name": "stderr",
          "output_type": "stream",
          "text": [
            "Some non-default generation parameters are set in the model config. These should go into a GenerationConfig file (https://huggingface.co/docs/transformers/generation_strategies#save-a-custom-decoding-strategy-with-your-model) instead. This warning will be raised to an exception in v4.41.\n",
            "Non-default generation parameters: {'max_length': 512, 'num_beams': 4, 'bad_words_ids': [[53684]], 'forced_eos_token_id': 0}\n",
            "Some non-default generation parameters are set in the model config. These should go into a GenerationConfig file (https://huggingface.co/docs/transformers/generation_strategies#save-a-custom-decoding-strategy-with-your-model) instead. This warning will be raised to an exception in v4.41.\n",
            "Non-default generation parameters: {'max_length': 512, 'num_beams': 4, 'bad_words_ids': [[53684]], 'forced_eos_token_id': 0}\n",
            "Some non-default generation parameters are set in the model config. These should go into a GenerationConfig file (https://huggingface.co/docs/transformers/generation_strategies#save-a-custom-decoding-strategy-with-your-model) instead. This warning will be raised to an exception in v4.41.\n",
            "Non-default generation parameters: {'max_length': 512, 'num_beams': 4, 'bad_words_ids': [[53684]], 'forced_eos_token_id': 0}\n",
            "Some non-default generation parameters are set in the model config. These should go into a GenerationConfig file (https://huggingface.co/docs/transformers/generation_strategies#save-a-custom-decoding-strategy-with-your-model) instead. This warning will be raised to an exception in v4.41.\n",
            "Non-default generation parameters: {'max_length': 512, 'num_beams': 4, 'bad_words_ids': [[53684]], 'forced_eos_token_id': 0}\n",
            "Some non-default generation parameters are set in the model config. These should go into a GenerationConfig file (https://huggingface.co/docs/transformers/generation_strategies#save-a-custom-decoding-strategy-with-your-model) instead. This warning will be raised to an exception in v4.41.\n",
            "Non-default generation parameters: {'max_length': 512, 'num_beams': 4, 'bad_words_ids': [[53684]], 'forced_eos_token_id': 0}\n",
            "Some non-default generation parameters are set in the model config. These should go into a GenerationConfig file (https://huggingface.co/docs/transformers/generation_strategies#save-a-custom-decoding-strategy-with-your-model) instead. This warning will be raised to an exception in v4.41.\n",
            "Non-default generation parameters: {'max_length': 512, 'num_beams': 4, 'bad_words_ids': [[53684]], 'forced_eos_token_id': 0}\n",
            "Some non-default generation parameters are set in the model config. These should go into a GenerationConfig file (https://huggingface.co/docs/transformers/generation_strategies#save-a-custom-decoding-strategy-with-your-model) instead. This warning will be raised to an exception in v4.41.\n",
            "Non-default generation parameters: {'max_length': 512, 'num_beams': 4, 'bad_words_ids': [[53684]], 'forced_eos_token_id': 0}\n",
            "Some non-default generation parameters are set in the model config. These should go into a GenerationConfig file (https://huggingface.co/docs/transformers/generation_strategies#save-a-custom-decoding-strategy-with-your-model) instead. This warning will be raised to an exception in v4.41.\n",
            "Non-default generation parameters: {'max_length': 512, 'num_beams': 4, 'bad_words_ids': [[53684]], 'forced_eos_token_id': 0}\n",
            "Some non-default generation parameters are set in the model config. These should go into a GenerationConfig file (https://huggingface.co/docs/transformers/generation_strategies#save-a-custom-decoding-strategy-with-your-model) instead. This warning will be raised to an exception in v4.41.\n",
            "Non-default generation parameters: {'max_length': 512, 'num_beams': 4, 'bad_words_ids': [[53684]], 'forced_eos_token_id': 0}\n",
            "Some non-default generation parameters are set in the model config. These should go into a GenerationConfig file (https://huggingface.co/docs/transformers/generation_strategies#save-a-custom-decoding-strategy-with-your-model) instead. This warning will be raised to an exception in v4.41.\n",
            "Non-default generation parameters: {'max_length': 512, 'num_beams': 4, 'bad_words_ids': [[53684]], 'forced_eos_token_id': 0}\n",
            "Some non-default generation parameters are set in the model config. These should go into a GenerationConfig file (https://huggingface.co/docs/transformers/generation_strategies#save-a-custom-decoding-strategy-with-your-model) instead. This warning will be raised to an exception in v4.41.\n",
            "Non-default generation parameters: {'max_length': 512, 'num_beams': 4, 'bad_words_ids': [[53684]], 'forced_eos_token_id': 0}\n",
            "Some non-default generation parameters are set in the model config. These should go into a GenerationConfig file (https://huggingface.co/docs/transformers/generation_strategies#save-a-custom-decoding-strategy-with-your-model) instead. This warning will be raised to an exception in v4.41.\n",
            "Non-default generation parameters: {'max_length': 512, 'num_beams': 4, 'bad_words_ids': [[53684]], 'forced_eos_token_id': 0}\n",
            "Some non-default generation parameters are set in the model config. These should go into a GenerationConfig file (https://huggingface.co/docs/transformers/generation_strategies#save-a-custom-decoding-strategy-with-your-model) instead. This warning will be raised to an exception in v4.41.\n",
            "Non-default generation parameters: {'max_length': 512, 'num_beams': 4, 'bad_words_ids': [[53684]], 'forced_eos_token_id': 0}\n",
            "Some non-default generation parameters are set in the model config. These should go into a GenerationConfig file (https://huggingface.co/docs/transformers/generation_strategies#save-a-custom-decoding-strategy-with-your-model) instead. This warning will be raised to an exception in v4.41.\n",
            "Non-default generation parameters: {'max_length': 512, 'num_beams': 4, 'bad_words_ids': [[53684]], 'forced_eos_token_id': 0}\n",
            "Some non-default generation parameters are set in the model config. These should go into a GenerationConfig file (https://huggingface.co/docs/transformers/generation_strategies#save-a-custom-decoding-strategy-with-your-model) instead. This warning will be raised to an exception in v4.41.\n",
            "Non-default generation parameters: {'max_length': 512, 'num_beams': 4, 'bad_words_ids': [[53684]], 'forced_eos_token_id': 0}\n",
            "Some non-default generation parameters are set in the model config. These should go into a GenerationConfig file (https://huggingface.co/docs/transformers/generation_strategies#save-a-custom-decoding-strategy-with-your-model) instead. This warning will be raised to an exception in v4.41.\n",
            "Non-default generation parameters: {'max_length': 512, 'num_beams': 4, 'bad_words_ids': [[53684]], 'forced_eos_token_id': 0}\n",
            "Some non-default generation parameters are set in the model config. These should go into a GenerationConfig file (https://huggingface.co/docs/transformers/generation_strategies#save-a-custom-decoding-strategy-with-your-model) instead. This warning will be raised to an exception in v4.41.\n",
            "Non-default generation parameters: {'max_length': 512, 'num_beams': 4, 'bad_words_ids': [[53684]], 'forced_eos_token_id': 0}\n",
            "Some non-default generation parameters are set in the model config. These should go into a GenerationConfig file (https://huggingface.co/docs/transformers/generation_strategies#save-a-custom-decoding-strategy-with-your-model) instead. This warning will be raised to an exception in v4.41.\n",
            "Non-default generation parameters: {'max_length': 512, 'num_beams': 4, 'bad_words_ids': [[53684]], 'forced_eos_token_id': 0}\n",
            "Some non-default generation parameters are set in the model config. These should go into a GenerationConfig file (https://huggingface.co/docs/transformers/generation_strategies#save-a-custom-decoding-strategy-with-your-model) instead. This warning will be raised to an exception in v4.41.\n",
            "Non-default generation parameters: {'max_length': 512, 'num_beams': 4, 'bad_words_ids': [[53684]], 'forced_eos_token_id': 0}\n",
            "Some non-default generation parameters are set in the model config. These should go into a GenerationConfig file (https://huggingface.co/docs/transformers/generation_strategies#save-a-custom-decoding-strategy-with-your-model) instead. This warning will be raised to an exception in v4.41.\n",
            "Non-default generation parameters: {'max_length': 512, 'num_beams': 4, 'bad_words_ids': [[53684]], 'forced_eos_token_id': 0}\n",
            "Some non-default generation parameters are set in the model config. These should go into a GenerationConfig file (https://huggingface.co/docs/transformers/generation_strategies#save-a-custom-decoding-strategy-with-your-model) instead. This warning will be raised to an exception in v4.41.\n",
            "Non-default generation parameters: {'max_length': 512, 'num_beams': 4, 'bad_words_ids': [[53684]], 'forced_eos_token_id': 0}\n",
            "Some non-default generation parameters are set in the model config. These should go into a GenerationConfig file (https://huggingface.co/docs/transformers/generation_strategies#save-a-custom-decoding-strategy-with-your-model) instead. This warning will be raised to an exception in v4.41.\n",
            "Non-default generation parameters: {'max_length': 512, 'num_beams': 4, 'bad_words_ids': [[53684]], 'forced_eos_token_id': 0}\n",
            "Some non-default generation parameters are set in the model config. These should go into a GenerationConfig file (https://huggingface.co/docs/transformers/generation_strategies#save-a-custom-decoding-strategy-with-your-model) instead. This warning will be raised to an exception in v4.41.\n",
            "Non-default generation parameters: {'max_length': 512, 'num_beams': 4, 'bad_words_ids': [[53684]], 'forced_eos_token_id': 0}\n",
            "Some non-default generation parameters are set in the model config. These should go into a GenerationConfig file (https://huggingface.co/docs/transformers/generation_strategies#save-a-custom-decoding-strategy-with-your-model) instead. This warning will be raised to an exception in v4.41.\n",
            "Non-default generation parameters: {'max_length': 512, 'num_beams': 4, 'bad_words_ids': [[53684]], 'forced_eos_token_id': 0}\n",
            "Some non-default generation parameters are set in the model config. These should go into a GenerationConfig file (https://huggingface.co/docs/transformers/generation_strategies#save-a-custom-decoding-strategy-with-your-model) instead. This warning will be raised to an exception in v4.41.\n",
            "Non-default generation parameters: {'max_length': 512, 'num_beams': 4, 'bad_words_ids': [[53684]], 'forced_eos_token_id': 0}\n",
            "Some non-default generation parameters are set in the model config. These should go into a GenerationConfig file (https://huggingface.co/docs/transformers/generation_strategies#save-a-custom-decoding-strategy-with-your-model) instead. This warning will be raised to an exception in v4.41.\n",
            "Non-default generation parameters: {'max_length': 512, 'num_beams': 4, 'bad_words_ids': [[53684]], 'forced_eos_token_id': 0}\n",
            "Some non-default generation parameters are set in the model config. These should go into a GenerationConfig file (https://huggingface.co/docs/transformers/generation_strategies#save-a-custom-decoding-strategy-with-your-model) instead. This warning will be raised to an exception in v4.41.\n",
            "Non-default generation parameters: {'max_length': 512, 'num_beams': 4, 'bad_words_ids': [[53684]], 'forced_eos_token_id': 0}\n",
            "Some non-default generation parameters are set in the model config. These should go into a GenerationConfig file (https://huggingface.co/docs/transformers/generation_strategies#save-a-custom-decoding-strategy-with-your-model) instead. This warning will be raised to an exception in v4.41.\n",
            "Non-default generation parameters: {'max_length': 512, 'num_beams': 4, 'bad_words_ids': [[53684]], 'forced_eos_token_id': 0}\n",
            "Some non-default generation parameters are set in the model config. These should go into a GenerationConfig file (https://huggingface.co/docs/transformers/generation_strategies#save-a-custom-decoding-strategy-with-your-model) instead. This warning will be raised to an exception in v4.41.\n",
            "Non-default generation parameters: {'max_length': 512, 'num_beams': 4, 'bad_words_ids': [[53684]], 'forced_eos_token_id': 0}\n",
            "Some non-default generation parameters are set in the model config. These should go into a GenerationConfig file (https://huggingface.co/docs/transformers/generation_strategies#save-a-custom-decoding-strategy-with-your-model) instead. This warning will be raised to an exception in v4.41.\n",
            "Non-default generation parameters: {'max_length': 512, 'num_beams': 4, 'bad_words_ids': [[53684]], 'forced_eos_token_id': 0}\n",
            "Some non-default generation parameters are set in the model config. These should go into a GenerationConfig file (https://huggingface.co/docs/transformers/generation_strategies#save-a-custom-decoding-strategy-with-your-model) instead. This warning will be raised to an exception in v4.41.\n",
            "Non-default generation parameters: {'max_length': 512, 'num_beams': 4, 'bad_words_ids': [[53684]], 'forced_eos_token_id': 0}\n",
            "Some non-default generation parameters are set in the model config. These should go into a GenerationConfig file (https://huggingface.co/docs/transformers/generation_strategies#save-a-custom-decoding-strategy-with-your-model) instead. This warning will be raised to an exception in v4.41.\n",
            "Non-default generation parameters: {'max_length': 512, 'num_beams': 4, 'bad_words_ids': [[53684]], 'forced_eos_token_id': 0}\n",
            "Some non-default generation parameters are set in the model config. These should go into a GenerationConfig file (https://huggingface.co/docs/transformers/generation_strategies#save-a-custom-decoding-strategy-with-your-model) instead. This warning will be raised to an exception in v4.41.\n",
            "Non-default generation parameters: {'max_length': 512, 'num_beams': 4, 'bad_words_ids': [[53684]], 'forced_eos_token_id': 0}\n",
            "Some non-default generation parameters are set in the model config. These should go into a GenerationConfig file (https://huggingface.co/docs/transformers/generation_strategies#save-a-custom-decoding-strategy-with-your-model) instead. This warning will be raised to an exception in v4.41.\n",
            "Non-default generation parameters: {'max_length': 512, 'num_beams': 4, 'bad_words_ids': [[53684]], 'forced_eos_token_id': 0}\n",
            "Some non-default generation parameters are set in the model config. These should go into a GenerationConfig file (https://huggingface.co/docs/transformers/generation_strategies#save-a-custom-decoding-strategy-with-your-model) instead. This warning will be raised to an exception in v4.41.\n",
            "Non-default generation parameters: {'max_length': 512, 'num_beams': 4, 'bad_words_ids': [[53684]], 'forced_eos_token_id': 0}\n",
            "Some non-default generation parameters are set in the model config. These should go into a GenerationConfig file (https://huggingface.co/docs/transformers/generation_strategies#save-a-custom-decoding-strategy-with-your-model) instead. This warning will be raised to an exception in v4.41.\n",
            "Non-default generation parameters: {'max_length': 512, 'num_beams': 4, 'bad_words_ids': [[53684]], 'forced_eos_token_id': 0}\n",
            "Some non-default generation parameters are set in the model config. These should go into a GenerationConfig file (https://huggingface.co/docs/transformers/generation_strategies#save-a-custom-decoding-strategy-with-your-model) instead. This warning will be raised to an exception in v4.41.\n",
            "Non-default generation parameters: {'max_length': 512, 'num_beams': 4, 'bad_words_ids': [[53684]], 'forced_eos_token_id': 0}\n",
            "Some non-default generation parameters are set in the model config. These should go into a GenerationConfig file (https://huggingface.co/docs/transformers/generation_strategies#save-a-custom-decoding-strategy-with-your-model) instead. This warning will be raised to an exception in v4.41.\n",
            "Non-default generation parameters: {'max_length': 512, 'num_beams': 4, 'bad_words_ids': [[53684]], 'forced_eos_token_id': 0}\n",
            "Some non-default generation parameters are set in the model config. These should go into a GenerationConfig file (https://huggingface.co/docs/transformers/generation_strategies#save-a-custom-decoding-strategy-with-your-model) instead. This warning will be raised to an exception in v4.41.\n",
            "Non-default generation parameters: {'max_length': 512, 'num_beams': 4, 'bad_words_ids': [[53684]], 'forced_eos_token_id': 0}\n",
            "Some non-default generation parameters are set in the model config. These should go into a GenerationConfig file (https://huggingface.co/docs/transformers/generation_strategies#save-a-custom-decoding-strategy-with-your-model) instead. This warning will be raised to an exception in v4.41.\n",
            "Non-default generation parameters: {'max_length': 512, 'num_beams': 4, 'bad_words_ids': [[53684]], 'forced_eos_token_id': 0}\n",
            "Some non-default generation parameters are set in the model config. These should go into a GenerationConfig file (https://huggingface.co/docs/transformers/generation_strategies#save-a-custom-decoding-strategy-with-your-model) instead. This warning will be raised to an exception in v4.41.\n",
            "Non-default generation parameters: {'max_length': 512, 'num_beams': 4, 'bad_words_ids': [[53684]], 'forced_eos_token_id': 0}\n",
            "Some non-default generation parameters are set in the model config. These should go into a GenerationConfig file (https://huggingface.co/docs/transformers/generation_strategies#save-a-custom-decoding-strategy-with-your-model) instead. This warning will be raised to an exception in v4.41.\n",
            "Non-default generation parameters: {'max_length': 512, 'num_beams': 4, 'bad_words_ids': [[53684]], 'forced_eos_token_id': 0}\n",
            "Some non-default generation parameters are set in the model config. These should go into a GenerationConfig file (https://huggingface.co/docs/transformers/generation_strategies#save-a-custom-decoding-strategy-with-your-model) instead. This warning will be raised to an exception in v4.41.\n",
            "Non-default generation parameters: {'max_length': 512, 'num_beams': 4, 'bad_words_ids': [[53684]], 'forced_eos_token_id': 0}\n",
            "Some non-default generation parameters are set in the model config. These should go into a GenerationConfig file (https://huggingface.co/docs/transformers/generation_strategies#save-a-custom-decoding-strategy-with-your-model) instead. This warning will be raised to an exception in v4.41.\n",
            "Non-default generation parameters: {'max_length': 512, 'num_beams': 4, 'bad_words_ids': [[53684]], 'forced_eos_token_id': 0}\n",
            "Some non-default generation parameters are set in the model config. These should go into a GenerationConfig file (https://huggingface.co/docs/transformers/generation_strategies#save-a-custom-decoding-strategy-with-your-model) instead. This warning will be raised to an exception in v4.41.\n",
            "Non-default generation parameters: {'max_length': 512, 'num_beams': 4, 'bad_words_ids': [[53684]], 'forced_eos_token_id': 0}\n",
            "Some non-default generation parameters are set in the model config. These should go into a GenerationConfig file (https://huggingface.co/docs/transformers/generation_strategies#save-a-custom-decoding-strategy-with-your-model) instead. This warning will be raised to an exception in v4.41.\n",
            "Non-default generation parameters: {'max_length': 512, 'num_beams': 4, 'bad_words_ids': [[53684]], 'forced_eos_token_id': 0}\n",
            "Some non-default generation parameters are set in the model config. These should go into a GenerationConfig file (https://huggingface.co/docs/transformers/generation_strategies#save-a-custom-decoding-strategy-with-your-model) instead. This warning will be raised to an exception in v4.41.\n",
            "Non-default generation parameters: {'max_length': 512, 'num_beams': 4, 'bad_words_ids': [[53684]], 'forced_eos_token_id': 0}\n",
            "Some non-default generation parameters are set in the model config. These should go into a GenerationConfig file (https://huggingface.co/docs/transformers/generation_strategies#save-a-custom-decoding-strategy-with-your-model) instead. This warning will be raised to an exception in v4.41.\n",
            "Non-default generation parameters: {'max_length': 512, 'num_beams': 4, 'bad_words_ids': [[53684]], 'forced_eos_token_id': 0}\n",
            "Some non-default generation parameters are set in the model config. These should go into a GenerationConfig file (https://huggingface.co/docs/transformers/generation_strategies#save-a-custom-decoding-strategy-with-your-model) instead. This warning will be raised to an exception in v4.41.\n",
            "Non-default generation parameters: {'max_length': 512, 'num_beams': 4, 'bad_words_ids': [[53684]], 'forced_eos_token_id': 0}\n",
            "Some non-default generation parameters are set in the model config. These should go into a GenerationConfig file (https://huggingface.co/docs/transformers/generation_strategies#save-a-custom-decoding-strategy-with-your-model) instead. This warning will be raised to an exception in v4.41.\n",
            "Non-default generation parameters: {'max_length': 512, 'num_beams': 4, 'bad_words_ids': [[53684]], 'forced_eos_token_id': 0}\n",
            "Some non-default generation parameters are set in the model config. These should go into a GenerationConfig file (https://huggingface.co/docs/transformers/generation_strategies#save-a-custom-decoding-strategy-with-your-model) instead. This warning will be raised to an exception in v4.41.\n",
            "Non-default generation parameters: {'max_length': 512, 'num_beams': 4, 'bad_words_ids': [[53684]], 'forced_eos_token_id': 0}\n",
            "Some non-default generation parameters are set in the model config. These should go into a GenerationConfig file (https://huggingface.co/docs/transformers/generation_strategies#save-a-custom-decoding-strategy-with-your-model) instead. This warning will be raised to an exception in v4.41.\n",
            "Non-default generation parameters: {'max_length': 512, 'num_beams': 4, 'bad_words_ids': [[53684]], 'forced_eos_token_id': 0}\n",
            "Some non-default generation parameters are set in the model config. These should go into a GenerationConfig file (https://huggingface.co/docs/transformers/generation_strategies#save-a-custom-decoding-strategy-with-your-model) instead. This warning will be raised to an exception in v4.41.\n",
            "Non-default generation parameters: {'max_length': 512, 'num_beams': 4, 'bad_words_ids': [[53684]], 'forced_eos_token_id': 0}\n",
            "Some non-default generation parameters are set in the model config. These should go into a GenerationConfig file (https://huggingface.co/docs/transformers/generation_strategies#save-a-custom-decoding-strategy-with-your-model) instead. This warning will be raised to an exception in v4.41.\n",
            "Non-default generation parameters: {'max_length': 512, 'num_beams': 4, 'bad_words_ids': [[53684]], 'forced_eos_token_id': 0}\n",
            "Some non-default generation parameters are set in the model config. These should go into a GenerationConfig file (https://huggingface.co/docs/transformers/generation_strategies#save-a-custom-decoding-strategy-with-your-model) instead. This warning will be raised to an exception in v4.41.\n",
            "Non-default generation parameters: {'max_length': 512, 'num_beams': 4, 'bad_words_ids': [[53684]], 'forced_eos_token_id': 0}\n",
            "Some non-default generation parameters are set in the model config. These should go into a GenerationConfig file (https://huggingface.co/docs/transformers/generation_strategies#save-a-custom-decoding-strategy-with-your-model) instead. This warning will be raised to an exception in v4.41.\n",
            "Non-default generation parameters: {'max_length': 512, 'num_beams': 4, 'bad_words_ids': [[53684]], 'forced_eos_token_id': 0}\n",
            "Some non-default generation parameters are set in the model config. These should go into a GenerationConfig file (https://huggingface.co/docs/transformers/generation_strategies#save-a-custom-decoding-strategy-with-your-model) instead. This warning will be raised to an exception in v4.41.\n",
            "Non-default generation parameters: {'max_length': 512, 'num_beams': 4, 'bad_words_ids': [[53684]], 'forced_eos_token_id': 0}\n",
            "Some non-default generation parameters are set in the model config. These should go into a GenerationConfig file (https://huggingface.co/docs/transformers/generation_strategies#save-a-custom-decoding-strategy-with-your-model) instead. This warning will be raised to an exception in v4.41.\n",
            "Non-default generation parameters: {'max_length': 512, 'num_beams': 4, 'bad_words_ids': [[53684]], 'forced_eos_token_id': 0}\n"
          ]
        },
        {
          "ename": "RuntimeError",
          "evalue": "[enforce fail at inline_container.cc:595] . unexpected pos 244244352 vs 244244240",
          "output_type": "error",
          "traceback": [
            "\u001b[0;31m---------------------------------------------------------------------------\u001b[0m",
            "\u001b[0;31mRuntimeError\u001b[0m                              Traceback (most recent call last)",
            "\u001b[0;32m/usr/local/lib/python3.10/dist-packages/torch/serialization.py\u001b[0m in \u001b[0;36msave\u001b[0;34m(obj, f, pickle_module, pickle_protocol, _use_new_zipfile_serialization, _disable_byteorder_record)\u001b[0m\n\u001b[1;32m    628\u001b[0m         \u001b[0;32mwith\u001b[0m \u001b[0m_open_zipfile_writer\u001b[0m\u001b[0;34m(\u001b[0m\u001b[0mf\u001b[0m\u001b[0;34m)\u001b[0m \u001b[0;32mas\u001b[0m \u001b[0mopened_zipfile\u001b[0m\u001b[0;34m:\u001b[0m\u001b[0;34m\u001b[0m\u001b[0;34m\u001b[0m\u001b[0m\n\u001b[0;32m--> 629\u001b[0;31m             \u001b[0m_save\u001b[0m\u001b[0;34m(\u001b[0m\u001b[0mobj\u001b[0m\u001b[0;34m,\u001b[0m \u001b[0mopened_zipfile\u001b[0m\u001b[0;34m,\u001b[0m \u001b[0mpickle_module\u001b[0m\u001b[0;34m,\u001b[0m \u001b[0mpickle_protocol\u001b[0m\u001b[0;34m,\u001b[0m \u001b[0m_disable_byteorder_record\u001b[0m\u001b[0;34m)\u001b[0m\u001b[0;34m\u001b[0m\u001b[0;34m\u001b[0m\u001b[0m\n\u001b[0m\u001b[1;32m    630\u001b[0m             \u001b[0;32mreturn\u001b[0m\u001b[0;34m\u001b[0m\u001b[0;34m\u001b[0m\u001b[0m\n",
            "\u001b[0;32m/usr/local/lib/python3.10/dist-packages/torch/serialization.py\u001b[0m in \u001b[0;36m_save\u001b[0;34m(obj, zip_file, pickle_module, pickle_protocol, _disable_byteorder_record)\u001b[0m\n\u001b[1;32m    862\u001b[0m         \u001b[0mnum_bytes\u001b[0m \u001b[0;34m=\u001b[0m \u001b[0mstorage\u001b[0m\u001b[0;34m.\u001b[0m\u001b[0mnbytes\u001b[0m\u001b[0;34m(\u001b[0m\u001b[0;34m)\u001b[0m\u001b[0;34m\u001b[0m\u001b[0;34m\u001b[0m\u001b[0m\n\u001b[0;32m--> 863\u001b[0;31m         \u001b[0mzip_file\u001b[0m\u001b[0;34m.\u001b[0m\u001b[0mwrite_record\u001b[0m\u001b[0;34m(\u001b[0m\u001b[0mname\u001b[0m\u001b[0;34m,\u001b[0m \u001b[0mstorage\u001b[0m\u001b[0;34m.\u001b[0m\u001b[0mdata_ptr\u001b[0m\u001b[0;34m(\u001b[0m\u001b[0;34m)\u001b[0m\u001b[0;34m,\u001b[0m \u001b[0mnum_bytes\u001b[0m\u001b[0;34m)\u001b[0m\u001b[0;34m\u001b[0m\u001b[0;34m\u001b[0m\u001b[0m\n\u001b[0m\u001b[1;32m    864\u001b[0m \u001b[0;34m\u001b[0m\u001b[0m\n",
            "\u001b[0;31mRuntimeError\u001b[0m: [enforce fail at inline_container.cc:764] . PytorchStreamWriter failed writing file data/2: file write failed",
            "\nDuring handling of the above exception, another exception occurred:\n",
            "\u001b[0;31mRuntimeError\u001b[0m                              Traceback (most recent call last)",
            "\u001b[0;32m<ipython-input-39-3435b262f1ae>\u001b[0m in \u001b[0;36m<cell line: 1>\u001b[0;34m()\u001b[0m\n\u001b[0;32m----> 1\u001b[0;31m \u001b[0mtrainer\u001b[0m\u001b[0;34m.\u001b[0m\u001b[0mtrain\u001b[0m\u001b[0;34m(\u001b[0m\u001b[0;34m)\u001b[0m\u001b[0;34m\u001b[0m\u001b[0;34m\u001b[0m\u001b[0m\n\u001b[0m",
            "\u001b[0;32m/usr/local/lib/python3.10/dist-packages/transformers/trainer.py\u001b[0m in \u001b[0;36mtrain\u001b[0;34m(self, resume_from_checkpoint, trial, ignore_keys_for_eval, **kwargs)\u001b[0m\n\u001b[1;32m   1857\u001b[0m                 \u001b[0mhf_hub_utils\u001b[0m\u001b[0;34m.\u001b[0m\u001b[0menable_progress_bars\u001b[0m\u001b[0;34m(\u001b[0m\u001b[0;34m)\u001b[0m\u001b[0;34m\u001b[0m\u001b[0;34m\u001b[0m\u001b[0m\n\u001b[1;32m   1858\u001b[0m         \u001b[0;32melse\u001b[0m\u001b[0;34m:\u001b[0m\u001b[0;34m\u001b[0m\u001b[0;34m\u001b[0m\u001b[0m\n\u001b[0;32m-> 1859\u001b[0;31m             return inner_training_loop(\n\u001b[0m\u001b[1;32m   1860\u001b[0m                 \u001b[0margs\u001b[0m\u001b[0;34m=\u001b[0m\u001b[0margs\u001b[0m\u001b[0;34m,\u001b[0m\u001b[0;34m\u001b[0m\u001b[0;34m\u001b[0m\u001b[0m\n\u001b[1;32m   1861\u001b[0m                 \u001b[0mresume_from_checkpoint\u001b[0m\u001b[0;34m=\u001b[0m\u001b[0mresume_from_checkpoint\u001b[0m\u001b[0;34m,\u001b[0m\u001b[0;34m\u001b[0m\u001b[0;34m\u001b[0m\u001b[0m\n",
            "\u001b[0;32m/usr/local/lib/python3.10/dist-packages/transformers/trainer.py\u001b[0m in \u001b[0;36m_inner_training_loop\u001b[0;34m(self, batch_size, args, resume_from_checkpoint, trial, ignore_keys_for_eval)\u001b[0m\n\u001b[1;32m   2276\u001b[0m                     \u001b[0mself\u001b[0m\u001b[0;34m.\u001b[0m\u001b[0mcontrol\u001b[0m \u001b[0;34m=\u001b[0m \u001b[0mself\u001b[0m\u001b[0;34m.\u001b[0m\u001b[0mcallback_handler\u001b[0m\u001b[0;34m.\u001b[0m\u001b[0mon_step_end\u001b[0m\u001b[0;34m(\u001b[0m\u001b[0margs\u001b[0m\u001b[0;34m,\u001b[0m \u001b[0mself\u001b[0m\u001b[0;34m.\u001b[0m\u001b[0mstate\u001b[0m\u001b[0;34m,\u001b[0m \u001b[0mself\u001b[0m\u001b[0;34m.\u001b[0m\u001b[0mcontrol\u001b[0m\u001b[0;34m)\u001b[0m\u001b[0;34m\u001b[0m\u001b[0;34m\u001b[0m\u001b[0m\n\u001b[1;32m   2277\u001b[0m \u001b[0;34m\u001b[0m\u001b[0m\n\u001b[0;32m-> 2278\u001b[0;31m                     \u001b[0mself\u001b[0m\u001b[0;34m.\u001b[0m\u001b[0m_maybe_log_save_evaluate\u001b[0m\u001b[0;34m(\u001b[0m\u001b[0mtr_loss\u001b[0m\u001b[0;34m,\u001b[0m \u001b[0mgrad_norm\u001b[0m\u001b[0;34m,\u001b[0m \u001b[0mmodel\u001b[0m\u001b[0;34m,\u001b[0m \u001b[0mtrial\u001b[0m\u001b[0;34m,\u001b[0m \u001b[0mepoch\u001b[0m\u001b[0;34m,\u001b[0m \u001b[0mignore_keys_for_eval\u001b[0m\u001b[0;34m)\u001b[0m\u001b[0;34m\u001b[0m\u001b[0;34m\u001b[0m\u001b[0m\n\u001b[0m\u001b[1;32m   2279\u001b[0m                 \u001b[0;32melse\u001b[0m\u001b[0;34m:\u001b[0m\u001b[0;34m\u001b[0m\u001b[0;34m\u001b[0m\u001b[0m\n\u001b[1;32m   2280\u001b[0m                     \u001b[0mself\u001b[0m\u001b[0;34m.\u001b[0m\u001b[0mcontrol\u001b[0m \u001b[0;34m=\u001b[0m \u001b[0mself\u001b[0m\u001b[0;34m.\u001b[0m\u001b[0mcallback_handler\u001b[0m\u001b[0;34m.\u001b[0m\u001b[0mon_substep_end\u001b[0m\u001b[0;34m(\u001b[0m\u001b[0margs\u001b[0m\u001b[0;34m,\u001b[0m \u001b[0mself\u001b[0m\u001b[0;34m.\u001b[0m\u001b[0mstate\u001b[0m\u001b[0;34m,\u001b[0m \u001b[0mself\u001b[0m\u001b[0;34m.\u001b[0m\u001b[0mcontrol\u001b[0m\u001b[0;34m)\u001b[0m\u001b[0;34m\u001b[0m\u001b[0;34m\u001b[0m\u001b[0m\n",
            "\u001b[0;32m/usr/local/lib/python3.10/dist-packages/transformers/trainer.py\u001b[0m in \u001b[0;36m_maybe_log_save_evaluate\u001b[0;34m(self, tr_loss, grad_norm, model, trial, epoch, ignore_keys_for_eval)\u001b[0m\n\u001b[1;32m   2671\u001b[0m \u001b[0;34m\u001b[0m\u001b[0m\n\u001b[1;32m   2672\u001b[0m         \u001b[0;32mif\u001b[0m \u001b[0mself\u001b[0m\u001b[0;34m.\u001b[0m\u001b[0mcontrol\u001b[0m\u001b[0;34m.\u001b[0m\u001b[0mshould_save\u001b[0m\u001b[0;34m:\u001b[0m\u001b[0;34m\u001b[0m\u001b[0;34m\u001b[0m\u001b[0m\n\u001b[0;32m-> 2673\u001b[0;31m             \u001b[0mself\u001b[0m\u001b[0;34m.\u001b[0m\u001b[0m_save_checkpoint\u001b[0m\u001b[0;34m(\u001b[0m\u001b[0mmodel\u001b[0m\u001b[0;34m,\u001b[0m \u001b[0mtrial\u001b[0m\u001b[0;34m,\u001b[0m \u001b[0mmetrics\u001b[0m\u001b[0;34m=\u001b[0m\u001b[0mmetrics\u001b[0m\u001b[0;34m)\u001b[0m\u001b[0;34m\u001b[0m\u001b[0;34m\u001b[0m\u001b[0m\n\u001b[0m\u001b[1;32m   2674\u001b[0m             \u001b[0mself\u001b[0m\u001b[0;34m.\u001b[0m\u001b[0mcontrol\u001b[0m \u001b[0;34m=\u001b[0m \u001b[0mself\u001b[0m\u001b[0;34m.\u001b[0m\u001b[0mcallback_handler\u001b[0m\u001b[0;34m.\u001b[0m\u001b[0mon_save\u001b[0m\u001b[0;34m(\u001b[0m\u001b[0mself\u001b[0m\u001b[0;34m.\u001b[0m\u001b[0margs\u001b[0m\u001b[0;34m,\u001b[0m \u001b[0mself\u001b[0m\u001b[0;34m.\u001b[0m\u001b[0mstate\u001b[0m\u001b[0;34m,\u001b[0m \u001b[0mself\u001b[0m\u001b[0;34m.\u001b[0m\u001b[0mcontrol\u001b[0m\u001b[0;34m)\u001b[0m\u001b[0;34m\u001b[0m\u001b[0;34m\u001b[0m\u001b[0m\n\u001b[1;32m   2675\u001b[0m \u001b[0;34m\u001b[0m\u001b[0m\n",
            "\u001b[0;32m/usr/local/lib/python3.10/dist-packages/transformers/trainer.py\u001b[0m in \u001b[0;36m_save_checkpoint\u001b[0;34m(self, model, trial, metrics)\u001b[0m\n\u001b[1;32m   2754\u001b[0m         \u001b[0;32mif\u001b[0m \u001b[0;32mnot\u001b[0m \u001b[0mself\u001b[0m\u001b[0;34m.\u001b[0m\u001b[0margs\u001b[0m\u001b[0;34m.\u001b[0m\u001b[0msave_only_model\u001b[0m\u001b[0;34m:\u001b[0m\u001b[0;34m\u001b[0m\u001b[0;34m\u001b[0m\u001b[0m\n\u001b[1;32m   2755\u001b[0m             \u001b[0;31m# Save optimizer and scheduler\u001b[0m\u001b[0;34m\u001b[0m\u001b[0;34m\u001b[0m\u001b[0m\n\u001b[0;32m-> 2756\u001b[0;31m             \u001b[0mself\u001b[0m\u001b[0;34m.\u001b[0m\u001b[0m_save_optimizer_and_scheduler\u001b[0m\u001b[0;34m(\u001b[0m\u001b[0moutput_dir\u001b[0m\u001b[0;34m)\u001b[0m\u001b[0;34m\u001b[0m\u001b[0;34m\u001b[0m\u001b[0m\n\u001b[0m\u001b[1;32m   2757\u001b[0m             \u001b[0;31m# Save RNG state\u001b[0m\u001b[0;34m\u001b[0m\u001b[0;34m\u001b[0m\u001b[0m\n\u001b[1;32m   2758\u001b[0m             \u001b[0mself\u001b[0m\u001b[0;34m.\u001b[0m\u001b[0m_save_rng_state\u001b[0m\u001b[0;34m(\u001b[0m\u001b[0moutput_dir\u001b[0m\u001b[0;34m)\u001b[0m\u001b[0;34m\u001b[0m\u001b[0;34m\u001b[0m\u001b[0m\n",
            "\u001b[0;32m/usr/local/lib/python3.10/dist-packages/transformers/trainer.py\u001b[0m in \u001b[0;36m_save_optimizer_and_scheduler\u001b[0;34m(self, output_dir)\u001b[0m\n\u001b[1;32m   2862\u001b[0m         \u001b[0;32melif\u001b[0m \u001b[0mself\u001b[0m\u001b[0;34m.\u001b[0m\u001b[0margs\u001b[0m\u001b[0;34m.\u001b[0m\u001b[0mshould_save\u001b[0m\u001b[0;34m:\u001b[0m\u001b[0;34m\u001b[0m\u001b[0;34m\u001b[0m\u001b[0m\n\u001b[1;32m   2863\u001b[0m             \u001b[0;31m# deepspeed.save_checkpoint above saves model/optim/sched\u001b[0m\u001b[0;34m\u001b[0m\u001b[0;34m\u001b[0m\u001b[0m\n\u001b[0;32m-> 2864\u001b[0;31m             \u001b[0mtorch\u001b[0m\u001b[0;34m.\u001b[0m\u001b[0msave\u001b[0m\u001b[0;34m(\u001b[0m\u001b[0mself\u001b[0m\u001b[0;34m.\u001b[0m\u001b[0moptimizer\u001b[0m\u001b[0;34m.\u001b[0m\u001b[0mstate_dict\u001b[0m\u001b[0;34m(\u001b[0m\u001b[0;34m)\u001b[0m\u001b[0;34m,\u001b[0m \u001b[0mos\u001b[0m\u001b[0;34m.\u001b[0m\u001b[0mpath\u001b[0m\u001b[0;34m.\u001b[0m\u001b[0mjoin\u001b[0m\u001b[0;34m(\u001b[0m\u001b[0moutput_dir\u001b[0m\u001b[0;34m,\u001b[0m \u001b[0mOPTIMIZER_NAME\u001b[0m\u001b[0;34m)\u001b[0m\u001b[0;34m)\u001b[0m\u001b[0;34m\u001b[0m\u001b[0;34m\u001b[0m\u001b[0m\n\u001b[0m\u001b[1;32m   2865\u001b[0m \u001b[0;34m\u001b[0m\u001b[0m\n\u001b[1;32m   2866\u001b[0m         \u001b[0;31m# Save SCHEDULER & SCALER\u001b[0m\u001b[0;34m\u001b[0m\u001b[0;34m\u001b[0m\u001b[0m\n",
            "\u001b[0;32m/usr/local/lib/python3.10/dist-packages/torch/serialization.py\u001b[0m in \u001b[0;36msave\u001b[0;34m(obj, f, pickle_module, pickle_protocol, _use_new_zipfile_serialization, _disable_byteorder_record)\u001b[0m\n\u001b[1;32m    626\u001b[0m \u001b[0;34m\u001b[0m\u001b[0m\n\u001b[1;32m    627\u001b[0m     \u001b[0;32mif\u001b[0m \u001b[0m_use_new_zipfile_serialization\u001b[0m\u001b[0;34m:\u001b[0m\u001b[0;34m\u001b[0m\u001b[0;34m\u001b[0m\u001b[0m\n\u001b[0;32m--> 628\u001b[0;31m         \u001b[0;32mwith\u001b[0m \u001b[0m_open_zipfile_writer\u001b[0m\u001b[0;34m(\u001b[0m\u001b[0mf\u001b[0m\u001b[0;34m)\u001b[0m \u001b[0;32mas\u001b[0m \u001b[0mopened_zipfile\u001b[0m\u001b[0;34m:\u001b[0m\u001b[0;34m\u001b[0m\u001b[0;34m\u001b[0m\u001b[0m\n\u001b[0m\u001b[1;32m    629\u001b[0m             \u001b[0m_save\u001b[0m\u001b[0;34m(\u001b[0m\u001b[0mobj\u001b[0m\u001b[0;34m,\u001b[0m \u001b[0mopened_zipfile\u001b[0m\u001b[0;34m,\u001b[0m \u001b[0mpickle_module\u001b[0m\u001b[0;34m,\u001b[0m \u001b[0mpickle_protocol\u001b[0m\u001b[0;34m,\u001b[0m \u001b[0m_disable_byteorder_record\u001b[0m\u001b[0;34m)\u001b[0m\u001b[0;34m\u001b[0m\u001b[0;34m\u001b[0m\u001b[0m\n\u001b[1;32m    630\u001b[0m             \u001b[0;32mreturn\u001b[0m\u001b[0;34m\u001b[0m\u001b[0;34m\u001b[0m\u001b[0m\n",
            "\u001b[0;32m/usr/local/lib/python3.10/dist-packages/torch/serialization.py\u001b[0m in \u001b[0;36m__exit__\u001b[0;34m(self, *args)\u001b[0m\n\u001b[1;32m    474\u001b[0m \u001b[0;34m\u001b[0m\u001b[0m\n\u001b[1;32m    475\u001b[0m     \u001b[0;32mdef\u001b[0m \u001b[0m__exit__\u001b[0m\u001b[0;34m(\u001b[0m\u001b[0mself\u001b[0m\u001b[0;34m,\u001b[0m \u001b[0;34m*\u001b[0m\u001b[0margs\u001b[0m\u001b[0;34m)\u001b[0m \u001b[0;34m->\u001b[0m \u001b[0;32mNone\u001b[0m\u001b[0;34m:\u001b[0m\u001b[0;34m\u001b[0m\u001b[0;34m\u001b[0m\u001b[0m\n\u001b[0;32m--> 476\u001b[0;31m         \u001b[0mself\u001b[0m\u001b[0;34m.\u001b[0m\u001b[0mfile_like\u001b[0m\u001b[0;34m.\u001b[0m\u001b[0mwrite_end_of_file\u001b[0m\u001b[0;34m(\u001b[0m\u001b[0;34m)\u001b[0m\u001b[0;34m\u001b[0m\u001b[0;34m\u001b[0m\u001b[0m\n\u001b[0m\u001b[1;32m    477\u001b[0m         \u001b[0;32mif\u001b[0m \u001b[0mself\u001b[0m\u001b[0;34m.\u001b[0m\u001b[0mfile_stream\u001b[0m \u001b[0;32mis\u001b[0m \u001b[0;32mnot\u001b[0m \u001b[0;32mNone\u001b[0m\u001b[0;34m:\u001b[0m\u001b[0;34m\u001b[0m\u001b[0;34m\u001b[0m\u001b[0m\n\u001b[1;32m    478\u001b[0m             \u001b[0mself\u001b[0m\u001b[0;34m.\u001b[0m\u001b[0mfile_stream\u001b[0m\u001b[0;34m.\u001b[0m\u001b[0mclose\u001b[0m\u001b[0;34m(\u001b[0m\u001b[0;34m)\u001b[0m\u001b[0;34m\u001b[0m\u001b[0;34m\u001b[0m\u001b[0m\n",
            "\u001b[0;31mRuntimeError\u001b[0m: [enforce fail at inline_container.cc:595] . unexpected pos 244244352 vs 244244240"
          ]
        }
      ],
      "source": [
        "trainer.train()"
      ]
    },
    {
      "cell_type": "code",
      "execution_count": null,
      "metadata": {
        "id": "m0c4kgUSQXNS"
      },
      "outputs": [],
      "source": [
        "kwargs = {\n",
        "    \"dataset_tags\": \"mt_eng_vietnamese\",\n",
        "    \"dataset\": \"mt_eng_vietnamese\",  # a 'pretty' name for the training dataset\n",
        "    \"model_name\": \"envit5-translation-finetuned-en-to-vi\",  # a 'pretty' name for our model\n",
        "    \"finetuned_from\": \"VietAI/envit5-translation\",\n",
        "    \"tasks\": \"machine translation\",\n",
        "    \"tags\": \"envit5-translation-finetune\",\n",
        "}"
      ]
    },
    {
      "cell_type": "code",
      "execution_count": null,
      "metadata": {
        "colab": {
          "base_uri": "https://localhost:8080/",
          "height": 287,
          "referenced_widgets": [
            "ecb70e2fbfde41739c28fa77a2c27f98",
            "3dba9ecc32fc48d0a87cd533a20fa86f",
            "568bf52994e7411c8e78fa8ff62faa93",
            "8a16f6edd6454c98ae435dc3eb2e6eba",
            "e988af6b2b5f4f269fa2175b455d891f",
            "8789792519a048c98027e3f93c9b164b",
            "6a3ea445b8c249108877b36ca405df11",
            "c75f1fc20b74427f848f8f5ac462eaf6",
            "48d3f7ff61e2416a923959187c044396",
            "c09432835b6d4e58b13c0c08f9e64d9f",
            "d5fbfbbb0b8642fb958b117a13c7d44d",
            "725a568cb22c44a0a17142434bbec060",
            "0ddec253162a46acaac9e3b017c24c76",
            "3d06f7dea6834066898431b0f0f284c8",
            "fd3b7f5ca2584c62b93ffd067db7874a",
            "8a0639f7677b455aa9f526869b8207af",
            "3fd0a9495f174a178415c2859f0796c1",
            "466f2ff7e07c4d0c848742ce77f0da19",
            "decf5b29fb9a4b9e86806ac4faaaf934",
            "d625876911cb4a70b51624bf325ce116",
            "438ba9f59d15469bb398f67cd0bcc801",
            "5c12c1abd854466f945a86a4e60c7724",
            "f81ce2f4c3ef4d869bc7a021f0a36504",
            "0307fe4e35234234906cdbcdd6e7eb8a",
            "ffa6a0f1f0f2411298c1d9c19d5be91f",
            "c312ed6de5b149e39c64ad8aa74ab5cc",
            "7d07958f3b494525bda6c49d31cea14f",
            "6afeed3824c848ec887daaeea92f4eb5",
            "d868485125cf4c259cdc4889e9403968",
            "a55b69b790704d899ce5b5f32c7e7a2a",
            "bf9c7864c148474c9662b7a0fe32f500",
            "a0ab6680caba4307bb170e1ce6c45a5b",
            "f3c8ddc4fd824c1ca133c56ae36b5274",
            "a4895ee5bdf94fbf87f11226edca7e3b",
            "25c5338967124567b8ad175660bc97de",
            "8d20c392363342c0b3b008ddd75a72ba",
            "48eb882949714c87b35029ef761e5633",
            "fb6691227011463bb58cb9d4f9cc61c9",
            "4d08137272ee4ab0844c4156af1c4dd4",
            "1ad2837fcc3940d8af801138e34668fd",
            "e21cb62ee90a42e5b669220e14c6af8d",
            "16cafd1c92614955acea9f1ee277e9b6",
            "6ff3daac67514e91abab713c6bc16578",
            "aa0124f37575481eb395487eb725e3af"
          ]
        },
        "id": "9giuCuRbUMFv",
        "outputId": "6f4e9ec6-0f95-4b2a-a2ba-fd930de273ef"
      },
      "outputs": [
        {
          "name": "stderr",
          "output_type": "stream",
          "text": [
            "Some non-default generation parameters are set in the model config. These should go into a GenerationConfig file (https://huggingface.co/docs/transformers/generation_strategies#save-a-custom-decoding-strategy-with-your-model) instead. This warning will be raised to an exception in v4.41.\n",
            "Non-default generation parameters: {'max_length': 512, 'num_beams': 4, 'bad_words_ids': [[53684]], 'forced_eos_token_id': 0}\n"
          ]
        },
        {
          "data": {
            "application/vnd.jupyter.widget-view+json": {
              "model_id": "ecb70e2fbfde41739c28fa77a2c27f98",
              "version_major": 2,
              "version_minor": 0
            },
            "text/plain": [
              "Upload 3 LFS files:   0%|          | 0/3 [00:00<?, ?it/s]"
            ]
          },
          "metadata": {},
          "output_type": "display_data"
        },
        {
          "data": {
            "application/vnd.jupyter.widget-view+json": {
              "model_id": "725a568cb22c44a0a17142434bbec060",
              "version_major": 2,
              "version_minor": 0
            },
            "text/plain": [
              "training_args.bin:   0%|          | 0.00/5.18k [00:00<?, ?B/s]"
            ]
          },
          "metadata": {},
          "output_type": "display_data"
        },
        {
          "data": {
            "application/vnd.jupyter.widget-view+json": {
              "model_id": "f81ce2f4c3ef4d869bc7a021f0a36504",
              "version_major": 2,
              "version_minor": 0
            },
            "text/plain": [
              "events.out.tfevents.1714483927.9309e1b69a93.9854.0:   0%|          | 0.00/9.71k [00:00<?, ?B/s]"
            ]
          },
          "metadata": {},
          "output_type": "display_data"
        },
        {
          "data": {
            "application/vnd.jupyter.widget-view+json": {
              "model_id": "a4895ee5bdf94fbf87f11226edca7e3b",
              "version_major": 2,
              "version_minor": 0
            },
            "text/plain": [
              "model.safetensors:   0%|          | 0.00/287M [00:00<?, ?B/s]"
            ]
          },
          "metadata": {},
          "output_type": "display_data"
        },
        {
          "data": {
            "application/vnd.google.colaboratory.intrinsic+json": {
              "type": "string"
            },
            "text/plain": [
              "CommitInfo(commit_url='https://huggingface.co/lmh2011/opus-mt-en-vi-finetuned-en-to-vi/commit/fa010aafa5daeb694cff9fa0f2e17eaa75e4de79', commit_message='End of training', commit_description='', oid='fa010aafa5daeb694cff9fa0f2e17eaa75e4de79', pr_url=None, pr_revision=None, pr_num=None)"
            ]
          },
          "execution_count": 23,
          "metadata": {},
          "output_type": "execute_result"
        }
      ],
      "source": [
        "trainer.push_to_hub(**kwargs)"
      ]
    },
    {
      "cell_type": "code",
      "execution_count": null,
      "metadata": {
        "colab": {
          "base_uri": "https://localhost:8080/"
        },
        "id": "Y-SSyPwox5U1",
        "outputId": "06c7b628-88aa-43bd-932d-833b0251934b"
      },
      "outputs": [
        {
          "name": "stdout",
          "output_type": "stream",
          "text": [
            "/content/drive/MyDrive/mt-en-vi-finetune/opus-mt-en-vi-finetuned-en-to-vi/config.json\n",
            "/content/drive/MyDrive/mt-en-vi-finetune/opus-mt-en-vi-finetuned-en-to-vi/generation_config.json\n",
            "/content/drive/MyDrive/mt-en-vi-finetune/opus-mt-en-vi-finetuned-en-to-vi/model.safetensors\n",
            "/content/drive/MyDrive/mt-en-vi-finetune/opus-mt-en-vi-finetuned-en-to-vi/tokenizer_config.json\n",
            "/content/drive/MyDrive/mt-en-vi-finetune/opus-mt-en-vi-finetuned-en-to-vi/special_tokens_map.json\n",
            "/content/drive/MyDrive/mt-en-vi-finetune/opus-mt-en-vi-finetuned-en-to-vi/vocab.json\n",
            "/content/drive/MyDrive/mt-en-vi-finetune/opus-mt-en-vi-finetuned-en-to-vi/source.spm\n",
            "/content/drive/MyDrive/mt-en-vi-finetune/opus-mt-en-vi-finetuned-en-to-vi/target.spm\n",
            "/content/drive/MyDrive/mt-en-vi-finetune/opus-mt-en-vi-finetuned-en-to-vi/training_args.bin\n",
            "/content/drive/MyDrive/mt-en-vi-finetune/opus-mt-en-vi-finetuned-en-to-vi/README.md\n",
            "/content/drive/MyDrive/mt-en-vi-finetune/opus-mt-en-vi-finetuned-en-to-vi/runs/Apr30_13-31-28_9309e1b69a93/events.out.tfevents.1714483927.9309e1b69a93.9854.0\n",
            "/content/drive/MyDrive/mt-en-vi-finetune/opus-mt-en-vi-finetuned-en-to-vi/checkpoint-7000/config.json\n",
            "/content/drive/MyDrive/mt-en-vi-finetune/opus-mt-en-vi-finetuned-en-to-vi/checkpoint-7000/generation_config.json\n",
            "/content/drive/MyDrive/mt-en-vi-finetune/opus-mt-en-vi-finetuned-en-to-vi/checkpoint-7000/model.safetensors\n",
            "/content/drive/MyDrive/mt-en-vi-finetune/opus-mt-en-vi-finetuned-en-to-vi/checkpoint-7000/tokenizer_config.json\n",
            "/content/drive/MyDrive/mt-en-vi-finetune/opus-mt-en-vi-finetuned-en-to-vi/checkpoint-7000/special_tokens_map.json\n",
            "/content/drive/MyDrive/mt-en-vi-finetune/opus-mt-en-vi-finetuned-en-to-vi/checkpoint-7000/vocab.json\n",
            "/content/drive/MyDrive/mt-en-vi-finetune/opus-mt-en-vi-finetuned-en-to-vi/checkpoint-7000/source.spm\n",
            "/content/drive/MyDrive/mt-en-vi-finetune/opus-mt-en-vi-finetuned-en-to-vi/checkpoint-7000/target.spm\n",
            "/content/drive/MyDrive/mt-en-vi-finetune/opus-mt-en-vi-finetuned-en-to-vi/checkpoint-7000/training_args.bin\n",
            "/content/drive/MyDrive/mt-en-vi-finetune/opus-mt-en-vi-finetuned-en-to-vi/checkpoint-7000/optimizer.pt\n",
            "/content/drive/MyDrive/mt-en-vi-finetune/opus-mt-en-vi-finetuned-en-to-vi/checkpoint-7000/scheduler.pt\n",
            "/content/drive/MyDrive/mt-en-vi-finetune/opus-mt-en-vi-finetuned-en-to-vi/checkpoint-7000/rng_state.pth\n",
            "/content/drive/MyDrive/mt-en-vi-finetune/opus-mt-en-vi-finetuned-en-to-vi/checkpoint-7000/trainer_state.json\n",
            "/content/drive/MyDrive/mt-en-vi-finetune/opus-mt-en-vi-finetuned-en-to-vi/checkpoint-7500/config.json\n",
            "/content/drive/MyDrive/mt-en-vi-finetune/opus-mt-en-vi-finetuned-en-to-vi/checkpoint-7500/generation_config.json\n",
            "/content/drive/MyDrive/mt-en-vi-finetune/opus-mt-en-vi-finetuned-en-to-vi/checkpoint-7500/model.safetensors\n",
            "/content/drive/MyDrive/mt-en-vi-finetune/opus-mt-en-vi-finetuned-en-to-vi/checkpoint-7500/tokenizer_config.json\n",
            "/content/drive/MyDrive/mt-en-vi-finetune/opus-mt-en-vi-finetuned-en-to-vi/checkpoint-7500/special_tokens_map.json\n",
            "/content/drive/MyDrive/mt-en-vi-finetune/opus-mt-en-vi-finetuned-en-to-vi/checkpoint-7500/vocab.json\n",
            "/content/drive/MyDrive/mt-en-vi-finetune/opus-mt-en-vi-finetuned-en-to-vi/checkpoint-7500/source.spm\n",
            "/content/drive/MyDrive/mt-en-vi-finetune/opus-mt-en-vi-finetuned-en-to-vi/checkpoint-7500/target.spm\n",
            "/content/drive/MyDrive/mt-en-vi-finetune/opus-mt-en-vi-finetuned-en-to-vi/checkpoint-7500/training_args.bin\n",
            "/content/drive/MyDrive/mt-en-vi-finetune/opus-mt-en-vi-finetuned-en-to-vi/checkpoint-7500/optimizer.pt\n",
            "/content/drive/MyDrive/mt-en-vi-finetune/opus-mt-en-vi-finetuned-en-to-vi/checkpoint-7500/scheduler.pt\n",
            "/content/drive/MyDrive/mt-en-vi-finetune/opus-mt-en-vi-finetuned-en-to-vi/checkpoint-7500/rng_state.pth\n",
            "/content/drive/MyDrive/mt-en-vi-finetune/opus-mt-en-vi-finetuned-en-to-vi/checkpoint-7500/trainer_state.json\n",
            "/content/drive/MyDrive/mt-en-vi-finetune/opus-mt-en-vi-finetuned-en-to-vi/checkpoint-8000/config.json\n",
            "/content/drive/MyDrive/mt-en-vi-finetune/opus-mt-en-vi-finetuned-en-to-vi/checkpoint-8000/generation_config.json\n",
            "/content/drive/MyDrive/mt-en-vi-finetune/opus-mt-en-vi-finetuned-en-to-vi/checkpoint-8000/model.safetensors\n",
            "/content/drive/MyDrive/mt-en-vi-finetune/opus-mt-en-vi-finetuned-en-to-vi/checkpoint-8000/tokenizer_config.json\n",
            "/content/drive/MyDrive/mt-en-vi-finetune/opus-mt-en-vi-finetuned-en-to-vi/checkpoint-8000/special_tokens_map.json\n",
            "/content/drive/MyDrive/mt-en-vi-finetune/opus-mt-en-vi-finetuned-en-to-vi/checkpoint-8000/vocab.json\n",
            "/content/drive/MyDrive/mt-en-vi-finetune/opus-mt-en-vi-finetuned-en-to-vi/checkpoint-8000/source.spm\n",
            "/content/drive/MyDrive/mt-en-vi-finetune/opus-mt-en-vi-finetuned-en-to-vi/checkpoint-8000/target.spm\n",
            "/content/drive/MyDrive/mt-en-vi-finetune/opus-mt-en-vi-finetuned-en-to-vi/checkpoint-8000/training_args.bin\n",
            "/content/drive/MyDrive/mt-en-vi-finetune/opus-mt-en-vi-finetuned-en-to-vi/checkpoint-8000/optimizer.pt\n",
            "/content/drive/MyDrive/mt-en-vi-finetune/opus-mt-en-vi-finetuned-en-to-vi/checkpoint-8000/scheduler.pt\n",
            "/content/drive/MyDrive/mt-en-vi-finetune/opus-mt-en-vi-finetuned-en-to-vi/checkpoint-8000/rng_state.pth\n",
            "/content/drive/MyDrive/mt-en-vi-finetune/opus-mt-en-vi-finetuned-en-to-vi/checkpoint-8000/trainer_state.json\n"
          ]
        }
      ],
      "source": [
        "import os\n",
        "for dirname, _, filenames in os.walk('/content/drive/MyDrive/mt-en-vi-finetune/opus-mt-en-vi-finetuned-en-to-vi'):\n",
        "    for filename in filenames:\n",
        "        print(os.path.join(dirname, filename))"
      ]
    },
    {
      "cell_type": "markdown",
      "metadata": {
        "id": "oeLJF9PJINyR"
      },
      "source": [
        "Our fine tuned model already saved under *opus-mt-en-ro-finetuned-en-to-ro/checkpoint-38000*\n",
        "\n",
        "Load the model and translate some text from english to romanian"
      ]
    },
    {
      "cell_type": "code",
      "execution_count": null,
      "metadata": {
        "colab": {
          "base_uri": "https://localhost:8080/"
        },
        "id": "kByQ_vxTx5U2",
        "outputId": "ca59d0df-f5ad-4db9-db4f-1add17b23b59"
      },
      "outputs": [
        {
          "name": "stdout",
          "output_type": "stream",
          "text": [
            "['>>vie<<']\n"
          ]
        },
        {
          "name": "stderr",
          "output_type": "stream",
          "text": [
            "/usr/local/lib/python3.10/dist-packages/transformers/models/marian/tokenization_marian.py:175: UserWarning: Recommended: pip install sacremoses.\n",
            "  warnings.warn(\"Recommended: pip install sacremoses.\")\n"
          ]
        }
      ],
      "source": [
        "from transformers import MarianMTModel, MarianTokenizer\n",
        "src_text = ['My name is Sarah and I live in London']\n",
        "\n",
        "model_name = 'opus-mt-en-vi-finetuned-en-to-vi/checkpoint-8000'\n",
        "tokenizer = MarianTokenizer.from_pretrained(model_name)\n",
        "print(tokenizer.supported_language_codes)\n"
      ]
    },
    {
      "cell_type": "code",
      "execution_count": null,
      "metadata": {
        "colab": {
          "base_uri": "https://localhost:8080/"
        },
        "id": "4h_jIFZgx5U2",
        "outputId": "20d7ff44-2f25-46a0-b219-567fa1a7ff55"
      },
      "outputs": [
        {
          "data": {
            "text/plain": [
              "['Tên tôi là Sarah và tôi sống ở London.']"
            ]
          },
          "execution_count": 31,
          "metadata": {},
          "output_type": "execute_result"
        }
      ],
      "source": [
        "model = MarianMTModel.from_pretrained(model_name)\n",
        "translated = model.generate(**tokenizer(src_text, return_tensors=\"pt\", padding=True))\n",
        "[tokenizer.decode(t, skip_special_tokens=True) for t in translated]"
      ]
    },
    {
      "cell_type": "code",
      "execution_count": null,
      "metadata": {
        "id": "G_Ap8fTVgZ2T"
      },
      "outputs": [],
      "source": []
    },
    {
      "cell_type": "markdown",
      "metadata": {
        "id": "vjn5FnzPI0cS"
      },
      "source": [
        "our fine tune model is doing far better than pre-trained model and close to google translator\n",
        "\n",
        "**input text** -> My name is Sarah and I live in London\n",
        "\n",
        "**pre-trained model prediction** -> Numele meu este Sarah şi locuiesc în Londra.\n",
        "\n",
        "**fine-tune model prediction** -> Numele meu este Sarah şi locuiesc la Londra\n",
        "\n",
        "**google translator prediction** -> Numele meu este Sarah şi locuiesc la Londra\n",
        "\n",
        "\n",
        "![image.png](data:image/png;base64,iVBORw0KGgoAAAANSUhEUgAAApIAAAD0CAYAAAAousYIAAAgAElEQVR4Ae2d3U8cWXrG8y/0P9GXvvOd7+gbxAUSEheIG3MDyHLSiWURO1HPhWPFEukNcVBnN1iKE9YrG2lJSLhotBrRlmKTbCfISCbOJOB4PcwMs3g8A8vYMzAfb/ScqlN16gsaqK4+dD0lQVdXV5065zlvnffX7/no3xNuVIAKUAEqQAWoABWgAlTgFAr83imu4SVUgApQASpABagAFaACVEAIkjQCKkAFqAAVoAJUgApQgVMpQJA8lWy8iApQASpABagAFaACVIAgSRugAlSAClABKkAFqAAVOJUCBMlTycaLqAAVoAJUgApQASpABQiStAEqQAWoABWgAlSAClCBUylAkDyVbLyIClABKkAFqAAVoAJUgCBJG6ACVIAKUAEqQAWoABU4lQIEyVPJxouoABWgAlSAClABKkAFMgPJ7cd35eaVURkdHZUrlfvSfBMV/12zJuXRitS3o5/h+uvq+ity/e5j8U/Zlsd3r8uV0VEZvXJd7j72PzFTOdv1R9zj3XN5ULmiyjV6pSIPnr/zbvvu+QOpeGV+IMZH3jmyXZcK8q7/rpTl1oPnsuufkdres9qo1J45yW3XKzKq36R2h+wTQpkC2t1vSoxpxWTsmdQSbC3mZB6iAlSAClABKkAFYhTIBiQ/fiQ3yzV5unsoIofy8XxFRu88DsHSR3L/OqAgBiR3P5Rbo7dk/mNcvyvNWlluPvpYFWf3w1syeudDeaM+akqtfFPcj/ziquvvyIfOSSe+/qh7PL9flpv3HfA7/HheKqN3pYm8yHO5X74p958DCd0y322K+sjPmTggWROX70R2P5IHlVGpPk4fJbsVJCv6m8fhtjy9W5bRu0/Fx3lTbHOfIGmqwX0qQAWoABWgAqdRIBOQfPd8XmYeO+CnMokoXKVuRBVFXj66Kbfq9fgo0bOajJrn472Kph3K07ujUmv6RX8+Myq36sGY1OHTuzIaPElGb9XljbRy/VHnvJRH12/KvBcEfSP1W6My81xQILl+c94v45u63BqdEXwU2FRE0gBJAVsa0cLtx3L3uhPxvF41IrEJkVATFkW2pV7xo5D6s0AUz9U1OWIbyK11b1AWDyRV7hyA118mYqPCoSiwE5h9J88fVNzIdjCybF2hmSEqQAWoABWgApYokAlIhsuKCF/5voFUcOw3H8lLSYgSHTbl7pVgRPKOitgFQQn3AYQFwSIEZs5JLsi2cv1R50Tzq2FNwvCryhYERqVLGCTNiOThc5nxoppOJLb84KW6DMBcmf9YRTh3n9+Xm+X78pGIePd3Eo8FSUcCA1YBueWaNFXw9I18eGdUHH1VIlb/i4Kko4H6MgG7Ga0EItnXHzn6ScjWtuu35Iob2UZk+daVqhwXFP75z38hN27ciPzhODcqQAWoABWgAnlQIHuQ3K7LrSt35anX97grj+9cl/ugoJBzNytg92nViRZhjOWdD91I31GQ518diPDhMOBNReJauf6oc9ICSWOc32hZqvWXTtfs85ngEIDtebnpRhA/ul+W8t2n8vG7YGf5qUBy97HcGb0ljz5CjPZ8bUkg6XyZOJR3pj5NHclGGc26QyS57NqgU/6mMZ40SZHDw0P56U9/FgBJvMdxblSAClABKkAF8qBAtiD57pnUrmPcoEeR8u7pXSnXmu6YNtO5G/K7YyxVxEx25aMHFSkr8jwK8vzr7QdJHalEecpSe+aAiMq3noTjvbrnHr6R5oM7zgQmY5LPqUASI08/+lBqt8pyZTQ8mcnX0ca9JJB0hje8k5d1f5KXmpTjTTAybQ37Jsw7++HIdlz59/f35Sc/+YmCSbziPTcqQAWoABWgAnlRIEOQ3Jb6retSe+ZDpIgzptCbdWs4c8/fu93VN+fjxlgeNX7Rr8LzNEbysHnXHw+KCNrdp8dGCZ1JPs74SwWS3pjRIGibkBmBay3X4a48rZUj40z1x7a9RkHSGCPpfQExwNwzLBMkt2X+5nXxer1PWMjf/va38ld/9VeCV25UgApQASpABfKkQEYgCYi8Irf07NpEhU3nLnL4blfQM6ng6uZ9UROg9QzoqjPrW82ovjUvzoRuc9b2obzbfedA2HGzvo+5PvkeIpi1jYiqGl4YmbVdlpoz8NCZqd7KrG15KY9ulkUNIVVj/PTMb5HDj+tSe/QSCqhzak93VflMkHz56LoX4VVj/Uajk20g/5v6LW8CkgOvroburPjwhKXEKuvwBwGQDM/a/ui+lG8+kJfgyMM38hgzuj2QfC4zo/5EqY8f3ZTynbpjR4e70nwwI0+Dc7Y6XFLengpQASpABaiAfQpkA5KYeGJEG/W+59M9XUyQNKNpThels44k1qE012R8I09rcetImmmJvHlaS1iHspXrk84RkXcv5dGdhHUkXz6SOy2tI6m7th0hHHD9UMHpu5d1b9b2let3xVsmE7O5b8bc990zue/O8oZO96vxICm7j6WKvKnZ65ixfEvKset0epVj5Q5AUtsT1hG988BcR9KciX1HHj2ouuV1ivLRg+vqWjXLXt5I8747a3v0ilQePG9hCSErJWGmqAAVoAJUgApkpkA2IHmq4mBpnZg1JVtN6/Cp3B0NAlqrl6rzznr9iW7Gk6kAFaACVIAKUAEqcP4UsBckP56XOzPPTh0VOnw2I3eO7UpPrrCzXp+cMj+hAlSAClABKkAFqEB3KGAvSHaHviwFFaACVIAKUAEqQAW6VgGCZNdWLQtGBagAFaACVIAKUIH2KkCQbK++TJ0KUAEqQAWoABWgAl2rAEGya6uWBaMCVIAKUAEqQAWoQHsVIEi2V1+mTgWoABWgAlSAClCBrlWAINm1VcuCUQEqQAWoABWgAlSgvQoQJNurL1OnAlSAClABKkAFqEDXKkCQ7NqqZcGoABWgAlSAClABKtBeBY4FyYODA3n//r18/fXX8rvf/U729vb4Rw1oA7QB2gBtgDZAG6ANdKENgPXAfGA/MOBxWyJIfv/997K/vy+Hh4fyww8/HJcOP6cCVIAKdKUCaEj5Rw1oA7SBPNrAt99+q1gQTJi0xYIkLnj37h0BMkk1HqcCVCA3CuTRebDMhCbaAG1A2wBgEkyYBJOxIImw5o8//pgbR8GCUgEqQAWSFNCNKV/pWGkDtIE82wDYMG6LgKQWKe5kHqMCVIAK5E0B3SbylRBBG6AN5NkGvvnmm9gxkwGQRBQSAyw5JjJvrpLlpQJUIEmBPDsOlp3gRBugDZg2AEYM91hHQPKrr75Kak95nApQASqQOwXMRpT7dKq0AdpAnm0AjHgkSCIS+ebNm9w5ChaYClABKpCkQJ6dBstOaKIN0AZMGwAjhnutAxFJzMjZ2dlJak95nApQASqQOwXMRpT7dKq0AdpAnm0AjBievU2QzJ1bZIGpABU4iQJ5dhosO6GJNkAbMG3gSJBEnzcjkidxLzyXClCBPChgNqLcp1OlDdAG8mwDGiTNcZJeRLLTIIlf0MEv6bx9+1Y+++wz+c1vfiMvX77kHzWgDXTIBvAM4lnEM6l/5SoP4BguYx6dBmZmYlA9xkN9+umn8urVKz6HHXoO6QfJAbABPIN4FvFM4tnEAuGdaJusBEkAJJzV69ev5fPPP5cvv/xSCfTdd9+F23O+pwJUIEMF8AyiscIziWcTzyie1bw9m51orDt1T9Q3nBXb4wwfNN6KCrSgQFx7jGc1a6C0DiR3d3dVg4Wf3+FGBaiA/QrgWUWkEs9uXrZOQV3W90XkGXXL9jgvls1ynncFdHuML/tZtRfWgCSmjusQ7XmvSOafCuRRAd3lGV4Gohu1yKqB7tR98GsVn3zyCZd+60bjZZlyoQDaYzzDAMt2tyNWgCQcDwr8/v37XFQwC0kFulUBPMP4QtjtMNnuhrmT6WuIZHvcrU8py5UXBfAMZwGTVoAkHA8brbyYNsvZ7QpomOzmcnYS9Np9b36p72bLZdnypoCGyXa2Gx0HSYyrQgiWGxWgAt2jAJ7pbh4z2c5GuZNpY0wk2+PueQ5ZEioABfBMt3PMZEdBErOzMROQGxWgAt2nACZpdOts7k7CXrvujZmeqDNuVIAKdJ8CeLYRnWxH+9FRkMSyIenOBnwmtdFRGY37q9Rl+6y28awmo6M1eYZ0zP3EdLelXhmVSv3Md068Az+gArYqgGcbz3g3bu1ojDudJoYYpdseo5lMaI9rqhW1yDTYVltUGcxKGxTAs41nvB3tTMdAsj3RSAck29ZGmfBo7idWOhunRGn4QS4UQI8DnvVu29rRGHcyTSw23o7eIQWS4QZ5uy6V0VEJH+6sjbCt7qz+vHsWCuAZb8cakx0DSfwqBhY0TnfLECRbyjgbp5Zk4kldqwCecTzr3bZ1EvracW/8Kkb67bEbkYwhxljA7DYjYXmogGUK4BnHs552G9IxkMSgbgz+THdrASTVt+GK1GoVvws80NA58Od0j7vn6W5xMwpp7ot5zaiMeulpkKwbXe5u13i6BWdqVMBKBfCM41nvti3thrjT6cERpN8enwQkg8OSvCbUbVsrdaMNRXvsRjVVO63bZ9fIgt3pFfFGFrltds3obveHHem2Wg9DCrXpekiTGtWENr5mtOnGPbrN0FmerlIAzzie9bTbm46BJMZOIcSa7hZsjMyxkl7DpBsgfSDUzbJdr8io1zC56en3Jjwa++oanZ7b8DlvdWOk4dF9752bbumZGhWwTQE84904TjLthrjT6WHsVPrtcQJIhtpc8WDRhTjVtmo4C7ehoTY5nBau1e21B33ueEyVrjFmPeY+Gizj2nT9mQOqOn9uGY172vYMMj9UQCuAZ7wd4yQ7BpLtmdHpNDJHcppqePxGQMS8xmm0dIMB8QNgqRqe6GQbdc6omaautmh67NLR2vC1EwqYX66O2k8rb5i13Y0zgTsNfmnf/9WrV22ZYR+MDvoTb8w2ViJtstlumvuwyvB7s/0OW61zrtdDZLbfKimM1dTtdjhdMy3nHjrP4TY84CPMy7hPBY5R4Kg22PzsmGRa/hjtMZ71tNsPgmQAJKONUqCRMBsic18DpzdbPLlxCjdCLVsAT6QCKSlgNlBx+yndRiVDkDxIvdFO2wkgvbaCpPHN3vnSrXtoXEsLtaVBWAwDXvh9qM12I5SOXVekUjGGGoXvEwDYULrqXA2+TjoEyTRbBqalFYhrg81j+rw0XrsOJNvZtW20W1HtA40HPjYbolBjogFRd1uYDZG5H7qLgkV1TTQ9gmRILL7tiAJmQ2Xup50Zdm2fD5DMsmvbbx9da4u0yWa7ae7j/PB7s/2OdqUH2ttwmx24r5muuR+9ZyDNsI9I+wFierlQwGyDzf20C991XdudnmzjDcAOgGSoK9v9zBtzYzZExn5sw6JoNtwgRRu6tA2F6VGBkyjQzkYL+eBkm/MBkvqXL05iO62cG24bnWsc+NMRvggcqrY1qVcn3KbGgKT+4q9A8TQRSecewS5xf2xluEyBXqtWROE5VCBGgXa3xbgl2mM862n3anSsa7udy/+YFeLvu90pgW+hkDbYEOlGzbmuJnVz8o0Bj8EFyd2Gx+va1l034UaPIBnz/PBQhxWArbdr297eFqxR2G1b2g1xp9PDz1lmufyP08VtriXptMO6vfZ7lcJtaPh9qP3W8Ii2uFKXZ0ntNwwy4AtC6aq23u3arj1zFlZ3M0WQ7Lan2Z7ytLMtVia/va1+ujbt9qZjINmeBcnTNwjV4PmtWvo3YIpUoIsV4ILk5yMiiS6vdixI3sWmzaJRgXOnQNctSI4awDjJtH+S66w1i2+bfpeL823Xf3/W1Hk9FciPAt98840gItmNW9rf6G1ID+MkbWuPu9F2WCYq0AkF0B63Y+kftF0di0hCSCtndJpdI+geYTSyEzbPe3aBAu1Z4ssOYWwAv7TzgKhkNy7VZIfFMBdUoLMK4Nl+//596uMjOw6SkBVjczD4kxsVoALdowCeaTzb3bqlDXG2pIdJkGyPu9VqWa68KoBnGs92u9qZjkYkdaUi3ApS5kYFqMD5V6Bbl/wxa6ZdDbIN6X7yySdsj83K5j4VOMcKoD3GM93OtsUKkPzhhx9U3z1h8hxbK7NOBUTUz+yh0frxxx+7Wo92NsqdThvjJAmTXW2+LFxOFNAQiWe6ne2KFSCJOtUwyW6VnFg4i9l1CuDZxQS6bodIVFw7G2Ub0tYwyfa46x5TFignCuDZxRfCdkMk2itrQFLXLcZVYVAoCs+NClAB+xXAbEA8s908JjJcCzbAXhZ5wLgqtsfh2ud7KmCvAro9bueYyHDbYx1IonowmxvLhmDNIyySi9XYEaLFcW5UgAp0TgE8g3gW8UzqZxSveXs2ww1pN7/HkCOMY2d73LnnjnemAnEKxLXHes5Jlm2SlSCpBcOi5fgFHJA1uszwzfjly5f8owa0gQ7ZAJ5BPIt4JvGLNXhG87hl2Ujbci98gfjqq6/UrG44q1evXvE57NBzSD9IDoAN4BnEs4hubPQI4RntRHthNUjm0UGxzFSACtivQCcaa97zfPxKEOuJ9ZQ3GyBI2u+zmEMqQAUsUyBvjoLlJRzRBmgDSTZAkLTMQTE7VIAK2K9AUoPK43S2tAHaQN5sgCBpv89iDqkAFbBMgbw5CpaXcEQboA0k2QBB0jIHxexQASpgvwJJDSqP09nSBmgDebMBgqT9Pos5pAJUwDIF8uYoWF7CEW2ANpBkAwRJyxwUs0MFqID9CiQ1qDxOZ0sboA3kzQYIkvb7LOaQClAByxTIm6NgeQlHtAHaQJINECQtc1DMDhWgAvYrkNSg8jidLW2ANpA3GyBI2u+zmEMqQAUsUyBvjoLlJRzRBmgDSTZAkLTMQTE7VIAK2K9AUoPK43S2tAHaQN5sgCBpv89iDqkAFbBMgbw5CpaXcEQboA0k2QBB0jIHxexQASpgvwJJDSqP09nSBmgDebMBgqT9Pos5pAJUwDIF8uYoWF7CEW2ANpBkAwRJyxwUs0MFqID9CiQ1qDxOZ0sboA3kzQYIkvb7LOaQClAByxTIm6NgeQlHtAHaQJINECQtc1DMDhWgAvYrkNSg8jidLW2ANpA3GyBI2u+zmEMqQAUsUyBvjoLlJRzRBmgDSTZAkLTMQTE7VIAK2K9AUoPK43S2tAHaQN5sgCBpv89iDqkAFbBMgbw5CpaXcEQboA0k2QBB0jIHxexQASpgvwJJDSqP09nSBmgDebMBgqT9Pos5pAJUwDIF8uYoWF7CEW2ANpBkAwRJyxwUs0MFqID9CiQ1qDxOZ0sboA3kzQYIkvb7LOaQClAByxTIm6NgeQlHtAHaQJINECQtc1DMDhWgAvYrkNSg8jidLW2ANpA3GyBI2u+zmEMqQAUsUyBvjoLlJRzRBmgDSTZAkLTMQTE7VIAK2K9AUoPK43S2tAHaQN5sgCBpv89iDqkAFbBMgbw5CpaXcEQboA0k2QBB0jIHxexQASpgvwJJDSqP09nSBmgDebMBgqT9Pos5pAJUwDIF8uYoWF7CEW2ANpBkAwRJyxwUs0MFqID9CiQ1qDxOZ0sboA3kzQYIkvb7LOaQClAByxTIm6NgeQlHtAHaQJINECQtc1DMDhWgAvYrkNSg8jidLW2ANpA3GyBI2u+zojncmJdrw2NSWzuIfnaOj2wvXpVS6aosbltaiLUpKZVKMrV2xvxF0nkrTybHZPjGkrS/6Fne64w6WXx53hzFuSjvSlUKhYJUVwgy56K+DtpdT1syN1SQwtCcbLXjXjsNqQ71SXlhS/Kud0dB0gGHkpRG5uX1UU5je1Gulkp2Q8ZR+U/7sxc1GSz1ymQzDZB8K817N2RssFdBUqnUK4PXJmVpYz/tXB+bXleAZAQSY4odOeetLN/old6xY56DmKROfijLe508d+fliq50HFtzMlQoSPHyQoLjXZFqoSCF6oqdjpMgaUe97KzITHlIei4UFNgXLvTIeHVB1nfaDY7h9NsNknUpF4syNLdph+7tgOUW07QDJEv9UnuR7EJez4+4kGNxtCo5+xZ/si2LV3ul1DssN2qLstxsSnN5USbHAJW9cm2p/fExU5z8gqSpAvfPgwLdDJKFQlEux0ZZCJLdV+8pw9bmnFwuFqTYNy7Tc3VpNBpSn6vKEKDywrgsbIVhr53vUy5bi1DVfTZyfB1ZAJK90ttbkv5Eknwhtf6S9PYCbgiSaTrZgye3pbfUK7efhKOP+/LkNgDztjxJI+jZYqYJki0KxdM6osCPP/4o3333nXzzzTeyu7srX331lXzxxRfqD/s4tre3J+/evZNvv/32/EUp3IgkuocLxbLUIxEkgmT3QUKasLUnjUpRCsUJaeyF4GOvIRMAzEpD9jIDsjTLFipPZmU4H/e1ACQnpVbrT4QWB3b6pVabNEASkbSSlPprEgxk7svyjbjj2u+syRS6yKea8rZZk2tud25v/1WpNd/qk9zXbdXlO9LvdPn29o/I7cUNCSCX7qJc3pDF2yPS34vud3QN35M1nPi2KbVrg9KLe/b2y8jtRYn2GO/LxuJt8e4zeC0mL6Gs6fuaY/X2g3noH7kh9yJlCqZzFLgdNKdkeHhEHhoC728syaQujypnTYK30Pouy4t7Vx09vAGFx+vp5WcjWJZ43YJlwbvt5j25MdKfrLfWrflWmrVrMujWV//VcDmQGs5xy6DLugQbPGaMpL6HWTfhrEbOce356qIaI+lE4K/JUsgk95dvSKk0LA/NcSDbrdiYmYHgvUT89xsbi3Lb0y/G3s1kcrQPeAQc/u53v5P379/L4eGh+sNxvWEfxwGZ+/v7HlziunMDHy5IDlWqTlRpIuz0wyCZ5KiTz1tdmZbxnguqy7N4cUAmFtAtuCfrcxMycLGojl/oGZfplZ2oblsNmR7vkQsKdC/KwMScrJvAktS1fdx1ESjQ+a9H8jWzinztyMr0uNt1W5SLAxMyt74Xye9WI1TWuXUDolrVLgkkdiJ5i9PMzIPXxexqtlJ1u56hp/s3NGeM99tZl7mJAblYxOcXpGd8WlYiXy7M/CWVCefsyUq1T/oGZmTV0HurMSPlgYtSPK5O66syc9k5zxsDu7MuC1VdDwWJ2o2fn/X1OZnQ97kwIBOBujDL4O/vwFb7/Lz1jU9Lw4yo6ufF1Mwom//cH1dX2t5CQ0ZaTt/Ps3/PbI9ZAJJTsvZ6XkZKJbkW9pxyIE9uu2MolfP1I5Jvl65JKdwlfvBEbpeOim66oDM4KMPDH8j8stmV66ftOFdE5MakttSUZrMpS1NjKnp31ZwJ4gJBb2+/jNWWnPPuXZNBgOPImIz1Dsq1e8Hj/VNr4gf59mVtalDdZ3JxOXCfG8shitAeC68REHkhtcGSlAbdMjWXZf6DQQW1R6XjQHpJRmovgoBs3svd31+bUuMyhz+Yd7vA5+UDdc8p8ef8uPr29grg/PbUlEwtg3oAK8fr6YBkvwwORvUM6hbNIK5FdFXXQ3NpSsZ6S9Lrwpm6wtVtcHBYdDmWFyfVeSXzPHHrxUhvSddrBiAp7pjgG8vm1xb3WRh+6I8nxnm9JfXFZUkNS9B1Ev6CZerlg6MzcMF93z8og/3a3pfk3jXYT79M+ZVrJpKLfcAhoBAwaEJjq4UHWCJK+fbtW5VGpxr5lu/rOa5N2ZwbEnRxTzRMQAo7PN9RByczJJxXLMqFvgmZrTekUZ+TygDA8ZIMDPRIcaAic4HjQzJnOm23y7RnfEYWGrh+Vso9BSn0TPtgEgeSrVwXcf5u/otFuTg07dxvYUbGcb/CgAwMFMXLhz5+qSorBtRuzl2WYqFHxmcWnO7d2bL0FArSM73qAmer2sUBAaCsRwrFAam43ccL1QEpFopSrvsAvlMvq2MDVScPjYWqDAAKtWZ7O7Kzsy6zakLKrKzv7MiOLsPeilR7Cn69NBakivqKjVTrPLoRycKATK+adqM/D746Gl2Qoelg/gJjdN06LRYvyMXLEzI9PS31zQM50PnT9tSoy2y5RwqFHql693Y1vtQjPReHZHqhIY3GgsyM47xLUl1JzuPeSlUuFYoyMDEbrP9ixY+2es+LAd8RW2qlrsLPi6tTS+kHNW35WY/k82zpWACSV2Xx7VtZulaSoDNHUGhJrmnADIGk/mzYCM940UsjihZs9DVITjkRQ/3h64cyXCrJ1UUX3l48lJHhYakFokpuHk1H7oLJ1fngWMKNe8MqchU87oJA75ToZA/WpqS/1C+TTRMY3G7lSLRVZzYGJNemVBRusmmcIxtyb9jRNBlJNTCVpBcRzKUX8tqnXCOxt7J8ezg6q/hFTfpLJbnt9X8n6Nuing5I9koA1vWXCUM3I2Pu7gt5ODIsw8EKE+fLhhHB0yA5tRYA59cPUV+wQze5jXvqy8CIYVv4ZH/5g0wikl6U8Mayn098Seotyci8DkdqIJwPzvR+/VB9KQtCqKmYvs6Jfnr36jW/SImI+6Ws14som2l09z66sL/++mv1dxqADKujgfLLL7+0u8s74Lg2nRmvlyoGIIUdXqswpB26mRZgoC5lRKIC9ziQg81Z6SsUjHGa/n02TQe4OSsDhYIPTxGQbPE6M02175ZzaE4C91ufUfnCLGDz+F5jQkF3dTUMAMFJGJuzA1Io6CEDft6OhvCog3cg55JUAiC0J42JohQuabDekoXLzozlQF7r5WBeD+LyAfi5FK0Xt3v6kgfD0bxpwEMEc6A8Iwurm0YU1jx/VWYG+qQvlNbOwrgUCn0yC1hEXbh12lNdCaSzU5+Qvr5yaMzlqkxfKkjBi6S7ZSteljmdHtJEOTCprKqh3syXs6+itaF6PkD9X+iRab0qQOB5iaaB/LdWV+Hnyk2rhfQ7BY7h+9oBktvwWxivNyKenxQRp4vPGaf3NrI0jNuNbYDd2lRvTHe32ay7oBNxjk2ZVCAZBELzSuyvTaHr2gfBaGTQucIBojEJ8aU4x/3rk/LrdGGGHLuZGReIvGK4Ed2r90Jd703GDEkAACAASURBVOY1R+w7XcJ61rYLlcE+6/ir3ciZD35J+sZfHtbT0Sda7u35saDu8clFj4Z1Cr/XVzTNYRMizv2i+Uiqb52Mek26h3lS5Jww3OE7FCLuxhhV9WXBeD5io5a4iTOmuOQZh3lj7IfvFX6vz9+W+TEMA9Ffe/Tx7n794YcfVBc2Gsq0N0Q2MaYS3d/hhtiK92HH5YLapYp24mGHFwchcIInPK8S6tJzr/e6Wd18mdE2Ry8XHPQs8jBItnpdEkjqdPXnnj5BQDxwj+su1y0VzdXAaADG6rRc8pYnalU743o3HytVExj9zxGBLBR0JNeNDl6akLoZ2dVl8V7j8rEi1WJBosC4I/VyK8vpbEljpiwDeta2C5VHd4u75QjXYfi9l2+/3P6zEy5L+L2+xv2SFK5fI20H+nukPLsimzpKa3yu7unZQ3JEsrW6Cj8vbj5bSN8vuy5bZ16tAUmRNZkKTLpxJ9ncfqK6guMgIzhmzDk/edIO3EIS6DjHfSBC+GlDliavybA7RhJj45w/HwSTwCIur7h7ECRdB+6lq9PXrzEgoz1bBET2ZWP+mj828MakPFzeEB1g05cd+3rwWtYWa3Jj2Jm1PXbvhdEN745BHHPHfBr59nVL0rc1PVvTLakU+7KxNCnXht0xkkb+PBaK6OampY77eocB17tj0vXeCTHRYvMzvR9JJwbm3Gi8jva+wDhic5ksNw3fLrXduK9eofVN9Wv4XuH3ofMS09Hndc8roo+YLJNGFDJJFTT8b968sbOrO8ZxrU6b3YVhh5fkqE97nnaCzvUeSLowocfxRV41EISho9XrwoAQAeFjHHsIJOPGHpp5doCzVe20JvrVvc4Y12im7YPkgRzsNKTS5487nZiZk5WtcHduTD7c8gTT9cdRnmRdxr3NFZmbHpc+dKkXB2TG63ZGeXZkfaHqj0M0yqShXEckvfdmXW01gssM6eu9dSNjyqaud49ruzHT1Pt7qzIz5IzlhQ4XeoakPLMgqyaUxzwvQbBrta7Cz8sx9qbzaNGrRSApopylnimsuk39ZYFiIcPtflPdfaHz4xvyJNAJgeS+043YOzYlSy9eq3FSGCu1jPGaLUckfTDReYkFyeFJUePbMMYt8Lcm20lBkQiIuHc4eC0vlh7K5A134k/vmDx8kZSIzlXc6740J/uNyU2IDmOM6KB8MN+Uje19R5ONhzIWiOQm6NuinrF1HAHw+Pw6s8zHZArd8/tu/pZvB7uik3RTx/36sgIkxRlK0au+SDlfkvxubR9Yrz0M2437fiPpa0QYHMPvtb7u8ZyAJCKRgMjvv/9eC9C2V4AqYNK6yGSsY1yVaTUWsSqrGJcGZ+054CRHfdrzNCzFg+T4DMa4xfytu+MCE0Dy2OsiDjmc/2MceyxIjstMXF4bDXc9xVa105roV/e6voozdi9yj1XZCkTQ9mRnvSFzMxPuJKei9E3UjXVCY/Lhlqev4o5dDN9jdSvQzRyEJ53P0CugFt3OHuQhYnpBwWV1YVU2MT4Tf/WKmvjjgWO4TnVdbc7KULEgPeVZaaxvOdd64z31AuQxZVPXu8c9Ow7lVd8DXdNbq7IwO2HAbo8/tjL2eTHTarWuTmhvRv5a0j6D860CSXG7aG8/eessP2NEYOIhw5+Ms4xxbkeNK1RuIQF03EiljqxFu9EdnxIBjAQwic9rOCLp5v3YPMf4s/B9DwBOIWDcb8pk/1FjJDdk/iomnSzFRy4D93CixZHxci12bbeqZ2u6xejx1lmwXtefd0agDD58RdhIneeDpNe1HWaxcHrejYydU50TD3OqextjQzcwhtfo1sbt3HG90QlqRl5id8P3Cr/XF+UHJDEmEhCJsYxZbToyadUyQQmOcW+16k4UmZZKJ0DSHTM5vuBPJIl1oGHoaPW6iKM9oWMPgeTmbJ8UCuOycKoZzgn39vKIsZAYV6rHQprgYu7vOXAVgMoD2Zx1JlF54znjxki6YwijXdtm+jH767Nyua9PJurxXb1OpLYqKyjL1oJcLhTEizrr8oXrMPzePW8V3ftFNy19baQsZwfJgJ1pGC7XZUeVwVnAP1IGLz+t1lVCnSc8j4E8efeKqY8MP7MLJN0oTGlkJDKLOwkynLGVx61Fqd1DayDp3Cs8xnFb5rHkUGoRSWfyBmYa3wjPVt9/IU21fpDOd+g1BCsqklsKLxfjgmpgNrKZzoGsTTlRx/BYTpz1+iEWgdcTVVzdgrN5ZL85qSbb+AAXr2+reibVsXPcGFJgFgP7LtCOhQqyPY+fXDSW6wnp5iWjjvsgqb/QBCdL6XGLRnpeAsZO0j2MU6JDIhJgbn9ZbpR6ZWRkODoRDZOp1Kz56Azt7WbTn9lt3lfth+8Vfq8vyA9IorcBQJf1hjGTmNFtjWNIdFzuzFPddWhEclYq6LIMOfSdBRk/FXBqZ+g4Vt9Br8tMeIa26yQ3Vxr+xJcIdLR4XcThntCxh0ASkzKCM7R1uTZlpeGPr2xNO32t/6pnY0d+mm9vVRpqeSJ0azsTmSIw6MK1F/GLwBfug7GQzgzt8ALie6sNWU0CZESs3aijOcHHse9NmR0oSKFv1qkvz9Z8PXCes1qA8TOXkTp1dHCgtOJAqa6/vZVQ1PO0ILkpc1hmanzBAUad/sG6zPQVpNAySB5IS3V14I7Z9KK1bl27Y2r958C3AWvaDFcby0BST7oBsBkTDbzuTcPZ61bfnc0aWQpIfx54jQcdPXbSAyI3Mto7jJnMTVn2xg2mC5Lesjglf5mg5tI9uTaIZWvmE2ZQx0TWAFJY6kYvaYTlimroijZn+QaEcN7sr8kUxkOav2zTXJKHt51rB73ZzYBSd9zkJH4Bxz8HoObpljQGtUU9Tw2S8lrmR7BW57DcwHJLy4tSuzHsjBk9DUgmLf+DZY3M9GIkjUJizEkR2EyCOXdCWUBjPz1nSaaS9I5NyiKWsmouy+KkMwQhuBKAf81JJtuotVoj4VszrfO/jygkQLJTGxYyxwxxKxyD59xjIkraSQcA8UD2GhW1BiC6GOver5gUpYgxcR5wJjn0BGALT7ZxZ78Czrxlghp1matgyZseqeg1J2OgA7Nmj73OAwXtqBPylaRPGCTVmokYW1qUgcqc0sVb7qin4q3F2Jp2Ok/m66bMXcbYR395oYa7DFHxsp5RvierWCKoYCyvU5+VCYyZNJewOdCLiF+WGSy/pIcJuMsmFXrGZUYtm9OQhZlx6cGvHh3xk4DQG+MhzV+2aSzMyoQab2h0Cx+4YFnsc5ZIqs/J9Hifs56kNyHJn7Xtg6+jg9buwlBVLRuF7mf16zmwTw/IkuzOPe7Zp6mts7+1gOWbioK1I/WyVFjDNLC8UJI9BOyplbpCpBgz+ouil2qC1n0XikoPguQxrXM8OLjdqO4kG51E/LnOp83JoxYh1yngtUWQVHNDsDhzcDHyDTV72IhURoDAuVdSXp3j4cia81vX3oLk/SNy414zuKSLWQRVjKlgpA3H3jblnh4bWSpJ7+A1mVxqZRb3tqwtmpNUeqV/OO7amAW6t53Z7iUvUpmkL+YuHa/nyXQLieIuyB5Y/H1jXo3h9CKVCfXlwF/4S0pMedfm1W++H8lWSfcwsxs5JwkkEbXGIuThvPmJRReJP+530sP3Cr/XabvHjyysPvd8vnaiSzusFAAS4yWt6OI+xjFimRu1cHTAAbuLibszdJ1FoVedpYO885IcegKwxYAkdNpbX5CqXpBcLZBdlQUNPnDeMSDZ0nUBxw+QSMhXkj4RkEQae85EEnfxdW8x8EA0rxXtopDjfOnYkRXMjHYXccfi7uWZhjH2MSYPxYtqSZ7I7OnNukwMOBNLLpjL8ajfzNYLkmPh9bLMNGK+ZIT121qRueq49Ll5KxQvSt94qK5wzZ6z4Hlggfl13V3sRioT6hQaYMHwy4FF7LekgQh5QUcqk+zueJBE+pt1cyKQXnjeGF6RZA9hPbCA/bF1hUXuL7uLv+t71dWYZIJkuNVsy3snGnX0bO223JiJUgEqcI4VgLNIMxoJGPz3f//3EyuC9SWRDwcQksCBx6kPbYA2YKcNdLRr+8QtbtwFagFmf3Z33Ck8RgWoABUwFUA0Ej95mOYEGzSmP/3pT+VXv/qVeatj9wGgWF/SiqhkJJpip+MiULBesrEBN3pZCI0D5nMS+OJ7bkHyYHtN/PGE+lc6jm2zeQIVoAJUQC3zg0hg2ttpYRLXWbccEJ1lwFlmAy4ERLt0Jki2Uh/nFiSxNApmPPdfvRf8ucO0PQPTowJUoOsUQPTvpN3aW1tbqusa3ddH/S0uLsrdu3dPFJnEb3IjQtpKo81zCFu0gQxtAD/lOeDONueXq9g26tyCZNd5NhaIClCBTBRAtzYgEjB5ku2//uu/5Je//OWxf7/4xS8USOK11XvopYDYvZ0hIBAKYqGAkBq0wZXqgL8IOW0m1mYIkifxJGc4F8vkcKMCVKDzCujZ2nCYaW8AQQDkSSASecB11szeprOMdZYErCBgUQ/qoW2AIJm2J0lIjyCZIAwPU4GMFcDPIWL9xjQn2qAIp4VIXIsGGY0xx0nSOWvnzFfawnmxAYJkRk6MIJmR0LwNFThGAYAkon9pb2hM0fUNoDzN9tlnnxEkGQ1lNJQ2cO5sgCDptfhJCzN7J5xphyB5Jvl4MRVITYHvv/9eRf9Ok6COOm5ubp7m8iOv+eSTT+T9+/edcyJHLP6caWRkfVbG+4ZkenWvc1qEYGanUTn2V10y1SiUv9PfO2nRbkYDT69p/rTrKEgm/ZLJka1t2z4kSLZNWiZMBSxS4LQgqSHypOMfWy36p59+SpAEIK1OS0/hglRW7ABJ52cWe6Q6Oy0DBfNn/k4JDC3/Isop0z8RZBIkCYxntzOCpNfKEyQ9KbhDBbpYAYAkFgCHA2l1azdEYmzk9vY2QfJEEHR2B3gsROBn/MoDMuD+dODm3Lj0jM/I6t4Z7k2QtCbSfGz922aPluaHIOl5EoKkJwV3qEAXKwCQxGLk6EZuZdMQibUhEY1sZQkgnHOSDcv//Pa3vyVIWuooUwUOgiRBssvs/NyA5P7GkkxeG5TeUklKpV4ZvFaT5rbZVPsguLGxKLdH+p1ze0fk9uKG7Junisi+OqdXMHaxtx/nLMu9qyUpXQ39Ss7bpty7MSL9vc59+0duy+JGMDWvi35jQxZv++eO3F4UfSrHSIYqgG+pQIcUAEhi1vZJFiTHzx4CJLHY+FGLkZufnaR4e3t7loLknqwvVGW854IUCgUpXOiR8emGbMU5wq2GTI/3yAWcV7ggPeNVqW/6kbutuSEpFIZkbss/BkBbqeJ84yfoEsZqbjWmvXwULw7IxNy67IXzEZOHhfVwF/mOrM9NyMDFoioT0irPrspOOC3zfSRPK1JFOasrsrNi5uuyTK/sHA1KJwDJvfUFqQY0nZZGQD+/a3p9fU4mBi5KUdVTvD576hynLh0N6zIzVJDC0JxXp149rdRlYgDn+nW2E5OflZ1gfaYK3WYdcP9ou+qgPucCJA/WpmQQwDdWk6VmU5rLizI51iul3quy6MGkC5L9gzLYPya1paY0m0ty79qglEr9MrVmdGNtL8rV3pL0Dn8g88tGeoBUEyTD53npDcrUmg+TDkj2y+Bgv4zVlqTZbMrSvWsqz/1Ta4I7EyRP4lZ5LhVonwKYtf3111/L27dvT3QTwCR+SxuNZtob0kSUtKPL/0RgaU9Wqz0KCoemF6TRaEh9riIDxYIUL8/Jpum4NufkMo4PVGWh0ZBGY0GqA0UpFC/LnAuTHqAEQKg1kNycuyzFQo+Mz7j5mC1LT6EgPW6Xs4KXnbqU4/JQ6JHpVQ07e7KiytQj5dm6UyadVnUlCqa6jBFtXJDs6ZG+vgmZrTekUZ+TCspsgFcsVLUIknurVVXGC0PTjqY6fUPTgwMXJC/1SM/FIZlecLSfGUe9XQoupK3rKJLfOJAsSrF4QQbKFZmenhXAojNWtCh9E7NSRx3XZ6XcU5BCT/VsXf1aY75aC4qxdmzU1zkAydcyPwLAmxePGdGK76/J1GBJSteWxHEHLkgG4BILtD2R24DQqTW37d+X5Q8Aobflic+CIrIh94ZNkDyQJ7d7pdQ/Kc3AebgPjtfkhZuiA5K9ctWnWtxYntwuSal3SnBngmTarpfpUYHTKQCQBLCdBgjbAZNYIB0TbRCVtAokN2dloFCQobnNgINzgKIg4ws68rYnjUpRCpeqshIYO7gq05cKUqyuqOtPDZIeeAXzsTk7IIVCWepuRGxr4bIDcUYU9AA/b1dAHladMnhl2gqUaWdh/GgATATJUJk3Z6WvUJDLC8H0A47YK88R5xxsyuyAA3gBYN9bkSrgbXzBjaC6IBmAywM52GvIhFnugx2plwH2E9II1NG6zPTFg+TlQL3vSH2iT/rKC17kUpVpdVouFQoy0QhHfTW48zVQ9wZ8ddNx+0Hy9UMZLpXkxnKA5pQHef1wWEqlG+J85HdtB4BTtmV+rCQlDySbMhkAS+2MQte7ANpf07iozwOb3lZRTv2R17UdvLFsz49JqUSQ9JXjHhXovAIANyxGjsYPv2990g3d1xg3mdaGPAAkESVFuh1zMCFY2pztC4Can69NmQV8lOsOzLjQcsmMDroOc2e9IY3VLRXpOy1IOtf5wOjlw4WY6ooDK3uNihQLl2SingxoiWXa25LVRkPWk7ppQ9ocHPhd215+VJlXpKLgOzkPB62ApAuk5bqGdR/IgmXwu7aDww02ZQ5d1i7EI7/Il4Z6P8/R65Pqyb/Gz0tLZelSeIrVI6dltR8k16ZUNM/jQLP1Vp/1iwN0IRD0znOP6wTQXV0qhaKHODl0feJ5ONVJQ8NtIkguXiVIevXAHSpghwIAye+++05BJCa44H2nNtwbC5FjFjkm3NgEkpGxi4aTVJ9dmpZVHGsFjA4OJAlQIvcJQZvzOcZRxv9pkDw42JFGpc8dI9gj4xMzMrfiQKx2+pF7GWXS58S+hvJ0FEhi7OTQ3BlBMnI/A97UZ5fc7vooCDr5d49rkEyso+j1SfWEdLcaM1Ie0uNg/fo4srytaszzOvcl8ozan2+QbE4akcEQCHqeoR0gOS9jRpSUIOmJzR0qcC4UwIQbQBuW3EGXcqe23d1def36tYLaji5GDkcSgpejoGulUpBCpiA5LjNq7CXGAAb/wlHEvZ11aczNyIQ7SaXYNyF1d1zmUWWKBUjtYEPadBYkK2r8ozPuMwqC7QLJzdkhNU61PNuQ9a0dFdHfWZ+VoePAWWvI13MLikc+G+7Pu6JNNb+U/55uVHEQH4I227ElAVjgXil0bS9iNraOSEqGXduMSAaqkm+ogC0KoG1D9zZA7vPPP1cRyqzzhqgofs0G7WvHu7VjQDLYhWpExDB+z+zadrtN+2aDYxiV89kDcDjj55IiXRG4C0Gbk49xWUjqdnYBZW/Hv5fn+DYd0NFjJDfVzPHwOEGUbU/VQ2QWuIafUJ7aDpJn7toORSS9rm13rKgul56sEzdrOzApalWqmMikI5z6+sRIp2kv3PfsUevWZa/2RyTlhJNtzFnXyjOEIpJqEkzcJJoXUus/y2Qbcwa545IcUOYYyawdNO9HBY5TQH9JxuQWgCS6ls1v08ddf9bPcS90q3/88ccqIopoZEe7teHYwrDkTUwJAmJ0so07kUNHKD0n6UwYKVYazmzoFUTSiuJ3RQMwdmRh/Jjlf9ZnojO01T02ZaWh84Y8GFFSMw+AXg1Ablr+RCEHcvYaE1IsDMisOVHHSyNGmyPGSKbStX3SyTYGCDrQEgZJPSGqEjshKnb5nwBIumNCK87EKQ1GeysVNdmGXdv5hmULQHJYJtVSPViuJ/i34a7OcaLlf44FSXeMY8zyP71YK9K8/kTL/xAkz+pceT0VyFIBzN5GVBLRQEQGs4JJQCQa3v/7v/9T61ni/h2dra2BKQySB2db/md66EJg+R/MJK4UsVxM2Vsupzp0QYpFLJlz1DqSesmeogxU5tylZ9yldnoqamkagE1kuZxGXWYnMGayKBVvVrFOy1z+Z0L6igXpOc3yPxpQtYYuYB4JVm4Ur6/iLGUU7qpvrDsTbCLlOWr5n2NB8kAOYpf/gf5xs7b9tSMdaHRBtHBBhqqogwWZnRhy1ww9Zkyop02+YUvDdze+WgCSWOg7/s/rjVYLiLe+IHlw8nQ4Ium4quiC5BuyPBUCSZx6kgXJgzcWRiSzxALeiwqcTAEdlUQkEF3ciA5ibcl2RiYBrwDWzc1NBZOYsW1FNBLOPgKScPxnWZA8vHj2gZgLYjuLm6/IqupuPgokE/JRXYjMsg4u4F2UiwNlmYksEB5dkByLm592QfIgGDiRu1ZAMmnykBc9BRzHLACetCB5cNZ2OCLpQJypv17UvY4F4Q0QTRqCgOjxyvRluQjwVAvOT8vKVkPNBi+EIpVBTQiQ3a5HR0HyZM3++T6b60ie7/pj7rtTAUAjxioiIgiIxMSXN2/eqEhl2iVG9BPd2RsbG94kn47P1Ga0qGsnQHQ7vLB89gA6QTJtb5GQHkEyQRgepgIdVgBRQsAkIoP46UTAJMZNIkqJz866IQ2ki2V+AJGASaQNiLSiS5swSZikDdAGzmADBMmzeokWrydItigUT6MCHVAAsIeIIWASkIcxk+jqRnQSywNh9YqTbrgG16KRffnypRoTifSQvjXjIs/gPBgRsicixLpgXXTSBgiSJ/UOpzyfIHlK4XgZFchIAR2ZRJQQYxcBfYhO4g8NJcY24jgabEQwTbjEPo7hM8AjzkXkEWMhEYXEL9fgGD5jJJJOv5NOn/em/aVtAwTJjJwUQTIjoXkbKnAGBTRMYgIOgE9HFBGdfPXqlWxtbalub3R9a7gEIGIfx7DAOc773//9XwWRiGwCSNG1DQglRNKJp+3EmR5tqtM2QJA8g9PhpVSACnSfAno2N7q6EZ1ENzSA8ssvv1RRRkQX0VWNSONHH32k/rCPYyZsAiBxDa5FGtbMzmZ3NsfD0QZoAynaAEGy+/wgS0QFqMAZFQBMIjqJLmsAJSKUAEEAoe72RuOJ7mv8YR/giOgk4BHjIHGeBkgAaccXHE/RcXQ6AsL7MwpHG7DHBgiSZ3Q4vJwKUIHuVQBAqSOUGAMJqIQDAyQi0mj+4dj+/r6CR3Rh6wgkAdIeh0f4YF3QBtK3AYJk9/pAlowKUIEUFdBQiUglIowARfMPx3TkkfCYvrMiAFBT2oCdNkCQTNHRMCkqQAXyoQAdmp0OjfXCeqENZG8DBMl8+D2WkgpQgRQVoLPK3llRc2pOG7DTBgiSKToXJkUFqEA+FKBDs9OhsV5YL7SB7G2AIJkPv8dSUgEqkKICdFbZOytqTs1pA3baAEEyRefCpKgAFciHAnRodjo01gvrhTaQvQ0QJPPh91hKKkAFUlSAzip7Z0XNqTltwE4bIEim6FyYFBWgAvlQgA7NTofGemG90AaytwGCZD78HktJBahAigrQWWXvrKg5NacN2GkDBMkUnQuTogJUIB8K0KHZ6dBYL6wX2kD2NkCQzIffYympABVIUQE6q+ydFTWn5rQBO22AIJmic2FSVIAK5EMBOjQ7HRrrhfVCG8jeBgiS+fB7LCUVoAIpKkBnlb2zoubUnDZgpw0QJFN0LkyKClCBfChAh2anQ2O9sF5oA9nbAEEyH36PpaQCVCBFBeissndW1Jya0wbstAGCZIrOhUlRASqQDwXo0Ox0aKwX1gttIHsbIEjmw++xlFSACqSoAJ1V9s6KmlNz2oCdNkCQTNG5MCkqQAXyoQAdmp0OjfXCeqENZG8DBMl8+D2WkgpQgRQVoLPK3llRc2pOG7DTBgiSKToXJkUFqEA+FKBDs9OhsV5YL7SB7G2AIJkPv8dSUgEqkKICdFbZOytqTs1pA3baAEEyRefCpKgAFciHAnRodjo01gvrhTaQvQ0QJPPh91hKKkAFUlSAzip7Z0XNqTltwE4bIEim6FyYFBWgAvlQgA7NTofGemG90AaytwGCZD78HktJBahAigrQWWXvrKg5NacN2GkDBMkUnQuTogJUIB8K0KHZ6dBYL6wX2kD2NkCQzIffYympABVIUQE6q+ydFTWn5rQBO22AIJmic2FSVIAK5EMBOjQ7HRrrhfVCG8jeBgiS+fB7LCUVoAIpKkBnlb2zoubUnDZgpw0QJFN0LkyKClCBfChAh2anQ2O9sF5oA9nbAEEyH36PpaQCVCBFBeissndW1Jya0wbstAGCZIrOhUlRASqQDwXo0Ox0aKwX1gttIHsbIEjmw++xlFSACqSoAJ1V9s6KmlNz2oCdNkCQTNG5MCkqQAXyoQAdmp0OjfXCeqENZG8DBMl8+D2WkgpQgRQVoLPK3llRc2pOG7DTBgiSKToXJkUFqEA+FKBDs9OhsV5YL7SB7G2AIJkPv8dSUgEqkKICdFbZOytqTs1pA3baAEEyRefCpKgAFciHAnRodjo01gvrhTaQvQ0QJPPh91hKKkAFUlSAzip7Z0XNqTltwE4bIEim6FyYFBWgAvlQgA7NTofGemG90AaytwGCZD78HktJBahAigrQWWXvrKg5NacN2GkDBMkUnQuTogJUIB8K0KHZ6dBYL6wX2kD2NkCQzIffYympABVIUQE6q+ydFTWn5rQBO22AIJmic2FSVIAK5EMBOjQ7HRrrhfVCG8jeBgiS+fB7LCUVoAIpKkBnlb2zoubUnDZgpw0QJFN0LkyKClCBfChAh2anQ2O9sF5oA9nbAEEyH36PpaQCVCBFBeissndW1Jya0wbstAGCZIrOhUlRgdMo8P79e/nggw/U36effnqaJFK5ZnNzU/7hH/5B5WNiYkLt4xi3qAJ0aHY6NNYL64U2kL0NECSjPoJHqECmCnz55ZcCcMMfgBJgmfUGgNV5CL8if9yCCtBZZe+sqDk1pw3YaQMEyaB/syj85AAACvRJREFU4DsqkLoCAENE+tbX1xPT/o//+A8P5H72s58lnteuD/75n//Zu38YJH/1q1+167aRdL///nv56quv5IsvvjjTH9L47rvvIumndYAOzU6HxnphvdAGsrcBgmRanoXpUIEYBQCRU1NTCtJMIEOU71/+5V/E7Mqem5vzYC7rLuWf/vSn3r3DIInPstqePXsmf/qnfypjY2Nn+rt586b8+te/blu26ayyd1bUnJrTBuy0AYJk21wNE867AiZEAs5MkPz7v/97BW537tzxurJxPrq2cS6OZ7nZApJ/8id/Ir//+78vf/u3fyvQ6DR/uPYP//APBTDZro0OzU6HxnphvbTbBnZ3d1U7jbb6N7/5jbTzfv/2b/+mfEH4y33c+/v37wvy1s78JKVNkGyXp2G6uVYgDJFhkDS7stHtrTfApm4kzGil/rxdr7aAJCKRAEDod9oN1966dUtFNE+bxnHXJTWoPE6QoQ10tw18/vnnXhsNmGwnvP35n/+5dy/tF456BXh2wv4Iksd5DH5OBU6gAOAPXdSIKIYfeDMiiSR1VBLn6fGT5sSbf/3Xfz3Bnc92qk0giajkWbc/+7M/I0gedLdD74TD5D2736YAhojura2tJUIZgE2372g722UX+h5xr4DMv/u7v5N6ve79/fd//3fb8nJUGQmSZ/VYvJ4KGAro8ZBxD34YJBE50984AZV602mggcpqsxEkP/vsM/mnf/onQeOIDWCN94eHh+r9L3/5S/mbv/kb7+/nP/+5vH79Wn1GkOx+h3+UY+NnrP/T2AAg8i//8i8VJALQdBqIQqLtMbuyHz586MFkuwAuzo/gGACynZFQXe5WXwmSyu3wHxVIR4GkBx/HwyCJO+qopDkmUk+6AVBmtdkIkhsbG/IXf/EX8vTpUyXDo0eP1PtvvvlGvYdm5qQcdIk/f/5cfUaQJEi06gR5Hm0FNmBCJNprEyQBbjiGNkcDHF7NMe3tsKM4fwLQbce9zpImQTIrT8375EKBuAdfH4sDSRzTn+v1Gs1jWYmmgVbnxXwF2Ga1AQx11/YPP/wggEa9jA8aOg2RyM+3336rxlIisqv/sHwQNoIk4eAsjpHX5st+whCJ9s8ESbMrG93e2j5wjm4rzWil/vysrzpt81VHP5Fn5MX8zMwzIqYaes+aj+OuJ0hm5SF5n1woYD7U4f3jQFIL1AmQRLdxOL/6fZZjNU2Q1Hqc5pUgmS8QOM7R8XPaQ5wNAP4AXHFj2k0ow7U6Kol2UY+fNCfePH782APMuHud5phug81XDYcm3OrPzTzjGKKX7QDccFkIkqfxUryGCiQooB/ouNc4kNSRQHSR6C3Lrm1zZnhc97Y5TtM8V+c17VcTJOO6tv/gD/7A686+evWqoLsb23/+53+qbm92bRMYwk6O72kTSTagx0PGtdcmlOF6AJwe0w6o1GnqNDBeWx9L6zUuXzpt5C/8uZln/Rl8S7tncxMk0/aETC/XCuiJMvohNl/DIInuWD3Gxuw+1mmYENcOUTWwmvnCQuiIQOKYCY46Ymnmsx15MkHyk08+UaCo4XB5eVn++q//Wn7yk5+ov7t37wqOYfuf//kfde6rV6/Ue0YkCQ/a4fKVtpBkA2b7HN43oUxfr6OSiGDqY3rSTTvGLobzhPf6vseB5D/+4z96ExEBue2ESYJkO7wh08ytAnr5Hw2DZkNgAhsEMn+WUP+STZbL/+hoKPKIdS2TNnPNS1zTzs0EybPchyBJeNAOl6+0hSQbMNvn8H4cSJrwhm5tpGseS7rPaY+H84T3Oi3zvvo8wKP+PMtXguRZvBWvpQJHKKAjfvohN0HShDMz8ohz9PlmRPCI25z6I6SvI6K4J/L78uVLLz3sm2XAue3OE0CSC5LT8WfpBHmv/NqbbmvjXo8DSW03JtDpY2m9xuVLp23eV59nzirX52XxSpD03CZ3qED6CpggZoKkjgYCztDFjc3s6sZYnCy2MEzqBin8mgVEorw3btwQjIOcnZ1VEAv9TvqHa//oj/5I/viP/7htEmbROPMe+QUc1n02dR9u58z3cSCpu7bRHuo6sqlrW+cfwYm4P53ntF8Jkm1zNUyYCjgKaJg0QRJd2OjaNiN8+jw0BrqrOwsNkRfz3rox0q/4TC9N1O78/PrXv1YRSUQmz/IHIH3y5Enbspt2Q8z0sgEH6kydTRvQE2V0W2e+hkESk20AkDgH8KjT0WnYMNnGzH/cvs5z2q8Eyba5GiZMBXwFAI36ZxD9o/5eUle3f0b79xAR1ZNq0AhhX0dL23935w5YM3J7e1u2trbO9Ic00Fi2a0u7IWZ6BBzaQPY2oJf/0TBowlcYJDH+UH+u13Js9/I/epa4vi9etZ3EdW2b58Xt62vTfiVItsvTMF0q0KIC5gQbNBxZw5uZTURCdQOUZVTUzMN52E+7IWZ62UMENafmpg3oLmrd/pkgaa7ZaEYeTZhrx3qNuG8YJnWezXvrPB/3qq9N+5UgeR68FvPY1QoAHNFYZDUO8SgxkRfMOEd+uCUrkHZDzPQINbSBztuACZMmSJpjI/WC4GZXN9rLrOuPIJncPvMTKkAFqID1CmTtNHi/zkMG6yAfdaBh0gRJdGGja9uMOurzEAXUXd1Z2ghB0no3wQxSASpABZIVyNJh8F75ABjWsz31DGjUP4MYVy9JXd1x57brGEEyuX3mJ1SAClAB6xVol3NguvbABOuCdRFnA+YEG3Rp667uuHPbecyE2ePGRuLzdna/c4yk9S6LGaQCVMA2BdrpIJg2AYY2YK8NABwBZRjTbnZ1Z11nyIceu3kcSCK/AM925ZEgaZuHYn6oABWwXoF2NchM116AYN2wbmgD8TZAkLTeZTGDVIAK2KYAHUq8Q6Eu1IU2kD8bIEja5qGYHypABaxXgM4yf86Sdc46pw3E2wBB0nqXxQxSASpgmwJ0KPEOhbpQF9pA/myAIGmbh2J+qAAVsF4BOsv8OUvWOeucNhBvAwRJ610WM0gFqIBtCtChxDsU6kJdaAP5swGCpG0eivmhAlTAegXoLPPnLFnnrHPaQLwNECStd1nMIBWgArYpQIcS71CoC3WhDeTPBgiStnko5ocKUAHrFaCzzJ+zZJ2zzmkD8TZAkLTeZTGDVIAK2KYAHUq8Q6Eu1IU2kD8bIEja5qGYHypABaxXgM4yf86Sdc46pw3E2wBB0nqXxQxSASpgmwJ0KPEOhbpQF9pA/myAIGmbh2J+qAAVsF4BOsv8OUvWOeucNhBvAwRJ610WM0gFqIBtCtChxDsU6kJdaAP5swGCpG0eivmhAlTAegXoLPPnLFnnrHPaQLwNECStd1nMIBWgArYpQIcS71CoC3WhDeTPBgiStnko5ocKUAHrFaCzzJ+zZJ2zzmkD8TZAkLTeZTGDVIAK2KYAHUq8Q6Eu1IU2kD8bIEja5qGYHypABaxXgM4yf86Sdc46pw3E2wBB0nqXxQxSASpgmwJ0KPEOhbpQF9pA/myAIGmbh2J+qAAVsF4BOsv8OUvWOeucNhBvAwRJ610WM0gFqIBtCtChxDsU6kJdaAP5s4GWQfKLL74Q/lED2gBtgDZAG6AN0AZoA7QBbQMtg6RtEQHmhwpQASpABagAFaACVKCzChAkO6s/704FqAAVoAJUgApQgXOrAEHy3FYdM04FqAAVoAJUgApQgc4qQJDsrP68OxWgAlSAClABKkAFzq0CBMlzW3XMOBWgAlSAClABKkAFOqtAHEj+P+LnstdODMDRAAAAAElFTkSuQmCC)\n",
        "\n"
      ]
    },
    {
      "cell_type": "code",
      "execution_count": null,
      "metadata": {
        "colab": {
          "base_uri": "https://localhost:8080/"
        },
        "id": "ufohVotrgdeB",
        "outputId": "dea0f462-3cbe-457b-d25b-095f6e79046c"
      },
      "outputs": [
        {
          "name": "stdout",
          "output_type": "stream",
          "text": [
            "Collecting gradio\n",
            "  Downloading gradio-4.28.3-py3-none-any.whl (12.2 MB)\n",
            "\u001b[2K     \u001b[90m━━━━━━━━━━━━━━━━━━━━━━━━━━━━━━━━━━━━━━━━\u001b[0m \u001b[32m12.2/12.2 MB\u001b[0m \u001b[31m2.4 MB/s\u001b[0m eta \u001b[36m0:00:00\u001b[0m\n",
            "\u001b[?25hCollecting aiofiles<24.0,>=22.0 (from gradio)\n",
            "  Downloading aiofiles-23.2.1-py3-none-any.whl (15 kB)\n",
            "Requirement already satisfied: altair<6.0,>=4.2.0 in /usr/local/lib/python3.10/dist-packages (from gradio) (4.2.2)\n",
            "Collecting fastapi (from gradio)\n",
            "  Downloading fastapi-0.110.3-py3-none-any.whl (91 kB)\n",
            "\u001b[2K     \u001b[90m━━━━━━━━━━━━━━━━━━━━━━━━━━━━━━━━━━━━━━━━\u001b[0m \u001b[32m91.8/91.8 kB\u001b[0m \u001b[31m2.7 MB/s\u001b[0m eta \u001b[36m0:00:00\u001b[0m\n",
            "\u001b[?25hCollecting ffmpy (from gradio)\n",
            "  Downloading ffmpy-0.3.2.tar.gz (5.5 kB)\n",
            "  Preparing metadata (setup.py) ... \u001b[?25l\u001b[?25hdone\n",
            "Collecting gradio-client==0.16.0 (from gradio)\n",
            "  Downloading gradio_client-0.16.0-py3-none-any.whl (314 kB)\n",
            "\u001b[2K     \u001b[90m━━━━━━━━━━━━━━━━━━━━━━━━━━━━━━━━━━━━━━━━\u001b[0m \u001b[32m314.4/314.4 kB\u001b[0m \u001b[31m3.3 MB/s\u001b[0m eta \u001b[36m0:00:00\u001b[0m\n",
            "\u001b[?25hCollecting httpx>=0.24.1 (from gradio)\n",
            "  Downloading httpx-0.27.0-py3-none-any.whl (75 kB)\n",
            "\u001b[2K     \u001b[90m━━━━━━━━━━━━━━━━━━━━━━━━━━━━━━━━━━━━━━━━\u001b[0m \u001b[32m75.6/75.6 kB\u001b[0m \u001b[31m5.1 MB/s\u001b[0m eta \u001b[36m0:00:00\u001b[0m\n",
            "\u001b[?25hRequirement already satisfied: huggingface-hub>=0.19.3 in /usr/local/lib/python3.10/dist-packages (from gradio) (0.22.2)\n",
            "Requirement already satisfied: importlib-resources<7.0,>=1.3 in /usr/local/lib/python3.10/dist-packages (from gradio) (6.4.0)\n",
            "Requirement already satisfied: jinja2<4.0 in /usr/local/lib/python3.10/dist-packages (from gradio) (3.1.3)\n",
            "Requirement already satisfied: markupsafe~=2.0 in /usr/local/lib/python3.10/dist-packages (from gradio) (2.1.5)\n",
            "Requirement already satisfied: matplotlib~=3.0 in /usr/local/lib/python3.10/dist-packages (from gradio) (3.7.1)\n",
            "Requirement already satisfied: numpy~=1.0 in /usr/local/lib/python3.10/dist-packages (from gradio) (1.25.2)\n",
            "Collecting orjson~=3.0 (from gradio)\n",
            "  Downloading orjson-3.10.1-cp310-cp310-manylinux_2_17_x86_64.manylinux2014_x86_64.whl (141 kB)\n",
            "\u001b[2K     \u001b[90m━━━━━━━━━━━━━━━━━━━━━━━━━━━━━━━━━━━━━━━━\u001b[0m \u001b[32m141.1/141.1 kB\u001b[0m \u001b[31m2.3 MB/s\u001b[0m eta \u001b[36m0:00:00\u001b[0m\n",
            "\u001b[?25hRequirement already satisfied: packaging in /usr/local/lib/python3.10/dist-packages (from gradio) (24.0)\n",
            "Requirement already satisfied: pandas<3.0,>=1.0 in /usr/local/lib/python3.10/dist-packages (from gradio) (2.0.3)\n",
            "Requirement already satisfied: pillow<11.0,>=8.0 in /usr/local/lib/python3.10/dist-packages (from gradio) (9.4.0)\n",
            "Requirement already satisfied: pydantic>=2.0 in /usr/local/lib/python3.10/dist-packages (from gradio) (2.7.0)\n",
            "Collecting pydub (from gradio)\n",
            "  Downloading pydub-0.25.1-py2.py3-none-any.whl (32 kB)\n",
            "Collecting python-multipart>=0.0.9 (from gradio)\n",
            "  Downloading python_multipart-0.0.9-py3-none-any.whl (22 kB)\n",
            "Requirement already satisfied: pyyaml<7.0,>=5.0 in /usr/local/lib/python3.10/dist-packages (from gradio) (6.0.1)\n",
            "Collecting ruff>=0.2.2 (from gradio)\n",
            "  Downloading ruff-0.4.2-py3-none-manylinux_2_17_x86_64.manylinux2014_x86_64.whl (8.8 MB)\n",
            "\u001b[2K     \u001b[90m━━━━━━━━━━━━━━━━━━━━━━━━━━━━━━━━━━━━━━━━\u001b[0m \u001b[32m8.8/8.8 MB\u001b[0m \u001b[31m3.2 MB/s\u001b[0m eta \u001b[36m0:00:00\u001b[0m\n",
            "\u001b[?25hCollecting semantic-version~=2.0 (from gradio)\n",
            "  Downloading semantic_version-2.10.0-py2.py3-none-any.whl (15 kB)\n",
            "Collecting tomlkit==0.12.0 (from gradio)\n",
            "  Downloading tomlkit-0.12.0-py3-none-any.whl (37 kB)\n",
            "Collecting typer<1.0,>=0.12 (from gradio)\n",
            "  Downloading typer-0.12.3-py3-none-any.whl (47 kB)\n",
            "\u001b[2K     \u001b[90m━━━━━━━━━━━━━━━━━━━━━━━━━━━━━━━━━━━━━━━━\u001b[0m \u001b[32m47.2/47.2 kB\u001b[0m \u001b[31m2.3 MB/s\u001b[0m eta \u001b[36m0:00:00\u001b[0m\n",
            "\u001b[?25hRequirement already satisfied: typing-extensions~=4.0 in /usr/local/lib/python3.10/dist-packages (from gradio) (4.11.0)\n",
            "Requirement already satisfied: urllib3~=2.0 in /usr/local/lib/python3.10/dist-packages (from gradio) (2.0.7)\n",
            "Collecting uvicorn>=0.14.0 (from gradio)\n",
            "  Downloading uvicorn-0.29.0-py3-none-any.whl (60 kB)\n",
            "\u001b[2K     \u001b[90m━━━━━━━━━━━━━━━━━━━━━━━━━━━━━━━━━━━━━━━━\u001b[0m \u001b[32m60.8/60.8 kB\u001b[0m \u001b[31m2.4 MB/s\u001b[0m eta \u001b[36m0:00:00\u001b[0m\n",
            "\u001b[?25hRequirement already satisfied: fsspec in /usr/local/lib/python3.10/dist-packages (from gradio-client==0.16.0->gradio) (2023.6.0)\n",
            "Collecting websockets<12.0,>=10.0 (from gradio-client==0.16.0->gradio)\n",
            "  Downloading websockets-11.0.3-cp310-cp310-manylinux_2_5_x86_64.manylinux1_x86_64.manylinux_2_17_x86_64.manylinux2014_x86_64.whl (129 kB)\n",
            "\u001b[2K     \u001b[90m━━━━━━━━━━━━━━━━━━━━━━━━━━━━━━━━━━━━━━━━\u001b[0m \u001b[32m129.9/129.9 kB\u001b[0m \u001b[31m2.4 MB/s\u001b[0m eta \u001b[36m0:00:00\u001b[0m\n",
            "\u001b[?25hRequirement already satisfied: entrypoints in /usr/local/lib/python3.10/dist-packages (from altair<6.0,>=4.2.0->gradio) (0.4)\n",
            "Requirement already satisfied: jsonschema>=3.0 in /usr/local/lib/python3.10/dist-packages (from altair<6.0,>=4.2.0->gradio) (4.19.2)\n",
            "Requirement already satisfied: toolz in /usr/local/lib/python3.10/dist-packages (from altair<6.0,>=4.2.0->gradio) (0.12.1)\n",
            "Requirement already satisfied: anyio in /usr/local/lib/python3.10/dist-packages (from httpx>=0.24.1->gradio) (3.7.1)\n",
            "Requirement already satisfied: certifi in /usr/local/lib/python3.10/dist-packages (from httpx>=0.24.1->gradio) (2024.2.2)\n",
            "Collecting httpcore==1.* (from httpx>=0.24.1->gradio)\n",
            "  Downloading httpcore-1.0.5-py3-none-any.whl (77 kB)\n",
            "\u001b[2K     \u001b[90m━━━━━━━━━━━━━━━━━━━━━━━━━━━━━━━━━━━━━━━━\u001b[0m \u001b[32m77.9/77.9 kB\u001b[0m \u001b[31m2.6 MB/s\u001b[0m eta \u001b[36m0:00:00\u001b[0m\n",
            "\u001b[?25hRequirement already satisfied: idna in /usr/local/lib/python3.10/dist-packages (from httpx>=0.24.1->gradio) (3.7)\n",
            "Requirement already satisfied: sniffio in /usr/local/lib/python3.10/dist-packages (from httpx>=0.24.1->gradio) (1.3.1)\n",
            "Collecting h11<0.15,>=0.13 (from httpcore==1.*->httpx>=0.24.1->gradio)\n",
            "  Downloading h11-0.14.0-py3-none-any.whl (58 kB)\n",
            "\u001b[2K     \u001b[90m━━━━━━━━━━━━━━━━━━━━━━━━━━━━━━━━━━━━━━━━\u001b[0m \u001b[32m58.3/58.3 kB\u001b[0m \u001b[31m2.5 MB/s\u001b[0m eta \u001b[36m0:00:00\u001b[0m\n",
            "\u001b[?25hRequirement already satisfied: filelock in /usr/local/lib/python3.10/dist-packages (from huggingface-hub>=0.19.3->gradio) (3.13.4)\n",
            "Requirement already satisfied: requests in /usr/local/lib/python3.10/dist-packages (from huggingface-hub>=0.19.3->gradio) (2.31.0)\n",
            "Requirement already satisfied: tqdm>=4.42.1 in /usr/local/lib/python3.10/dist-packages (from huggingface-hub>=0.19.3->gradio) (4.66.2)\n",
            "Requirement already satisfied: contourpy>=1.0.1 in /usr/local/lib/python3.10/dist-packages (from matplotlib~=3.0->gradio) (1.2.1)\n",
            "Requirement already satisfied: cycler>=0.10 in /usr/local/lib/python3.10/dist-packages (from matplotlib~=3.0->gradio) (0.12.1)\n",
            "Requirement already satisfied: fonttools>=4.22.0 in /usr/local/lib/python3.10/dist-packages (from matplotlib~=3.0->gradio) (4.51.0)\n",
            "Requirement already satisfied: kiwisolver>=1.0.1 in /usr/local/lib/python3.10/dist-packages (from matplotlib~=3.0->gradio) (1.4.5)\n",
            "Requirement already satisfied: pyparsing>=2.3.1 in /usr/local/lib/python3.10/dist-packages (from matplotlib~=3.0->gradio) (3.1.2)\n",
            "Requirement already satisfied: python-dateutil>=2.7 in /usr/local/lib/python3.10/dist-packages (from matplotlib~=3.0->gradio) (2.8.2)\n",
            "Requirement already satisfied: pytz>=2020.1 in /usr/local/lib/python3.10/dist-packages (from pandas<3.0,>=1.0->gradio) (2023.4)\n",
            "Requirement already satisfied: tzdata>=2022.1 in /usr/local/lib/python3.10/dist-packages (from pandas<3.0,>=1.0->gradio) (2024.1)\n",
            "Requirement already satisfied: annotated-types>=0.4.0 in /usr/local/lib/python3.10/dist-packages (from pydantic>=2.0->gradio) (0.6.0)\n",
            "Requirement already satisfied: pydantic-core==2.18.1 in /usr/local/lib/python3.10/dist-packages (from pydantic>=2.0->gradio) (2.18.1)\n",
            "Requirement already satisfied: click>=8.0.0 in /usr/local/lib/python3.10/dist-packages (from typer<1.0,>=0.12->gradio) (8.1.7)\n",
            "Collecting shellingham>=1.3.0 (from typer<1.0,>=0.12->gradio)\n",
            "  Downloading shellingham-1.5.4-py2.py3-none-any.whl (9.8 kB)\n",
            "Requirement already satisfied: rich>=10.11.0 in /usr/local/lib/python3.10/dist-packages (from typer<1.0,>=0.12->gradio) (13.7.1)\n",
            "Collecting starlette<0.38.0,>=0.37.2 (from fastapi->gradio)\n",
            "  Downloading starlette-0.37.2-py3-none-any.whl (71 kB)\n",
            "\u001b[2K     \u001b[90m━━━━━━━━━━━━━━━━━━━━━━━━━━━━━━━━━━━━━━━━\u001b[0m \u001b[32m71.9/71.9 kB\u001b[0m \u001b[31m2.6 MB/s\u001b[0m eta \u001b[36m0:00:00\u001b[0m\n",
            "\u001b[?25hRequirement already satisfied: attrs>=22.2.0 in /usr/local/lib/python3.10/dist-packages (from jsonschema>=3.0->altair<6.0,>=4.2.0->gradio) (23.2.0)\n",
            "Requirement already satisfied: jsonschema-specifications>=2023.03.6 in /usr/local/lib/python3.10/dist-packages (from jsonschema>=3.0->altair<6.0,>=4.2.0->gradio) (2023.12.1)\n",
            "Requirement already satisfied: referencing>=0.28.4 in /usr/local/lib/python3.10/dist-packages (from jsonschema>=3.0->altair<6.0,>=4.2.0->gradio) (0.34.0)\n",
            "Requirement already satisfied: rpds-py>=0.7.1 in /usr/local/lib/python3.10/dist-packages (from jsonschema>=3.0->altair<6.0,>=4.2.0->gradio) (0.18.0)\n",
            "Requirement already satisfied: six>=1.5 in /usr/local/lib/python3.10/dist-packages (from python-dateutil>=2.7->matplotlib~=3.0->gradio) (1.16.0)\n",
            "Requirement already satisfied: markdown-it-py>=2.2.0 in /usr/local/lib/python3.10/dist-packages (from rich>=10.11.0->typer<1.0,>=0.12->gradio) (3.0.0)\n",
            "Requirement already satisfied: pygments<3.0.0,>=2.13.0 in /usr/local/lib/python3.10/dist-packages (from rich>=10.11.0->typer<1.0,>=0.12->gradio) (2.16.1)\n",
            "Requirement already satisfied: exceptiongroup in /usr/local/lib/python3.10/dist-packages (from anyio->httpx>=0.24.1->gradio) (1.2.1)\n",
            "Requirement already satisfied: charset-normalizer<4,>=2 in /usr/local/lib/python3.10/dist-packages (from requests->huggingface-hub>=0.19.3->gradio) (3.3.2)\n",
            "Requirement already satisfied: mdurl~=0.1 in /usr/local/lib/python3.10/dist-packages (from markdown-it-py>=2.2.0->rich>=10.11.0->typer<1.0,>=0.12->gradio) (0.1.2)\n",
            "Building wheels for collected packages: ffmpy\n",
            "  Building wheel for ffmpy (setup.py) ... \u001b[?25l\u001b[?25hdone\n",
            "  Created wheel for ffmpy: filename=ffmpy-0.3.2-py3-none-any.whl size=5584 sha256=ca8ef57e2a2655127bd29a0077022494a8bbf9283d0a885e11d581f1b72456c4\n",
            "  Stored in directory: /root/.cache/pip/wheels/bd/65/9a/671fc6dcde07d4418df0c592f8df512b26d7a0029c2a23dd81\n",
            "Successfully built ffmpy\n",
            "Installing collected packages: pydub, ffmpy, websockets, tomlkit, shellingham, semantic-version, ruff, python-multipart, orjson, h11, aiofiles, uvicorn, starlette, httpcore, typer, httpx, fastapi, gradio-client, gradio\n",
            "  Attempting uninstall: typer\n",
            "    Found existing installation: typer 0.9.4\n",
            "    Uninstalling typer-0.9.4:\n",
            "      Successfully uninstalled typer-0.9.4\n",
            "\u001b[31mERROR: pip's dependency resolver does not currently take into account all the packages that are installed. This behaviour is the source of the following dependency conflicts.\n",
            "spacy 3.7.4 requires typer<0.10.0,>=0.3.0, but you have typer 0.12.3 which is incompatible.\n",
            "weasel 0.3.4 requires typer<0.10.0,>=0.3.0, but you have typer 0.12.3 which is incompatible.\u001b[0m\u001b[31m\n",
            "\u001b[0mSuccessfully installed aiofiles-23.2.1 fastapi-0.110.3 ffmpy-0.3.2 gradio-4.28.3 gradio-client-0.16.0 h11-0.14.0 httpcore-1.0.5 httpx-0.27.0 orjson-3.10.1 pydub-0.25.1 python-multipart-0.0.9 ruff-0.4.2 semantic-version-2.10.0 shellingham-1.5.4 starlette-0.37.2 tomlkit-0.12.0 typer-0.12.3 uvicorn-0.29.0 websockets-11.0.3\n"
          ]
        }
      ],
      "source": [
        "!pip install gradio"
      ]
    },
    {
      "cell_type": "markdown",
      "metadata": {
        "id": "CrlMJrryhGgC"
      },
      "source": [
        "# Inferece\n"
      ]
    },
    {
      "cell_type": "code",
      "execution_count": null,
      "metadata": {
        "colab": {
          "base_uri": "https://localhost:8080/",
          "height": 936,
          "referenced_widgets": [
            "ca10687a274147a8a03f44900e79ff41",
            "15a4d9a241534a579bada1b6ce9697b6",
            "12eff2a7241543e6852d52d15ad06c04",
            "436ee70a25ee4b38a1ddea54fd6e0d09",
            "9d67da2b4afc4db18634e7b58939af35",
            "ce5e08f32fc942e99c8c4234fcf89194",
            "b841a00960ce463b9c11923479b767d8",
            "372f1c4aee7e4410b4d5bd0ae144ed21",
            "e2ef5ee73de84090baec40da5ff7e4bd",
            "49c6a581210e4ad0b1a9ecd18615b534",
            "10effedc6803482bb3e7b38e4ab2aa9a",
            "b30b3c3c16544631ab56df6ef295412e",
            "ce752278d7ca40f4b1f9117128207c60",
            "61e02c8042e9452a93bcfb8ef494f152",
            "c614d8a41cf744d7bbeddaa9d22ebb72",
            "9d0a985bb1f147019622d1adfbf60eb5",
            "0447c04fafa2430daf9a53b8b072fd66",
            "da9be4e48c944cd2872a2541e3f81e21",
            "ee6f23b36a6e4425b56efa283ac82925",
            "1bf6dedd3495481da3ee8bac7c887cbc",
            "43d5adecb09d434da68640b03b7c6bd1",
            "58e0fe327fcd4fc6bf02692dbdb3896a",
            "773e25553da242139a02f15d8a32b648",
            "68abaa2a667d4cd4b904e7cd0cd8715e",
            "4a7d65eaa187499ca61a067544923197",
            "e6702ab87a1648c4adb372b7fef836cd",
            "90ef1db3bcc64b5ebab15bc402403fc1",
            "90ee6b5bc4c94b688e62f0c81c5ed0e2",
            "3d609135e5f346fe939d8290bc9acad4",
            "4f2fac95c791458aa89e55d491d21132",
            "8887b3bbc889414c839b494907e7d1cb",
            "316e4424101a4921b8802a28cb887728",
            "50975a3fe3e2449485e72878926ffa44",
            "827c2e5cff474f17bb583e34c280b607",
            "824a0eec899e44f4afff6c1729f252e0",
            "d8c4d9cb7725495d9e8633ade12c1ac9",
            "cc8b5fd6581b406faa7fa4bcedea7287",
            "c0b539be8cb7483ab04e74abe8878f73",
            "8609f3b6bab54384b63176503434f077",
            "364d60a4588e49c29d4e55f0e505bc77",
            "68bf6f7d858d450587da77cf817e43dc",
            "c680d33396734594a9ef90c24aa09e0e",
            "5e226582f5db482b8f8b7de8c66d6cd1",
            "aea304411d814cdf97244616e7b0b60e",
            "72e68987f5e54efd93da2f5d1b00ec16",
            "b2a991432e5347c68b57c2b536e5259f",
            "399ed638eb3747cc851fc09c5bb9f691",
            "bf711dc920b9403999399788947b7257",
            "7f46b900e1dd4b329631b1df49251cdd",
            "3f6cb26214664eca87c4eea237cb2cf5",
            "9b1123843bb647cd9c8aebdee27afd45",
            "5b16fb9cedb7468784fc1c29e145d445",
            "bd13bf0f86854ca3a66e62e3dd6b068f",
            "a205a3e63b394e349c4d7515ef294874",
            "ad6e9ae6822b489583aef2187db3df7c",
            "492f5920759d4e1b991c1d04bd0a1248",
            "f4a86f2919e840589f078f6360aba51a",
            "dd858d7619e048258eb77115b2f120f5",
            "75b7e26636dc4584ac5d9097a3deff3b",
            "7b37d2910c8d4c6494bce2d438e7070e",
            "c211858b08b946b2b75469653f96f34f",
            "19c10a4fcb85463285654cca5e0d117d",
            "0fd232a9e30d481fa566cdedb93b87b5",
            "c22e7a8724084a54a924826e36d9a78f",
            "821e8a412f0545ddb7a15265c47c6d8e",
            "63c35c1a34f84e329c1264dd5b29cecf",
            "0f4ca3471f454fecb2b20333dea2c62f",
            "4cf00f51e86447998c6e8aeaddde4716",
            "903459d89b134d0191ae2ce83ccb61da",
            "fcea47ceafae48c48db3d0c346e2be0a",
            "907e4affc1ce485bb13f8b1da9ec0435",
            "faa107b32f164ae28eeed7d1ef64073a",
            "3d13c0fe32204faaac1ab210c34c9e2b",
            "315c7d90b4794d229a11596bf3157853",
            "377fea80af044d2da41bf3215cc256ec",
            "f433a361e6b6475796f8802b5adff7b9",
            "d05c439a28e04471b39b47b627f6a729",
            "b8604c0411f346be934ab46bfd8d4b34",
            "cca62ce7e7a347318a23146eaa9709ca",
            "9bd16932a4dc4ba5aaa2a62c39b496f1",
            "a91e49cba5084478a0ff9f5900ef5ccc",
            "9535f27c62ab4febac8e04156525bd65",
            "fa465a3275d144bdb9e9c608b53c77d6",
            "d8d842e2b36c441d99761c5becbb1153",
            "d465f31829654f6d81018638dedc7be0",
            "df4da6bee6b543cb935b57bf25c5bf6c",
            "8936cd15dd5d43728d728ac9e5478bc9",
            "ad1d30c3644744e3a6c61b36a2092b86"
          ]
        },
        "id": "KwhLjEikgbHN",
        "outputId": "459d2033-d4a7-4720-be45-f740c2c75795"
      },
      "outputs": [
        {
          "data": {
            "application/vnd.jupyter.widget-view+json": {
              "model_id": "ca10687a274147a8a03f44900e79ff41",
              "version_major": 2,
              "version_minor": 0
            },
            "text/plain": [
              "config.json:   0%|          | 0.00/1.41k [00:00<?, ?B/s]"
            ]
          },
          "metadata": {},
          "output_type": "display_data"
        },
        {
          "data": {
            "application/vnd.jupyter.widget-view+json": {
              "model_id": "b30b3c3c16544631ab56df6ef295412e",
              "version_major": 2,
              "version_minor": 0
            },
            "text/plain": [
              "model.safetensors:   0%|          | 0.00/287M [00:00<?, ?B/s]"
            ]
          },
          "metadata": {},
          "output_type": "display_data"
        },
        {
          "data": {
            "application/vnd.jupyter.widget-view+json": {
              "model_id": "773e25553da242139a02f15d8a32b648",
              "version_major": 2,
              "version_minor": 0
            },
            "text/plain": [
              "generation_config.json:   0%|          | 0.00/288 [00:00<?, ?B/s]"
            ]
          },
          "metadata": {},
          "output_type": "display_data"
        },
        {
          "data": {
            "application/vnd.jupyter.widget-view+json": {
              "model_id": "827c2e5cff474f17bb583e34c280b607",
              "version_major": 2,
              "version_minor": 0
            },
            "text/plain": [
              "tokenizer_config.json:   0%|          | 0.00/818 [00:00<?, ?B/s]"
            ]
          },
          "metadata": {},
          "output_type": "display_data"
        },
        {
          "data": {
            "application/vnd.jupyter.widget-view+json": {
              "model_id": "72e68987f5e54efd93da2f5d1b00ec16",
              "version_major": 2,
              "version_minor": 0
            },
            "text/plain": [
              "source.spm:   0%|          | 0.00/809k [00:00<?, ?B/s]"
            ]
          },
          "metadata": {},
          "output_type": "display_data"
        },
        {
          "data": {
            "application/vnd.jupyter.widget-view+json": {
              "model_id": "492f5920759d4e1b991c1d04bd0a1248",
              "version_major": 2,
              "version_minor": 0
            },
            "text/plain": [
              "target.spm:   0%|          | 0.00/756k [00:00<?, ?B/s]"
            ]
          },
          "metadata": {},
          "output_type": "display_data"
        },
        {
          "data": {
            "application/vnd.jupyter.widget-view+json": {
              "model_id": "0f4ca3471f454fecb2b20333dea2c62f",
              "version_major": 2,
              "version_minor": 0
            },
            "text/plain": [
              "vocab.json:   0%|          | 0.00/1.30M [00:00<?, ?B/s]"
            ]
          },
          "metadata": {},
          "output_type": "display_data"
        },
        {
          "data": {
            "application/vnd.jupyter.widget-view+json": {
              "model_id": "b8604c0411f346be934ab46bfd8d4b34",
              "version_major": 2,
              "version_minor": 0
            },
            "text/plain": [
              "special_tokens_map.json:   0%|          | 0.00/74.0 [00:00<?, ?B/s]"
            ]
          },
          "metadata": {},
          "output_type": "display_data"
        },
        {
          "name": "stderr",
          "output_type": "stream",
          "text": [
            "/usr/local/lib/python3.10/dist-packages/transformers/models/marian/tokenization_marian.py:175: UserWarning: Recommended: pip install sacremoses.\n",
            "  warnings.warn(\"Recommended: pip install sacremoses.\")\n"
          ]
        },
        {
          "name": "stdout",
          "output_type": "stream",
          "text": [
            "Setting queue=True in a Colab notebook requires sharing enabled. Setting `share=True` (you can turn this off by setting `share=False` in `launch()` explicitly).\n",
            "\n",
            "Colab notebook detected. To show errors in colab notebook, set debug=True in launch()\n",
            "Running on public URL: https://59e1434e161a18c58a.gradio.live\n",
            "\n",
            "This share link expires in 72 hours. For free permanent hosting and GPU upgrades, run `gradio deploy` from Terminal to deploy to Spaces (https://huggingface.co/spaces)\n"
          ]
        },
        {
          "data": {
            "text/html": [
              "<div><iframe src=\"https://59e1434e161a18c58a.gradio.live\" width=\"100%\" height=\"500\" allow=\"autoplay; camera; microphone; clipboard-read; clipboard-write;\" frameborder=\"0\" allowfullscreen></iframe></div>"
            ],
            "text/plain": [
              "<IPython.core.display.HTML object>"
            ]
          },
          "metadata": {},
          "output_type": "display_data"
        },
        {
          "data": {
            "text/plain": []
          },
          "execution_count": 34,
          "metadata": {},
          "output_type": "execute_result"
        }
      ],
      "source": [
        "from transformers import pipeline\n",
        "import gradio as gr\n",
        "\n",
        "translator = pipeline(\"translation_en_to_vi\", model=\"lmh2011/opus-mt-en-vi-finetuned-en-to-vi\")\n",
        "\n",
        "def translate(text):\n",
        "    translation = translator(text)[0]['translation_text']\n",
        "    return translation\n",
        "\n",
        "iface = gr.Interface(\n",
        "    fn=translate,\n",
        "    inputs=\"text\",\n",
        "    outputs=\"text\",\n",
        "    title=\"English to Vietnamese Translation\",\n",
        "    description=\"Translate English text to Vietnamese using a fine-tuned model.\",\n",
        "    examples=[[\"Hello, how are you?\"]]\n",
        ")\n",
        "\n",
        "iface.launch()\n"
      ]
    }
  ],
  "metadata": {
    "accelerator": "GPU",
    "colab": {
      "provenance": [],
      "gpuType": "T4",
      "toc_visible": true
    },
    "kernelspec": {
      "display_name": "Python 3",
      "name": "python3"
    },
    "language_info": {
      "codemirror_mode": {
        "name": "ipython",
        "version": 3
      },
      "file_extension": ".py",
      "mimetype": "text/x-python",
      "name": "python",
      "nbconvert_exporter": "python",
      "pygments_lexer": "ipython3",
      "version": "3.7.10"
    },
    "widgets": {
      "application/vnd.jupyter.widget-state+json": {
        "0307fe4e35234234906cdbcdd6e7eb8a": {
          "model_module": "@jupyter-widgets/controls",
          "model_module_version": "1.5.0",
          "model_name": "HTMLModel",
          "state": {
            "_dom_classes": [],
            "_model_module": "@jupyter-widgets/controls",
            "_model_module_version": "1.5.0",
            "_model_name": "HTMLModel",
            "_view_count": null,
            "_view_module": "@jupyter-widgets/controls",
            "_view_module_version": "1.5.0",
            "_view_name": "HTMLView",
            "description": "",
            "description_tooltip": null,
            "layout": "IPY_MODEL_6afeed3824c848ec887daaeea92f4eb5",
            "placeholder": "​",
            "style": "IPY_MODEL_d868485125cf4c259cdc4889e9403968",
            "value": "events.out.tfevents.1714483927.9309e1b69a93.9854.0: 100%"
          }
        },
        "0447c04fafa2430daf9a53b8b072fd66": {
          "model_module": "@jupyter-widgets/base",
          "model_module_version": "1.2.0",
          "model_name": "LayoutModel",
          "state": {
            "_model_module": "@jupyter-widgets/base",
            "_model_module_version": "1.2.0",
            "_model_name": "LayoutModel",
            "_view_count": null,
            "_view_module": "@jupyter-widgets/base",
            "_view_module_version": "1.2.0",
            "_view_name": "LayoutView",
            "align_content": null,
            "align_items": null,
            "align_self": null,
            "border": null,
            "bottom": null,
            "display": null,
            "flex": null,
            "flex_flow": null,
            "grid_area": null,
            "grid_auto_columns": null,
            "grid_auto_flow": null,
            "grid_auto_rows": null,
            "grid_column": null,
            "grid_gap": null,
            "grid_row": null,
            "grid_template_areas": null,
            "grid_template_columns": null,
            "grid_template_rows": null,
            "height": null,
            "justify_content": null,
            "justify_items": null,
            "left": null,
            "margin": null,
            "max_height": null,
            "max_width": null,
            "min_height": null,
            "min_width": null,
            "object_fit": null,
            "object_position": null,
            "order": null,
            "overflow": null,
            "overflow_x": null,
            "overflow_y": null,
            "padding": null,
            "right": null,
            "top": null,
            "visibility": null,
            "width": null
          }
        },
        "04672fbdc8754babbb7bb3bfb7bcfd2e": {
          "model_module": "@jupyter-widgets/base",
          "model_module_version": "1.2.0",
          "model_name": "LayoutModel",
          "state": {
            "_model_module": "@jupyter-widgets/base",
            "_model_module_version": "1.2.0",
            "_model_name": "LayoutModel",
            "_view_count": null,
            "_view_module": "@jupyter-widgets/base",
            "_view_module_version": "1.2.0",
            "_view_name": "LayoutView",
            "align_content": null,
            "align_items": null,
            "align_self": null,
            "border": null,
            "bottom": null,
            "display": null,
            "flex": null,
            "flex_flow": null,
            "grid_area": null,
            "grid_auto_columns": null,
            "grid_auto_flow": null,
            "grid_auto_rows": null,
            "grid_column": null,
            "grid_gap": null,
            "grid_row": null,
            "grid_template_areas": null,
            "grid_template_columns": null,
            "grid_template_rows": null,
            "height": null,
            "justify_content": null,
            "justify_items": null,
            "left": null,
            "margin": null,
            "max_height": null,
            "max_width": null,
            "min_height": null,
            "min_width": null,
            "object_fit": null,
            "object_position": null,
            "order": null,
            "overflow": null,
            "overflow_x": null,
            "overflow_y": null,
            "padding": null,
            "right": null,
            "top": null,
            "visibility": null,
            "width": null
          }
        },
        "0c2955e8cff44b5ba998ca584e485e54": {
          "model_module": "@jupyter-widgets/base",
          "model_module_version": "1.2.0",
          "model_name": "LayoutModel",
          "state": {
            "_model_module": "@jupyter-widgets/base",
            "_model_module_version": "1.2.0",
            "_model_name": "LayoutModel",
            "_view_count": null,
            "_view_module": "@jupyter-widgets/base",
            "_view_module_version": "1.2.0",
            "_view_name": "LayoutView",
            "align_content": null,
            "align_items": null,
            "align_self": null,
            "border": null,
            "bottom": null,
            "display": null,
            "flex": null,
            "flex_flow": null,
            "grid_area": null,
            "grid_auto_columns": null,
            "grid_auto_flow": null,
            "grid_auto_rows": null,
            "grid_column": null,
            "grid_gap": null,
            "grid_row": null,
            "grid_template_areas": null,
            "grid_template_columns": null,
            "grid_template_rows": null,
            "height": null,
            "justify_content": null,
            "justify_items": null,
            "left": null,
            "margin": null,
            "max_height": null,
            "max_width": null,
            "min_height": null,
            "min_width": null,
            "object_fit": null,
            "object_position": null,
            "order": null,
            "overflow": null,
            "overflow_x": null,
            "overflow_y": null,
            "padding": null,
            "right": null,
            "top": null,
            "visibility": null,
            "width": null
          }
        },
        "0ddec253162a46acaac9e3b017c24c76": {
          "model_module": "@jupyter-widgets/controls",
          "model_module_version": "1.5.0",
          "model_name": "HTMLModel",
          "state": {
            "_dom_classes": [],
            "_model_module": "@jupyter-widgets/controls",
            "_model_module_version": "1.5.0",
            "_model_name": "HTMLModel",
            "_view_count": null,
            "_view_module": "@jupyter-widgets/controls",
            "_view_module_version": "1.5.0",
            "_view_name": "HTMLView",
            "description": "",
            "description_tooltip": null,
            "layout": "IPY_MODEL_3fd0a9495f174a178415c2859f0796c1",
            "placeholder": "​",
            "style": "IPY_MODEL_466f2ff7e07c4d0c848742ce77f0da19",
            "value": "training_args.bin: 100%"
          }
        },
        "0f4ca3471f454fecb2b20333dea2c62f": {
          "model_module": "@jupyter-widgets/controls",
          "model_module_version": "1.5.0",
          "model_name": "HBoxModel",
          "state": {
            "_dom_classes": [],
            "_model_module": "@jupyter-widgets/controls",
            "_model_module_version": "1.5.0",
            "_model_name": "HBoxModel",
            "_view_count": null,
            "_view_module": "@jupyter-widgets/controls",
            "_view_module_version": "1.5.0",
            "_view_name": "HBoxView",
            "box_style": "",
            "children": [
              "IPY_MODEL_4cf00f51e86447998c6e8aeaddde4716",
              "IPY_MODEL_903459d89b134d0191ae2ce83ccb61da",
              "IPY_MODEL_fcea47ceafae48c48db3d0c346e2be0a"
            ],
            "layout": "IPY_MODEL_907e4affc1ce485bb13f8b1da9ec0435"
          }
        },
        "0fd232a9e30d481fa566cdedb93b87b5": {
          "model_module": "@jupyter-widgets/base",
          "model_module_version": "1.2.0",
          "model_name": "LayoutModel",
          "state": {
            "_model_module": "@jupyter-widgets/base",
            "_model_module_version": "1.2.0",
            "_model_name": "LayoutModel",
            "_view_count": null,
            "_view_module": "@jupyter-widgets/base",
            "_view_module_version": "1.2.0",
            "_view_name": "LayoutView",
            "align_content": null,
            "align_items": null,
            "align_self": null,
            "border": null,
            "bottom": null,
            "display": null,
            "flex": null,
            "flex_flow": null,
            "grid_area": null,
            "grid_auto_columns": null,
            "grid_auto_flow": null,
            "grid_auto_rows": null,
            "grid_column": null,
            "grid_gap": null,
            "grid_row": null,
            "grid_template_areas": null,
            "grid_template_columns": null,
            "grid_template_rows": null,
            "height": null,
            "justify_content": null,
            "justify_items": null,
            "left": null,
            "margin": null,
            "max_height": null,
            "max_width": null,
            "min_height": null,
            "min_width": null,
            "object_fit": null,
            "object_position": null,
            "order": null,
            "overflow": null,
            "overflow_x": null,
            "overflow_y": null,
            "padding": null,
            "right": null,
            "top": null,
            "visibility": null,
            "width": null
          }
        },
        "10effedc6803482bb3e7b38e4ab2aa9a": {
          "model_module": "@jupyter-widgets/controls",
          "model_module_version": "1.5.0",
          "model_name": "DescriptionStyleModel",
          "state": {
            "_model_module": "@jupyter-widgets/controls",
            "_model_module_version": "1.5.0",
            "_model_name": "DescriptionStyleModel",
            "_view_count": null,
            "_view_module": "@jupyter-widgets/base",
            "_view_module_version": "1.2.0",
            "_view_name": "StyleView",
            "description_width": ""
          }
        },
        "12eff2a7241543e6852d52d15ad06c04": {
          "model_module": "@jupyter-widgets/controls",
          "model_module_version": "1.5.0",
          "model_name": "FloatProgressModel",
          "state": {
            "_dom_classes": [],
            "_model_module": "@jupyter-widgets/controls",
            "_model_module_version": "1.5.0",
            "_model_name": "FloatProgressModel",
            "_view_count": null,
            "_view_module": "@jupyter-widgets/controls",
            "_view_module_version": "1.5.0",
            "_view_name": "ProgressView",
            "bar_style": "success",
            "description": "",
            "description_tooltip": null,
            "layout": "IPY_MODEL_372f1c4aee7e4410b4d5bd0ae144ed21",
            "max": 1412,
            "min": 0,
            "orientation": "horizontal",
            "style": "IPY_MODEL_e2ef5ee73de84090baec40da5ff7e4bd",
            "value": 1412
          }
        },
        "15a4d9a241534a579bada1b6ce9697b6": {
          "model_module": "@jupyter-widgets/controls",
          "model_module_version": "1.5.0",
          "model_name": "HTMLModel",
          "state": {
            "_dom_classes": [],
            "_model_module": "@jupyter-widgets/controls",
            "_model_module_version": "1.5.0",
            "_model_name": "HTMLModel",
            "_view_count": null,
            "_view_module": "@jupyter-widgets/controls",
            "_view_module_version": "1.5.0",
            "_view_name": "HTMLView",
            "description": "",
            "description_tooltip": null,
            "layout": "IPY_MODEL_ce5e08f32fc942e99c8c4234fcf89194",
            "placeholder": "​",
            "style": "IPY_MODEL_b841a00960ce463b9c11923479b767d8",
            "value": "config.json: 100%"
          }
        },
        "16cafd1c92614955acea9f1ee277e9b6": {
          "model_module": "@jupyter-widgets/controls",
          "model_module_version": "1.5.0",
          "model_name": "ProgressStyleModel",
          "state": {
            "_model_module": "@jupyter-widgets/controls",
            "_model_module_version": "1.5.0",
            "_model_name": "ProgressStyleModel",
            "_view_count": null,
            "_view_module": "@jupyter-widgets/base",
            "_view_module_version": "1.2.0",
            "_view_name": "StyleView",
            "bar_color": null,
            "description_width": ""
          }
        },
        "17ecb55f59dd411084d8692b80cc8cad": {
          "model_module": "@jupyter-widgets/controls",
          "model_module_version": "1.5.0",
          "model_name": "DescriptionStyleModel",
          "state": {
            "_model_module": "@jupyter-widgets/controls",
            "_model_module_version": "1.5.0",
            "_model_name": "DescriptionStyleModel",
            "_view_count": null,
            "_view_module": "@jupyter-widgets/base",
            "_view_module_version": "1.2.0",
            "_view_name": "StyleView",
            "description_width": ""
          }
        },
        "19c10a4fcb85463285654cca5e0d117d": {
          "model_module": "@jupyter-widgets/controls",
          "model_module_version": "1.5.0",
          "model_name": "DescriptionStyleModel",
          "state": {
            "_model_module": "@jupyter-widgets/controls",
            "_model_module_version": "1.5.0",
            "_model_name": "DescriptionStyleModel",
            "_view_count": null,
            "_view_module": "@jupyter-widgets/base",
            "_view_module_version": "1.2.0",
            "_view_name": "StyleView",
            "description_width": ""
          }
        },
        "1ad2837fcc3940d8af801138e34668fd": {
          "model_module": "@jupyter-widgets/controls",
          "model_module_version": "1.5.0",
          "model_name": "DescriptionStyleModel",
          "state": {
            "_model_module": "@jupyter-widgets/controls",
            "_model_module_version": "1.5.0",
            "_model_name": "DescriptionStyleModel",
            "_view_count": null,
            "_view_module": "@jupyter-widgets/base",
            "_view_module_version": "1.2.0",
            "_view_name": "StyleView",
            "description_width": ""
          }
        },
        "1bf6dedd3495481da3ee8bac7c887cbc": {
          "model_module": "@jupyter-widgets/controls",
          "model_module_version": "1.5.0",
          "model_name": "ProgressStyleModel",
          "state": {
            "_model_module": "@jupyter-widgets/controls",
            "_model_module_version": "1.5.0",
            "_model_name": "ProgressStyleModel",
            "_view_count": null,
            "_view_module": "@jupyter-widgets/base",
            "_view_module_version": "1.2.0",
            "_view_name": "StyleView",
            "bar_color": null,
            "description_width": ""
          }
        },
        "25c5338967124567b8ad175660bc97de": {
          "model_module": "@jupyter-widgets/controls",
          "model_module_version": "1.5.0",
          "model_name": "HTMLModel",
          "state": {
            "_dom_classes": [],
            "_model_module": "@jupyter-widgets/controls",
            "_model_module_version": "1.5.0",
            "_model_name": "HTMLModel",
            "_view_count": null,
            "_view_module": "@jupyter-widgets/controls",
            "_view_module_version": "1.5.0",
            "_view_name": "HTMLView",
            "description": "",
            "description_tooltip": null,
            "layout": "IPY_MODEL_4d08137272ee4ab0844c4156af1c4dd4",
            "placeholder": "​",
            "style": "IPY_MODEL_1ad2837fcc3940d8af801138e34668fd",
            "value": "model.safetensors: 100%"
          }
        },
        "315c7d90b4794d229a11596bf3157853": {
          "model_module": "@jupyter-widgets/base",
          "model_module_version": "1.2.0",
          "model_name": "LayoutModel",
          "state": {
            "_model_module": "@jupyter-widgets/base",
            "_model_module_version": "1.2.0",
            "_model_name": "LayoutModel",
            "_view_count": null,
            "_view_module": "@jupyter-widgets/base",
            "_view_module_version": "1.2.0",
            "_view_name": "LayoutView",
            "align_content": null,
            "align_items": null,
            "align_self": null,
            "border": null,
            "bottom": null,
            "display": null,
            "flex": null,
            "flex_flow": null,
            "grid_area": null,
            "grid_auto_columns": null,
            "grid_auto_flow": null,
            "grid_auto_rows": null,
            "grid_column": null,
            "grid_gap": null,
            "grid_row": null,
            "grid_template_areas": null,
            "grid_template_columns": null,
            "grid_template_rows": null,
            "height": null,
            "justify_content": null,
            "justify_items": null,
            "left": null,
            "margin": null,
            "max_height": null,
            "max_width": null,
            "min_height": null,
            "min_width": null,
            "object_fit": null,
            "object_position": null,
            "order": null,
            "overflow": null,
            "overflow_x": null,
            "overflow_y": null,
            "padding": null,
            "right": null,
            "top": null,
            "visibility": null,
            "width": null
          }
        },
        "316e4424101a4921b8802a28cb887728": {
          "model_module": "@jupyter-widgets/base",
          "model_module_version": "1.2.0",
          "model_name": "LayoutModel",
          "state": {
            "_model_module": "@jupyter-widgets/base",
            "_model_module_version": "1.2.0",
            "_model_name": "LayoutModel",
            "_view_count": null,
            "_view_module": "@jupyter-widgets/base",
            "_view_module_version": "1.2.0",
            "_view_name": "LayoutView",
            "align_content": null,
            "align_items": null,
            "align_self": null,
            "border": null,
            "bottom": null,
            "display": null,
            "flex": null,
            "flex_flow": null,
            "grid_area": null,
            "grid_auto_columns": null,
            "grid_auto_flow": null,
            "grid_auto_rows": null,
            "grid_column": null,
            "grid_gap": null,
            "grid_row": null,
            "grid_template_areas": null,
            "grid_template_columns": null,
            "grid_template_rows": null,
            "height": null,
            "justify_content": null,
            "justify_items": null,
            "left": null,
            "margin": null,
            "max_height": null,
            "max_width": null,
            "min_height": null,
            "min_width": null,
            "object_fit": null,
            "object_position": null,
            "order": null,
            "overflow": null,
            "overflow_x": null,
            "overflow_y": null,
            "padding": null,
            "right": null,
            "top": null,
            "visibility": null,
            "width": null
          }
        },
        "34fd15427c7d4f4189c9ce38924107b5": {
          "model_module": "@jupyter-widgets/controls",
          "model_module_version": "1.5.0",
          "model_name": "HBoxModel",
          "state": {
            "_dom_classes": [],
            "_model_module": "@jupyter-widgets/controls",
            "_model_module_version": "1.5.0",
            "_model_name": "HBoxModel",
            "_view_count": null,
            "_view_module": "@jupyter-widgets/controls",
            "_view_module_version": "1.5.0",
            "_view_name": "HBoxView",
            "box_style": "",
            "children": [
              "IPY_MODEL_53ec358cc4784c25a50e17bd8764fd56",
              "IPY_MODEL_c916612f156b457f828410fdc85c8def",
              "IPY_MODEL_de1e4b0f94f74b4380de2cb4447352f1"
            ],
            "layout": "IPY_MODEL_04672fbdc8754babbb7bb3bfb7bcfd2e"
          }
        },
        "364d60a4588e49c29d4e55f0e505bc77": {
          "model_module": "@jupyter-widgets/controls",
          "model_module_version": "1.5.0",
          "model_name": "DescriptionStyleModel",
          "state": {
            "_model_module": "@jupyter-widgets/controls",
            "_model_module_version": "1.5.0",
            "_model_name": "DescriptionStyleModel",
            "_view_count": null,
            "_view_module": "@jupyter-widgets/base",
            "_view_module_version": "1.2.0",
            "_view_name": "StyleView",
            "description_width": ""
          }
        },
        "372f1c4aee7e4410b4d5bd0ae144ed21": {
          "model_module": "@jupyter-widgets/base",
          "model_module_version": "1.2.0",
          "model_name": "LayoutModel",
          "state": {
            "_model_module": "@jupyter-widgets/base",
            "_model_module_version": "1.2.0",
            "_model_name": "LayoutModel",
            "_view_count": null,
            "_view_module": "@jupyter-widgets/base",
            "_view_module_version": "1.2.0",
            "_view_name": "LayoutView",
            "align_content": null,
            "align_items": null,
            "align_self": null,
            "border": null,
            "bottom": null,
            "display": null,
            "flex": null,
            "flex_flow": null,
            "grid_area": null,
            "grid_auto_columns": null,
            "grid_auto_flow": null,
            "grid_auto_rows": null,
            "grid_column": null,
            "grid_gap": null,
            "grid_row": null,
            "grid_template_areas": null,
            "grid_template_columns": null,
            "grid_template_rows": null,
            "height": null,
            "justify_content": null,
            "justify_items": null,
            "left": null,
            "margin": null,
            "max_height": null,
            "max_width": null,
            "min_height": null,
            "min_width": null,
            "object_fit": null,
            "object_position": null,
            "order": null,
            "overflow": null,
            "overflow_x": null,
            "overflow_y": null,
            "padding": null,
            "right": null,
            "top": null,
            "visibility": null,
            "width": null
          }
        },
        "377fea80af044d2da41bf3215cc256ec": {
          "model_module": "@jupyter-widgets/controls",
          "model_module_version": "1.5.0",
          "model_name": "ProgressStyleModel",
          "state": {
            "_model_module": "@jupyter-widgets/controls",
            "_model_module_version": "1.5.0",
            "_model_name": "ProgressStyleModel",
            "_view_count": null,
            "_view_module": "@jupyter-widgets/base",
            "_view_module_version": "1.2.0",
            "_view_name": "StyleView",
            "bar_color": null,
            "description_width": ""
          }
        },
        "399ed638eb3747cc851fc09c5bb9f691": {
          "model_module": "@jupyter-widgets/controls",
          "model_module_version": "1.5.0",
          "model_name": "FloatProgressModel",
          "state": {
            "_dom_classes": [],
            "_model_module": "@jupyter-widgets/controls",
            "_model_module_version": "1.5.0",
            "_model_name": "FloatProgressModel",
            "_view_count": null,
            "_view_module": "@jupyter-widgets/controls",
            "_view_module_version": "1.5.0",
            "_view_name": "ProgressView",
            "bar_style": "success",
            "description": "",
            "description_tooltip": null,
            "layout": "IPY_MODEL_5b16fb9cedb7468784fc1c29e145d445",
            "max": 808612,
            "min": 0,
            "orientation": "horizontal",
            "style": "IPY_MODEL_bd13bf0f86854ca3a66e62e3dd6b068f",
            "value": 808612
          }
        },
        "3d06f7dea6834066898431b0f0f284c8": {
          "model_module": "@jupyter-widgets/controls",
          "model_module_version": "1.5.0",
          "model_name": "FloatProgressModel",
          "state": {
            "_dom_classes": [],
            "_model_module": "@jupyter-widgets/controls",
            "_model_module_version": "1.5.0",
            "_model_name": "FloatProgressModel",
            "_view_count": null,
            "_view_module": "@jupyter-widgets/controls",
            "_view_module_version": "1.5.0",
            "_view_name": "ProgressView",
            "bar_style": "success",
            "description": "",
            "description_tooltip": null,
            "layout": "IPY_MODEL_decf5b29fb9a4b9e86806ac4faaaf934",
            "max": 5176,
            "min": 0,
            "orientation": "horizontal",
            "style": "IPY_MODEL_d625876911cb4a70b51624bf325ce116",
            "value": 5176
          }
        },
        "3d13c0fe32204faaac1ab210c34c9e2b": {
          "model_module": "@jupyter-widgets/controls",
          "model_module_version": "1.5.0",
          "model_name": "DescriptionStyleModel",
          "state": {
            "_model_module": "@jupyter-widgets/controls",
            "_model_module_version": "1.5.0",
            "_model_name": "DescriptionStyleModel",
            "_view_count": null,
            "_view_module": "@jupyter-widgets/base",
            "_view_module_version": "1.2.0",
            "_view_name": "StyleView",
            "description_width": ""
          }
        },
        "3d609135e5f346fe939d8290bc9acad4": {
          "model_module": "@jupyter-widgets/controls",
          "model_module_version": "1.5.0",
          "model_name": "DescriptionStyleModel",
          "state": {
            "_model_module": "@jupyter-widgets/controls",
            "_model_module_version": "1.5.0",
            "_model_name": "DescriptionStyleModel",
            "_view_count": null,
            "_view_module": "@jupyter-widgets/base",
            "_view_module_version": "1.2.0",
            "_view_name": "StyleView",
            "description_width": ""
          }
        },
        "3dba9ecc32fc48d0a87cd533a20fa86f": {
          "model_module": "@jupyter-widgets/controls",
          "model_module_version": "1.5.0",
          "model_name": "HTMLModel",
          "state": {
            "_dom_classes": [],
            "_model_module": "@jupyter-widgets/controls",
            "_model_module_version": "1.5.0",
            "_model_name": "HTMLModel",
            "_view_count": null,
            "_view_module": "@jupyter-widgets/controls",
            "_view_module_version": "1.5.0",
            "_view_name": "HTMLView",
            "description": "",
            "description_tooltip": null,
            "layout": "IPY_MODEL_8789792519a048c98027e3f93c9b164b",
            "placeholder": "​",
            "style": "IPY_MODEL_6a3ea445b8c249108877b36ca405df11",
            "value": "Upload 3 LFS files: 100%"
          }
        },
        "3f6cb26214664eca87c4eea237cb2cf5": {
          "model_module": "@jupyter-widgets/base",
          "model_module_version": "1.2.0",
          "model_name": "LayoutModel",
          "state": {
            "_model_module": "@jupyter-widgets/base",
            "_model_module_version": "1.2.0",
            "_model_name": "LayoutModel",
            "_view_count": null,
            "_view_module": "@jupyter-widgets/base",
            "_view_module_version": "1.2.0",
            "_view_name": "LayoutView",
            "align_content": null,
            "align_items": null,
            "align_self": null,
            "border": null,
            "bottom": null,
            "display": null,
            "flex": null,
            "flex_flow": null,
            "grid_area": null,
            "grid_auto_columns": null,
            "grid_auto_flow": null,
            "grid_auto_rows": null,
            "grid_column": null,
            "grid_gap": null,
            "grid_row": null,
            "grid_template_areas": null,
            "grid_template_columns": null,
            "grid_template_rows": null,
            "height": null,
            "justify_content": null,
            "justify_items": null,
            "left": null,
            "margin": null,
            "max_height": null,
            "max_width": null,
            "min_height": null,
            "min_width": null,
            "object_fit": null,
            "object_position": null,
            "order": null,
            "overflow": null,
            "overflow_x": null,
            "overflow_y": null,
            "padding": null,
            "right": null,
            "top": null,
            "visibility": null,
            "width": null
          }
        },
        "3fd0a9495f174a178415c2859f0796c1": {
          "model_module": "@jupyter-widgets/base",
          "model_module_version": "1.2.0",
          "model_name": "LayoutModel",
          "state": {
            "_model_module": "@jupyter-widgets/base",
            "_model_module_version": "1.2.0",
            "_model_name": "LayoutModel",
            "_view_count": null,
            "_view_module": "@jupyter-widgets/base",
            "_view_module_version": "1.2.0",
            "_view_name": "LayoutView",
            "align_content": null,
            "align_items": null,
            "align_self": null,
            "border": null,
            "bottom": null,
            "display": null,
            "flex": null,
            "flex_flow": null,
            "grid_area": null,
            "grid_auto_columns": null,
            "grid_auto_flow": null,
            "grid_auto_rows": null,
            "grid_column": null,
            "grid_gap": null,
            "grid_row": null,
            "grid_template_areas": null,
            "grid_template_columns": null,
            "grid_template_rows": null,
            "height": null,
            "justify_content": null,
            "justify_items": null,
            "left": null,
            "margin": null,
            "max_height": null,
            "max_width": null,
            "min_height": null,
            "min_width": null,
            "object_fit": null,
            "object_position": null,
            "order": null,
            "overflow": null,
            "overflow_x": null,
            "overflow_y": null,
            "padding": null,
            "right": null,
            "top": null,
            "visibility": null,
            "width": null
          }
        },
        "4295f3dc0a494198b776f682b327924d": {
          "model_module": "@jupyter-widgets/controls",
          "model_module_version": "1.5.0",
          "model_name": "HTMLModel",
          "state": {
            "_dom_classes": [],
            "_model_module": "@jupyter-widgets/controls",
            "_model_module_version": "1.5.0",
            "_model_name": "HTMLModel",
            "_view_count": null,
            "_view_module": "@jupyter-widgets/controls",
            "_view_module_version": "1.5.0",
            "_view_name": "HTMLView",
            "description": "",
            "description_tooltip": null,
            "layout": "IPY_MODEL_ad65c758c1114adab13e6dbf29f660aa",
            "placeholder": "​",
            "style": "IPY_MODEL_eb10554a79a04ecf92517ba96ca956d9",
            "value": " 3.19k/? [00:00&lt;00:00, 53.1kB/s]"
          }
        },
        "436ee70a25ee4b38a1ddea54fd6e0d09": {
          "model_module": "@jupyter-widgets/controls",
          "model_module_version": "1.5.0",
          "model_name": "HTMLModel",
          "state": {
            "_dom_classes": [],
            "_model_module": "@jupyter-widgets/controls",
            "_model_module_version": "1.5.0",
            "_model_name": "HTMLModel",
            "_view_count": null,
            "_view_module": "@jupyter-widgets/controls",
            "_view_module_version": "1.5.0",
            "_view_name": "HTMLView",
            "description": "",
            "description_tooltip": null,
            "layout": "IPY_MODEL_49c6a581210e4ad0b1a9ecd18615b534",
            "placeholder": "​",
            "style": "IPY_MODEL_10effedc6803482bb3e7b38e4ab2aa9a",
            "value": " 1.41k/1.41k [00:00&lt;00:00, 31.8kB/s]"
          }
        },
        "438ba9f59d15469bb398f67cd0bcc801": {
          "model_module": "@jupyter-widgets/base",
          "model_module_version": "1.2.0",
          "model_name": "LayoutModel",
          "state": {
            "_model_module": "@jupyter-widgets/base",
            "_model_module_version": "1.2.0",
            "_model_name": "LayoutModel",
            "_view_count": null,
            "_view_module": "@jupyter-widgets/base",
            "_view_module_version": "1.2.0",
            "_view_name": "LayoutView",
            "align_content": null,
            "align_items": null,
            "align_self": null,
            "border": null,
            "bottom": null,
            "display": null,
            "flex": null,
            "flex_flow": null,
            "grid_area": null,
            "grid_auto_columns": null,
            "grid_auto_flow": null,
            "grid_auto_rows": null,
            "grid_column": null,
            "grid_gap": null,
            "grid_row": null,
            "grid_template_areas": null,
            "grid_template_columns": null,
            "grid_template_rows": null,
            "height": null,
            "justify_content": null,
            "justify_items": null,
            "left": null,
            "margin": null,
            "max_height": null,
            "max_width": null,
            "min_height": null,
            "min_width": null,
            "object_fit": null,
            "object_position": null,
            "order": null,
            "overflow": null,
            "overflow_x": null,
            "overflow_y": null,
            "padding": null,
            "right": null,
            "top": null,
            "visibility": null,
            "width": null
          }
        },
        "43d5adecb09d434da68640b03b7c6bd1": {
          "model_module": "@jupyter-widgets/base",
          "model_module_version": "1.2.0",
          "model_name": "LayoutModel",
          "state": {
            "_model_module": "@jupyter-widgets/base",
            "_model_module_version": "1.2.0",
            "_model_name": "LayoutModel",
            "_view_count": null,
            "_view_module": "@jupyter-widgets/base",
            "_view_module_version": "1.2.0",
            "_view_name": "LayoutView",
            "align_content": null,
            "align_items": null,
            "align_self": null,
            "border": null,
            "bottom": null,
            "display": null,
            "flex": null,
            "flex_flow": null,
            "grid_area": null,
            "grid_auto_columns": null,
            "grid_auto_flow": null,
            "grid_auto_rows": null,
            "grid_column": null,
            "grid_gap": null,
            "grid_row": null,
            "grid_template_areas": null,
            "grid_template_columns": null,
            "grid_template_rows": null,
            "height": null,
            "justify_content": null,
            "justify_items": null,
            "left": null,
            "margin": null,
            "max_height": null,
            "max_width": null,
            "min_height": null,
            "min_width": null,
            "object_fit": null,
            "object_position": null,
            "order": null,
            "overflow": null,
            "overflow_x": null,
            "overflow_y": null,
            "padding": null,
            "right": null,
            "top": null,
            "visibility": null,
            "width": null
          }
        },
        "452e8bd05b0b4e759394ccfa7346b92e": {
          "model_module": "@jupyter-widgets/controls",
          "model_module_version": "1.5.0",
          "model_name": "LabelModel",
          "state": {
            "_dom_classes": [],
            "_model_module": "@jupyter-widgets/controls",
            "_model_module_version": "1.5.0",
            "_model_name": "LabelModel",
            "_view_count": null,
            "_view_module": "@jupyter-widgets/controls",
            "_view_module_version": "1.5.0",
            "_view_name": "LabelView",
            "description": "",
            "description_tooltip": null,
            "layout": "IPY_MODEL_ea80f5d74458403294bf12af9333688a",
            "placeholder": "​",
            "style": "IPY_MODEL_a76a843b5ac64734aa158217045ac659",
            "value": "Token is valid (permission: write)."
          }
        },
        "466f2ff7e07c4d0c848742ce77f0da19": {
          "model_module": "@jupyter-widgets/controls",
          "model_module_version": "1.5.0",
          "model_name": "DescriptionStyleModel",
          "state": {
            "_model_module": "@jupyter-widgets/controls",
            "_model_module_version": "1.5.0",
            "_model_name": "DescriptionStyleModel",
            "_view_count": null,
            "_view_module": "@jupyter-widgets/base",
            "_view_module_version": "1.2.0",
            "_view_name": "StyleView",
            "description_width": ""
          }
        },
        "48d3f7ff61e2416a923959187c044396": {
          "model_module": "@jupyter-widgets/controls",
          "model_module_version": "1.5.0",
          "model_name": "ProgressStyleModel",
          "state": {
            "_model_module": "@jupyter-widgets/controls",
            "_model_module_version": "1.5.0",
            "_model_name": "ProgressStyleModel",
            "_view_count": null,
            "_view_module": "@jupyter-widgets/base",
            "_view_module_version": "1.2.0",
            "_view_name": "StyleView",
            "bar_color": null,
            "description_width": ""
          }
        },
        "48eb882949714c87b35029ef761e5633": {
          "model_module": "@jupyter-widgets/controls",
          "model_module_version": "1.5.0",
          "model_name": "HTMLModel",
          "state": {
            "_dom_classes": [],
            "_model_module": "@jupyter-widgets/controls",
            "_model_module_version": "1.5.0",
            "_model_name": "HTMLModel",
            "_view_count": null,
            "_view_module": "@jupyter-widgets/controls",
            "_view_module_version": "1.5.0",
            "_view_name": "HTMLView",
            "description": "",
            "description_tooltip": null,
            "layout": "IPY_MODEL_6ff3daac67514e91abab713c6bc16578",
            "placeholder": "​",
            "style": "IPY_MODEL_aa0124f37575481eb395487eb725e3af",
            "value": " 287M/287M [00:07&lt;00:00, 45.0MB/s]"
          }
        },
        "492f5920759d4e1b991c1d04bd0a1248": {
          "model_module": "@jupyter-widgets/controls",
          "model_module_version": "1.5.0",
          "model_name": "HBoxModel",
          "state": {
            "_dom_classes": [],
            "_model_module": "@jupyter-widgets/controls",
            "_model_module_version": "1.5.0",
            "_model_name": "HBoxModel",
            "_view_count": null,
            "_view_module": "@jupyter-widgets/controls",
            "_view_module_version": "1.5.0",
            "_view_name": "HBoxView",
            "box_style": "",
            "children": [
              "IPY_MODEL_f4a86f2919e840589f078f6360aba51a",
              "IPY_MODEL_dd858d7619e048258eb77115b2f120f5",
              "IPY_MODEL_75b7e26636dc4584ac5d9097a3deff3b"
            ],
            "layout": "IPY_MODEL_7b37d2910c8d4c6494bce2d438e7070e"
          }
        },
        "49c6a581210e4ad0b1a9ecd18615b534": {
          "model_module": "@jupyter-widgets/base",
          "model_module_version": "1.2.0",
          "model_name": "LayoutModel",
          "state": {
            "_model_module": "@jupyter-widgets/base",
            "_model_module_version": "1.2.0",
            "_model_name": "LayoutModel",
            "_view_count": null,
            "_view_module": "@jupyter-widgets/base",
            "_view_module_version": "1.2.0",
            "_view_name": "LayoutView",
            "align_content": null,
            "align_items": null,
            "align_self": null,
            "border": null,
            "bottom": null,
            "display": null,
            "flex": null,
            "flex_flow": null,
            "grid_area": null,
            "grid_auto_columns": null,
            "grid_auto_flow": null,
            "grid_auto_rows": null,
            "grid_column": null,
            "grid_gap": null,
            "grid_row": null,
            "grid_template_areas": null,
            "grid_template_columns": null,
            "grid_template_rows": null,
            "height": null,
            "justify_content": null,
            "justify_items": null,
            "left": null,
            "margin": null,
            "max_height": null,
            "max_width": null,
            "min_height": null,
            "min_width": null,
            "object_fit": null,
            "object_position": null,
            "order": null,
            "overflow": null,
            "overflow_x": null,
            "overflow_y": null,
            "padding": null,
            "right": null,
            "top": null,
            "visibility": null,
            "width": null
          }
        },
        "4a7d65eaa187499ca61a067544923197": {
          "model_module": "@jupyter-widgets/controls",
          "model_module_version": "1.5.0",
          "model_name": "FloatProgressModel",
          "state": {
            "_dom_classes": [],
            "_model_module": "@jupyter-widgets/controls",
            "_model_module_version": "1.5.0",
            "_model_name": "FloatProgressModel",
            "_view_count": null,
            "_view_module": "@jupyter-widgets/controls",
            "_view_module_version": "1.5.0",
            "_view_name": "ProgressView",
            "bar_style": "success",
            "description": "",
            "description_tooltip": null,
            "layout": "IPY_MODEL_4f2fac95c791458aa89e55d491d21132",
            "max": 288,
            "min": 0,
            "orientation": "horizontal",
            "style": "IPY_MODEL_8887b3bbc889414c839b494907e7d1cb",
            "value": 288
          }
        },
        "4cf00f51e86447998c6e8aeaddde4716": {
          "model_module": "@jupyter-widgets/controls",
          "model_module_version": "1.5.0",
          "model_name": "HTMLModel",
          "state": {
            "_dom_classes": [],
            "_model_module": "@jupyter-widgets/controls",
            "_model_module_version": "1.5.0",
            "_model_name": "HTMLModel",
            "_view_count": null,
            "_view_module": "@jupyter-widgets/controls",
            "_view_module_version": "1.5.0",
            "_view_name": "HTMLView",
            "description": "",
            "description_tooltip": null,
            "layout": "IPY_MODEL_faa107b32f164ae28eeed7d1ef64073a",
            "placeholder": "​",
            "style": "IPY_MODEL_3d13c0fe32204faaac1ab210c34c9e2b",
            "value": "vocab.json: 100%"
          }
        },
        "4d08137272ee4ab0844c4156af1c4dd4": {
          "model_module": "@jupyter-widgets/base",
          "model_module_version": "1.2.0",
          "model_name": "LayoutModel",
          "state": {
            "_model_module": "@jupyter-widgets/base",
            "_model_module_version": "1.2.0",
            "_model_name": "LayoutModel",
            "_view_count": null,
            "_view_module": "@jupyter-widgets/base",
            "_view_module_version": "1.2.0",
            "_view_name": "LayoutView",
            "align_content": null,
            "align_items": null,
            "align_self": null,
            "border": null,
            "bottom": null,
            "display": null,
            "flex": null,
            "flex_flow": null,
            "grid_area": null,
            "grid_auto_columns": null,
            "grid_auto_flow": null,
            "grid_auto_rows": null,
            "grid_column": null,
            "grid_gap": null,
            "grid_row": null,
            "grid_template_areas": null,
            "grid_template_columns": null,
            "grid_template_rows": null,
            "height": null,
            "justify_content": null,
            "justify_items": null,
            "left": null,
            "margin": null,
            "max_height": null,
            "max_width": null,
            "min_height": null,
            "min_width": null,
            "object_fit": null,
            "object_position": null,
            "order": null,
            "overflow": null,
            "overflow_x": null,
            "overflow_y": null,
            "padding": null,
            "right": null,
            "top": null,
            "visibility": null,
            "width": null
          }
        },
        "4f2fac95c791458aa89e55d491d21132": {
          "model_module": "@jupyter-widgets/base",
          "model_module_version": "1.2.0",
          "model_name": "LayoutModel",
          "state": {
            "_model_module": "@jupyter-widgets/base",
            "_model_module_version": "1.2.0",
            "_model_name": "LayoutModel",
            "_view_count": null,
            "_view_module": "@jupyter-widgets/base",
            "_view_module_version": "1.2.0",
            "_view_name": "LayoutView",
            "align_content": null,
            "align_items": null,
            "align_self": null,
            "border": null,
            "bottom": null,
            "display": null,
            "flex": null,
            "flex_flow": null,
            "grid_area": null,
            "grid_auto_columns": null,
            "grid_auto_flow": null,
            "grid_auto_rows": null,
            "grid_column": null,
            "grid_gap": null,
            "grid_row": null,
            "grid_template_areas": null,
            "grid_template_columns": null,
            "grid_template_rows": null,
            "height": null,
            "justify_content": null,
            "justify_items": null,
            "left": null,
            "margin": null,
            "max_height": null,
            "max_width": null,
            "min_height": null,
            "min_width": null,
            "object_fit": null,
            "object_position": null,
            "order": null,
            "overflow": null,
            "overflow_x": null,
            "overflow_y": null,
            "padding": null,
            "right": null,
            "top": null,
            "visibility": null,
            "width": null
          }
        },
        "50975a3fe3e2449485e72878926ffa44": {
          "model_module": "@jupyter-widgets/controls",
          "model_module_version": "1.5.0",
          "model_name": "DescriptionStyleModel",
          "state": {
            "_model_module": "@jupyter-widgets/controls",
            "_model_module_version": "1.5.0",
            "_model_name": "DescriptionStyleModel",
            "_view_count": null,
            "_view_module": "@jupyter-widgets/base",
            "_view_module_version": "1.2.0",
            "_view_name": "StyleView",
            "description_width": ""
          }
        },
        "53ec358cc4784c25a50e17bd8764fd56": {
          "model_module": "@jupyter-widgets/controls",
          "model_module_version": "1.5.0",
          "model_name": "HTMLModel",
          "state": {
            "_dom_classes": [],
            "_model_module": "@jupyter-widgets/controls",
            "_model_module_version": "1.5.0",
            "_model_name": "HTMLModel",
            "_view_count": null,
            "_view_module": "@jupyter-widgets/controls",
            "_view_module_version": "1.5.0",
            "_view_name": "HTMLView",
            "description": "",
            "description_tooltip": null,
            "layout": "IPY_MODEL_ed5983a37cba4faea852cf2e13b355b4",
            "placeholder": "​",
            "style": "IPY_MODEL_c04bdf05ef684c8fb12ea45833394e77",
            "value": "Downloading: "
          }
        },
        "5600aa1b802c46b183417910f0e18cc4": {
          "model_module": "@jupyter-widgets/base",
          "model_module_version": "1.2.0",
          "model_name": "LayoutModel",
          "state": {
            "_model_module": "@jupyter-widgets/base",
            "_model_module_version": "1.2.0",
            "_model_name": "LayoutModel",
            "_view_count": null,
            "_view_module": "@jupyter-widgets/base",
            "_view_module_version": "1.2.0",
            "_view_name": "LayoutView",
            "align_content": null,
            "align_items": null,
            "align_self": null,
            "border": null,
            "bottom": null,
            "display": null,
            "flex": null,
            "flex_flow": null,
            "grid_area": null,
            "grid_auto_columns": null,
            "grid_auto_flow": null,
            "grid_auto_rows": null,
            "grid_column": null,
            "grid_gap": null,
            "grid_row": null,
            "grid_template_areas": null,
            "grid_template_columns": null,
            "grid_template_rows": null,
            "height": null,
            "justify_content": null,
            "justify_items": null,
            "left": null,
            "margin": null,
            "max_height": null,
            "max_width": null,
            "min_height": null,
            "min_width": null,
            "object_fit": null,
            "object_position": null,
            "order": null,
            "overflow": null,
            "overflow_x": null,
            "overflow_y": null,
            "padding": null,
            "right": null,
            "top": null,
            "visibility": null,
            "width": null
          }
        },
        "568bf52994e7411c8e78fa8ff62faa93": {
          "model_module": "@jupyter-widgets/controls",
          "model_module_version": "1.5.0",
          "model_name": "FloatProgressModel",
          "state": {
            "_dom_classes": [],
            "_model_module": "@jupyter-widgets/controls",
            "_model_module_version": "1.5.0",
            "_model_name": "FloatProgressModel",
            "_view_count": null,
            "_view_module": "@jupyter-widgets/controls",
            "_view_module_version": "1.5.0",
            "_view_name": "ProgressView",
            "bar_style": "success",
            "description": "",
            "description_tooltip": null,
            "layout": "IPY_MODEL_c75f1fc20b74427f848f8f5ac462eaf6",
            "max": 3,
            "min": 0,
            "orientation": "horizontal",
            "style": "IPY_MODEL_48d3f7ff61e2416a923959187c044396",
            "value": 3
          }
        },
        "58e0fe327fcd4fc6bf02692dbdb3896a": {
          "model_module": "@jupyter-widgets/controls",
          "model_module_version": "1.5.0",
          "model_name": "DescriptionStyleModel",
          "state": {
            "_model_module": "@jupyter-widgets/controls",
            "_model_module_version": "1.5.0",
            "_model_name": "DescriptionStyleModel",
            "_view_count": null,
            "_view_module": "@jupyter-widgets/base",
            "_view_module_version": "1.2.0",
            "_view_name": "StyleView",
            "description_width": ""
          }
        },
        "5b16fb9cedb7468784fc1c29e145d445": {
          "model_module": "@jupyter-widgets/base",
          "model_module_version": "1.2.0",
          "model_name": "LayoutModel",
          "state": {
            "_model_module": "@jupyter-widgets/base",
            "_model_module_version": "1.2.0",
            "_model_name": "LayoutModel",
            "_view_count": null,
            "_view_module": "@jupyter-widgets/base",
            "_view_module_version": "1.2.0",
            "_view_name": "LayoutView",
            "align_content": null,
            "align_items": null,
            "align_self": null,
            "border": null,
            "bottom": null,
            "display": null,
            "flex": null,
            "flex_flow": null,
            "grid_area": null,
            "grid_auto_columns": null,
            "grid_auto_flow": null,
            "grid_auto_rows": null,
            "grid_column": null,
            "grid_gap": null,
            "grid_row": null,
            "grid_template_areas": null,
            "grid_template_columns": null,
            "grid_template_rows": null,
            "height": null,
            "justify_content": null,
            "justify_items": null,
            "left": null,
            "margin": null,
            "max_height": null,
            "max_width": null,
            "min_height": null,
            "min_width": null,
            "object_fit": null,
            "object_position": null,
            "order": null,
            "overflow": null,
            "overflow_x": null,
            "overflow_y": null,
            "padding": null,
            "right": null,
            "top": null,
            "visibility": null,
            "width": null
          }
        },
        "5c12c1abd854466f945a86a4e60c7724": {
          "model_module": "@jupyter-widgets/controls",
          "model_module_version": "1.5.0",
          "model_name": "DescriptionStyleModel",
          "state": {
            "_model_module": "@jupyter-widgets/controls",
            "_model_module_version": "1.5.0",
            "_model_name": "DescriptionStyleModel",
            "_view_count": null,
            "_view_module": "@jupyter-widgets/base",
            "_view_module_version": "1.2.0",
            "_view_name": "StyleView",
            "description_width": ""
          }
        },
        "5e226582f5db482b8f8b7de8c66d6cd1": {
          "model_module": "@jupyter-widgets/base",
          "model_module_version": "1.2.0",
          "model_name": "LayoutModel",
          "state": {
            "_model_module": "@jupyter-widgets/base",
            "_model_module_version": "1.2.0",
            "_model_name": "LayoutModel",
            "_view_count": null,
            "_view_module": "@jupyter-widgets/base",
            "_view_module_version": "1.2.0",
            "_view_name": "LayoutView",
            "align_content": null,
            "align_items": null,
            "align_self": null,
            "border": null,
            "bottom": null,
            "display": null,
            "flex": null,
            "flex_flow": null,
            "grid_area": null,
            "grid_auto_columns": null,
            "grid_auto_flow": null,
            "grid_auto_rows": null,
            "grid_column": null,
            "grid_gap": null,
            "grid_row": null,
            "grid_template_areas": null,
            "grid_template_columns": null,
            "grid_template_rows": null,
            "height": null,
            "justify_content": null,
            "justify_items": null,
            "left": null,
            "margin": null,
            "max_height": null,
            "max_width": null,
            "min_height": null,
            "min_width": null,
            "object_fit": null,
            "object_position": null,
            "order": null,
            "overflow": null,
            "overflow_x": null,
            "overflow_y": null,
            "padding": null,
            "right": null,
            "top": null,
            "visibility": null,
            "width": null
          }
        },
        "61e02c8042e9452a93bcfb8ef494f152": {
          "model_module": "@jupyter-widgets/controls",
          "model_module_version": "1.5.0",
          "model_name": "FloatProgressModel",
          "state": {
            "_dom_classes": [],
            "_model_module": "@jupyter-widgets/controls",
            "_model_module_version": "1.5.0",
            "_model_name": "FloatProgressModel",
            "_view_count": null,
            "_view_module": "@jupyter-widgets/controls",
            "_view_module_version": "1.5.0",
            "_view_name": "ProgressView",
            "bar_style": "success",
            "description": "",
            "description_tooltip": null,
            "layout": "IPY_MODEL_ee6f23b36a6e4425b56efa283ac82925",
            "max": 286744660,
            "min": 0,
            "orientation": "horizontal",
            "style": "IPY_MODEL_1bf6dedd3495481da3ee8bac7c887cbc",
            "value": 286744660
          }
        },
        "63c35c1a34f84e329c1264dd5b29cecf": {
          "model_module": "@jupyter-widgets/controls",
          "model_module_version": "1.5.0",
          "model_name": "DescriptionStyleModel",
          "state": {
            "_model_module": "@jupyter-widgets/controls",
            "_model_module_version": "1.5.0",
            "_model_name": "DescriptionStyleModel",
            "_view_count": null,
            "_view_module": "@jupyter-widgets/base",
            "_view_module_version": "1.2.0",
            "_view_name": "StyleView",
            "description_width": ""
          }
        },
        "67742708a3e04fb280ff949b9c86d604": {
          "model_module": "@jupyter-widgets/controls",
          "model_module_version": "1.5.0",
          "model_name": "DescriptionStyleModel",
          "state": {
            "_model_module": "@jupyter-widgets/controls",
            "_model_module_version": "1.5.0",
            "_model_name": "DescriptionStyleModel",
            "_view_count": null,
            "_view_module": "@jupyter-widgets/base",
            "_view_module_version": "1.2.0",
            "_view_name": "StyleView",
            "description_width": ""
          }
        },
        "68abaa2a667d4cd4b904e7cd0cd8715e": {
          "model_module": "@jupyter-widgets/controls",
          "model_module_version": "1.5.0",
          "model_name": "HTMLModel",
          "state": {
            "_dom_classes": [],
            "_model_module": "@jupyter-widgets/controls",
            "_model_module_version": "1.5.0",
            "_model_name": "HTMLModel",
            "_view_count": null,
            "_view_module": "@jupyter-widgets/controls",
            "_view_module_version": "1.5.0",
            "_view_name": "HTMLView",
            "description": "",
            "description_tooltip": null,
            "layout": "IPY_MODEL_90ee6b5bc4c94b688e62f0c81c5ed0e2",
            "placeholder": "​",
            "style": "IPY_MODEL_3d609135e5f346fe939d8290bc9acad4",
            "value": "generation_config.json: 100%"
          }
        },
        "68bf6f7d858d450587da77cf817e43dc": {
          "model_module": "@jupyter-widgets/base",
          "model_module_version": "1.2.0",
          "model_name": "LayoutModel",
          "state": {
            "_model_module": "@jupyter-widgets/base",
            "_model_module_version": "1.2.0",
            "_model_name": "LayoutModel",
            "_view_count": null,
            "_view_module": "@jupyter-widgets/base",
            "_view_module_version": "1.2.0",
            "_view_name": "LayoutView",
            "align_content": null,
            "align_items": null,
            "align_self": null,
            "border": null,
            "bottom": null,
            "display": null,
            "flex": null,
            "flex_flow": null,
            "grid_area": null,
            "grid_auto_columns": null,
            "grid_auto_flow": null,
            "grid_auto_rows": null,
            "grid_column": null,
            "grid_gap": null,
            "grid_row": null,
            "grid_template_areas": null,
            "grid_template_columns": null,
            "grid_template_rows": null,
            "height": null,
            "justify_content": null,
            "justify_items": null,
            "left": null,
            "margin": null,
            "max_height": null,
            "max_width": null,
            "min_height": null,
            "min_width": null,
            "object_fit": null,
            "object_position": null,
            "order": null,
            "overflow": null,
            "overflow_x": null,
            "overflow_y": null,
            "padding": null,
            "right": null,
            "top": null,
            "visibility": null,
            "width": null
          }
        },
        "6a3ea445b8c249108877b36ca405df11": {
          "model_module": "@jupyter-widgets/controls",
          "model_module_version": "1.5.0",
          "model_name": "DescriptionStyleModel",
          "state": {
            "_model_module": "@jupyter-widgets/controls",
            "_model_module_version": "1.5.0",
            "_model_name": "DescriptionStyleModel",
            "_view_count": null,
            "_view_module": "@jupyter-widgets/base",
            "_view_module_version": "1.2.0",
            "_view_name": "StyleView",
            "description_width": ""
          }
        },
        "6afeed3824c848ec887daaeea92f4eb5": {
          "model_module": "@jupyter-widgets/base",
          "model_module_version": "1.2.0",
          "model_name": "LayoutModel",
          "state": {
            "_model_module": "@jupyter-widgets/base",
            "_model_module_version": "1.2.0",
            "_model_name": "LayoutModel",
            "_view_count": null,
            "_view_module": "@jupyter-widgets/base",
            "_view_module_version": "1.2.0",
            "_view_name": "LayoutView",
            "align_content": null,
            "align_items": null,
            "align_self": null,
            "border": null,
            "bottom": null,
            "display": null,
            "flex": null,
            "flex_flow": null,
            "grid_area": null,
            "grid_auto_columns": null,
            "grid_auto_flow": null,
            "grid_auto_rows": null,
            "grid_column": null,
            "grid_gap": null,
            "grid_row": null,
            "grid_template_areas": null,
            "grid_template_columns": null,
            "grid_template_rows": null,
            "height": null,
            "justify_content": null,
            "justify_items": null,
            "left": null,
            "margin": null,
            "max_height": null,
            "max_width": null,
            "min_height": null,
            "min_width": null,
            "object_fit": null,
            "object_position": null,
            "order": null,
            "overflow": null,
            "overflow_x": null,
            "overflow_y": null,
            "padding": null,
            "right": null,
            "top": null,
            "visibility": null,
            "width": null
          }
        },
        "6f4150da328e4ae49b8a6600f29ebb6c": {
          "model_module": "@jupyter-widgets/controls",
          "model_module_version": "1.5.0",
          "model_name": "LabelModel",
          "state": {
            "_dom_classes": [],
            "_model_module": "@jupyter-widgets/controls",
            "_model_module_version": "1.5.0",
            "_model_name": "LabelModel",
            "_view_count": null,
            "_view_module": "@jupyter-widgets/controls",
            "_view_module_version": "1.5.0",
            "_view_name": "LabelView",
            "description": "",
            "description_tooltip": null,
            "layout": "IPY_MODEL_ef50b5ea6d244be9a209c02c1c70998b",
            "placeholder": "​",
            "style": "IPY_MODEL_67742708a3e04fb280ff949b9c86d604",
            "value": "Your token has been saved in your configured git credential helpers (store)."
          }
        },
        "6ff3daac67514e91abab713c6bc16578": {
          "model_module": "@jupyter-widgets/base",
          "model_module_version": "1.2.0",
          "model_name": "LayoutModel",
          "state": {
            "_model_module": "@jupyter-widgets/base",
            "_model_module_version": "1.2.0",
            "_model_name": "LayoutModel",
            "_view_count": null,
            "_view_module": "@jupyter-widgets/base",
            "_view_module_version": "1.2.0",
            "_view_name": "LayoutView",
            "align_content": null,
            "align_items": null,
            "align_self": null,
            "border": null,
            "bottom": null,
            "display": null,
            "flex": null,
            "flex_flow": null,
            "grid_area": null,
            "grid_auto_columns": null,
            "grid_auto_flow": null,
            "grid_auto_rows": null,
            "grid_column": null,
            "grid_gap": null,
            "grid_row": null,
            "grid_template_areas": null,
            "grid_template_columns": null,
            "grid_template_rows": null,
            "height": null,
            "justify_content": null,
            "justify_items": null,
            "left": null,
            "margin": null,
            "max_height": null,
            "max_width": null,
            "min_height": null,
            "min_width": null,
            "object_fit": null,
            "object_position": null,
            "order": null,
            "overflow": null,
            "overflow_x": null,
            "overflow_y": null,
            "padding": null,
            "right": null,
            "top": null,
            "visibility": null,
            "width": null
          }
        },
        "725a568cb22c44a0a17142434bbec060": {
          "model_module": "@jupyter-widgets/controls",
          "model_module_version": "1.5.0",
          "model_name": "HBoxModel",
          "state": {
            "_dom_classes": [],
            "_model_module": "@jupyter-widgets/controls",
            "_model_module_version": "1.5.0",
            "_model_name": "HBoxModel",
            "_view_count": null,
            "_view_module": "@jupyter-widgets/controls",
            "_view_module_version": "1.5.0",
            "_view_name": "HBoxView",
            "box_style": "",
            "children": [
              "IPY_MODEL_0ddec253162a46acaac9e3b017c24c76",
              "IPY_MODEL_3d06f7dea6834066898431b0f0f284c8",
              "IPY_MODEL_fd3b7f5ca2584c62b93ffd067db7874a"
            ],
            "layout": "IPY_MODEL_8a0639f7677b455aa9f526869b8207af"
          }
        },
        "72e68987f5e54efd93da2f5d1b00ec16": {
          "model_module": "@jupyter-widgets/controls",
          "model_module_version": "1.5.0",
          "model_name": "HBoxModel",
          "state": {
            "_dom_classes": [],
            "_model_module": "@jupyter-widgets/controls",
            "_model_module_version": "1.5.0",
            "_model_name": "HBoxModel",
            "_view_count": null,
            "_view_module": "@jupyter-widgets/controls",
            "_view_module_version": "1.5.0",
            "_view_name": "HBoxView",
            "box_style": "",
            "children": [
              "IPY_MODEL_b2a991432e5347c68b57c2b536e5259f",
              "IPY_MODEL_399ed638eb3747cc851fc09c5bb9f691",
              "IPY_MODEL_bf711dc920b9403999399788947b7257"
            ],
            "layout": "IPY_MODEL_7f46b900e1dd4b329631b1df49251cdd"
          }
        },
        "75b7e26636dc4584ac5d9097a3deff3b": {
          "model_module": "@jupyter-widgets/controls",
          "model_module_version": "1.5.0",
          "model_name": "HTMLModel",
          "state": {
            "_dom_classes": [],
            "_model_module": "@jupyter-widgets/controls",
            "_model_module_version": "1.5.0",
            "_model_name": "HTMLModel",
            "_view_count": null,
            "_view_module": "@jupyter-widgets/controls",
            "_view_module_version": "1.5.0",
            "_view_name": "HTMLView",
            "description": "",
            "description_tooltip": null,
            "layout": "IPY_MODEL_821e8a412f0545ddb7a15265c47c6d8e",
            "placeholder": "​",
            "style": "IPY_MODEL_63c35c1a34f84e329c1264dd5b29cecf",
            "value": " 756k/756k [00:00&lt;00:00, 8.60MB/s]"
          }
        },
        "773e25553da242139a02f15d8a32b648": {
          "model_module": "@jupyter-widgets/controls",
          "model_module_version": "1.5.0",
          "model_name": "HBoxModel",
          "state": {
            "_dom_classes": [],
            "_model_module": "@jupyter-widgets/controls",
            "_model_module_version": "1.5.0",
            "_model_name": "HBoxModel",
            "_view_count": null,
            "_view_module": "@jupyter-widgets/controls",
            "_view_module_version": "1.5.0",
            "_view_name": "HBoxView",
            "box_style": "",
            "children": [
              "IPY_MODEL_68abaa2a667d4cd4b904e7cd0cd8715e",
              "IPY_MODEL_4a7d65eaa187499ca61a067544923197",
              "IPY_MODEL_e6702ab87a1648c4adb372b7fef836cd"
            ],
            "layout": "IPY_MODEL_90ef1db3bcc64b5ebab15bc402403fc1"
          }
        },
        "7a1ed85e18a945a989178f1847dd33a7": {
          "model_module": "@jupyter-widgets/controls",
          "model_module_version": "1.5.0",
          "model_name": "VBoxModel",
          "state": {
            "_dom_classes": [],
            "_model_module": "@jupyter-widgets/controls",
            "_model_module_version": "1.5.0",
            "_model_name": "VBoxModel",
            "_view_count": null,
            "_view_module": "@jupyter-widgets/controls",
            "_view_module_version": "1.5.0",
            "_view_name": "VBoxView",
            "box_style": "",
            "children": [
              "IPY_MODEL_452e8bd05b0b4e759394ccfa7346b92e",
              "IPY_MODEL_6f4150da328e4ae49b8a6600f29ebb6c",
              "IPY_MODEL_97cf14a6bbab42fbbd55da56b8a0060d",
              "IPY_MODEL_e23e6956d7b440489df6763eb3a893ba"
            ],
            "layout": "IPY_MODEL_f9288742da334eb593d8b8147eabccce"
          }
        },
        "7b37d2910c8d4c6494bce2d438e7070e": {
          "model_module": "@jupyter-widgets/base",
          "model_module_version": "1.2.0",
          "model_name": "LayoutModel",
          "state": {
            "_model_module": "@jupyter-widgets/base",
            "_model_module_version": "1.2.0",
            "_model_name": "LayoutModel",
            "_view_count": null,
            "_view_module": "@jupyter-widgets/base",
            "_view_module_version": "1.2.0",
            "_view_name": "LayoutView",
            "align_content": null,
            "align_items": null,
            "align_self": null,
            "border": null,
            "bottom": null,
            "display": null,
            "flex": null,
            "flex_flow": null,
            "grid_area": null,
            "grid_auto_columns": null,
            "grid_auto_flow": null,
            "grid_auto_rows": null,
            "grid_column": null,
            "grid_gap": null,
            "grid_row": null,
            "grid_template_areas": null,
            "grid_template_columns": null,
            "grid_template_rows": null,
            "height": null,
            "justify_content": null,
            "justify_items": null,
            "left": null,
            "margin": null,
            "max_height": null,
            "max_width": null,
            "min_height": null,
            "min_width": null,
            "object_fit": null,
            "object_position": null,
            "order": null,
            "overflow": null,
            "overflow_x": null,
            "overflow_y": null,
            "padding": null,
            "right": null,
            "top": null,
            "visibility": null,
            "width": null
          }
        },
        "7b7dfcf1dadd430e806d0731a97dc031": {
          "model_module": "@jupyter-widgets/base",
          "model_module_version": "1.2.0",
          "model_name": "LayoutModel",
          "state": {
            "_model_module": "@jupyter-widgets/base",
            "_model_module_version": "1.2.0",
            "_model_name": "LayoutModel",
            "_view_count": null,
            "_view_module": "@jupyter-widgets/base",
            "_view_module_version": "1.2.0",
            "_view_name": "LayoutView",
            "align_content": null,
            "align_items": null,
            "align_self": null,
            "border": null,
            "bottom": null,
            "display": null,
            "flex": null,
            "flex_flow": null,
            "grid_area": null,
            "grid_auto_columns": null,
            "grid_auto_flow": null,
            "grid_auto_rows": null,
            "grid_column": null,
            "grid_gap": null,
            "grid_row": null,
            "grid_template_areas": null,
            "grid_template_columns": null,
            "grid_template_rows": null,
            "height": null,
            "justify_content": null,
            "justify_items": null,
            "left": null,
            "margin": null,
            "max_height": null,
            "max_width": null,
            "min_height": null,
            "min_width": null,
            "object_fit": null,
            "object_position": null,
            "order": null,
            "overflow": null,
            "overflow_x": null,
            "overflow_y": null,
            "padding": null,
            "right": null,
            "top": null,
            "visibility": null,
            "width": null
          }
        },
        "7d07958f3b494525bda6c49d31cea14f": {
          "model_module": "@jupyter-widgets/base",
          "model_module_version": "1.2.0",
          "model_name": "LayoutModel",
          "state": {
            "_model_module": "@jupyter-widgets/base",
            "_model_module_version": "1.2.0",
            "_model_name": "LayoutModel",
            "_view_count": null,
            "_view_module": "@jupyter-widgets/base",
            "_view_module_version": "1.2.0",
            "_view_name": "LayoutView",
            "align_content": null,
            "align_items": null,
            "align_self": null,
            "border": null,
            "bottom": null,
            "display": null,
            "flex": null,
            "flex_flow": null,
            "grid_area": null,
            "grid_auto_columns": null,
            "grid_auto_flow": null,
            "grid_auto_rows": null,
            "grid_column": null,
            "grid_gap": null,
            "grid_row": null,
            "grid_template_areas": null,
            "grid_template_columns": null,
            "grid_template_rows": null,
            "height": null,
            "justify_content": null,
            "justify_items": null,
            "left": null,
            "margin": null,
            "max_height": null,
            "max_width": null,
            "min_height": null,
            "min_width": null,
            "object_fit": null,
            "object_position": null,
            "order": null,
            "overflow": null,
            "overflow_x": null,
            "overflow_y": null,
            "padding": null,
            "right": null,
            "top": null,
            "visibility": null,
            "width": null
          }
        },
        "7f46b900e1dd4b329631b1df49251cdd": {
          "model_module": "@jupyter-widgets/base",
          "model_module_version": "1.2.0",
          "model_name": "LayoutModel",
          "state": {
            "_model_module": "@jupyter-widgets/base",
            "_model_module_version": "1.2.0",
            "_model_name": "LayoutModel",
            "_view_count": null,
            "_view_module": "@jupyter-widgets/base",
            "_view_module_version": "1.2.0",
            "_view_name": "LayoutView",
            "align_content": null,
            "align_items": null,
            "align_self": null,
            "border": null,
            "bottom": null,
            "display": null,
            "flex": null,
            "flex_flow": null,
            "grid_area": null,
            "grid_auto_columns": null,
            "grid_auto_flow": null,
            "grid_auto_rows": null,
            "grid_column": null,
            "grid_gap": null,
            "grid_row": null,
            "grid_template_areas": null,
            "grid_template_columns": null,
            "grid_template_rows": null,
            "height": null,
            "justify_content": null,
            "justify_items": null,
            "left": null,
            "margin": null,
            "max_height": null,
            "max_width": null,
            "min_height": null,
            "min_width": null,
            "object_fit": null,
            "object_position": null,
            "order": null,
            "overflow": null,
            "overflow_x": null,
            "overflow_y": null,
            "padding": null,
            "right": null,
            "top": null,
            "visibility": null,
            "width": null
          }
        },
        "821e8a412f0545ddb7a15265c47c6d8e": {
          "model_module": "@jupyter-widgets/base",
          "model_module_version": "1.2.0",
          "model_name": "LayoutModel",
          "state": {
            "_model_module": "@jupyter-widgets/base",
            "_model_module_version": "1.2.0",
            "_model_name": "LayoutModel",
            "_view_count": null,
            "_view_module": "@jupyter-widgets/base",
            "_view_module_version": "1.2.0",
            "_view_name": "LayoutView",
            "align_content": null,
            "align_items": null,
            "align_self": null,
            "border": null,
            "bottom": null,
            "display": null,
            "flex": null,
            "flex_flow": null,
            "grid_area": null,
            "grid_auto_columns": null,
            "grid_auto_flow": null,
            "grid_auto_rows": null,
            "grid_column": null,
            "grid_gap": null,
            "grid_row": null,
            "grid_template_areas": null,
            "grid_template_columns": null,
            "grid_template_rows": null,
            "height": null,
            "justify_content": null,
            "justify_items": null,
            "left": null,
            "margin": null,
            "max_height": null,
            "max_width": null,
            "min_height": null,
            "min_width": null,
            "object_fit": null,
            "object_position": null,
            "order": null,
            "overflow": null,
            "overflow_x": null,
            "overflow_y": null,
            "padding": null,
            "right": null,
            "top": null,
            "visibility": null,
            "width": null
          }
        },
        "824a0eec899e44f4afff6c1729f252e0": {
          "model_module": "@jupyter-widgets/controls",
          "model_module_version": "1.5.0",
          "model_name": "HTMLModel",
          "state": {
            "_dom_classes": [],
            "_model_module": "@jupyter-widgets/controls",
            "_model_module_version": "1.5.0",
            "_model_name": "HTMLModel",
            "_view_count": null,
            "_view_module": "@jupyter-widgets/controls",
            "_view_module_version": "1.5.0",
            "_view_name": "HTMLView",
            "description": "",
            "description_tooltip": null,
            "layout": "IPY_MODEL_8609f3b6bab54384b63176503434f077",
            "placeholder": "​",
            "style": "IPY_MODEL_364d60a4588e49c29d4e55f0e505bc77",
            "value": "tokenizer_config.json: 100%"
          }
        },
        "827c2e5cff474f17bb583e34c280b607": {
          "model_module": "@jupyter-widgets/controls",
          "model_module_version": "1.5.0",
          "model_name": "HBoxModel",
          "state": {
            "_dom_classes": [],
            "_model_module": "@jupyter-widgets/controls",
            "_model_module_version": "1.5.0",
            "_model_name": "HBoxModel",
            "_view_count": null,
            "_view_module": "@jupyter-widgets/controls",
            "_view_module_version": "1.5.0",
            "_view_name": "HBoxView",
            "box_style": "",
            "children": [
              "IPY_MODEL_824a0eec899e44f4afff6c1729f252e0",
              "IPY_MODEL_d8c4d9cb7725495d9e8633ade12c1ac9",
              "IPY_MODEL_cc8b5fd6581b406faa7fa4bcedea7287"
            ],
            "layout": "IPY_MODEL_c0b539be8cb7483ab04e74abe8878f73"
          }
        },
        "8609f3b6bab54384b63176503434f077": {
          "model_module": "@jupyter-widgets/base",
          "model_module_version": "1.2.0",
          "model_name": "LayoutModel",
          "state": {
            "_model_module": "@jupyter-widgets/base",
            "_model_module_version": "1.2.0",
            "_model_name": "LayoutModel",
            "_view_count": null,
            "_view_module": "@jupyter-widgets/base",
            "_view_module_version": "1.2.0",
            "_view_name": "LayoutView",
            "align_content": null,
            "align_items": null,
            "align_self": null,
            "border": null,
            "bottom": null,
            "display": null,
            "flex": null,
            "flex_flow": null,
            "grid_area": null,
            "grid_auto_columns": null,
            "grid_auto_flow": null,
            "grid_auto_rows": null,
            "grid_column": null,
            "grid_gap": null,
            "grid_row": null,
            "grid_template_areas": null,
            "grid_template_columns": null,
            "grid_template_rows": null,
            "height": null,
            "justify_content": null,
            "justify_items": null,
            "left": null,
            "margin": null,
            "max_height": null,
            "max_width": null,
            "min_height": null,
            "min_width": null,
            "object_fit": null,
            "object_position": null,
            "order": null,
            "overflow": null,
            "overflow_x": null,
            "overflow_y": null,
            "padding": null,
            "right": null,
            "top": null,
            "visibility": null,
            "width": null
          }
        },
        "8789792519a048c98027e3f93c9b164b": {
          "model_module": "@jupyter-widgets/base",
          "model_module_version": "1.2.0",
          "model_name": "LayoutModel",
          "state": {
            "_model_module": "@jupyter-widgets/base",
            "_model_module_version": "1.2.0",
            "_model_name": "LayoutModel",
            "_view_count": null,
            "_view_module": "@jupyter-widgets/base",
            "_view_module_version": "1.2.0",
            "_view_name": "LayoutView",
            "align_content": null,
            "align_items": null,
            "align_self": null,
            "border": null,
            "bottom": null,
            "display": null,
            "flex": null,
            "flex_flow": null,
            "grid_area": null,
            "grid_auto_columns": null,
            "grid_auto_flow": null,
            "grid_auto_rows": null,
            "grid_column": null,
            "grid_gap": null,
            "grid_row": null,
            "grid_template_areas": null,
            "grid_template_columns": null,
            "grid_template_rows": null,
            "height": null,
            "justify_content": null,
            "justify_items": null,
            "left": null,
            "margin": null,
            "max_height": null,
            "max_width": null,
            "min_height": null,
            "min_width": null,
            "object_fit": null,
            "object_position": null,
            "order": null,
            "overflow": null,
            "overflow_x": null,
            "overflow_y": null,
            "padding": null,
            "right": null,
            "top": null,
            "visibility": null,
            "width": null
          }
        },
        "8887b3bbc889414c839b494907e7d1cb": {
          "model_module": "@jupyter-widgets/controls",
          "model_module_version": "1.5.0",
          "model_name": "ProgressStyleModel",
          "state": {
            "_model_module": "@jupyter-widgets/controls",
            "_model_module_version": "1.5.0",
            "_model_name": "ProgressStyleModel",
            "_view_count": null,
            "_view_module": "@jupyter-widgets/base",
            "_view_module_version": "1.2.0",
            "_view_name": "StyleView",
            "bar_color": null,
            "description_width": ""
          }
        },
        "8936cd15dd5d43728d728ac9e5478bc9": {
          "model_module": "@jupyter-widgets/base",
          "model_module_version": "1.2.0",
          "model_name": "LayoutModel",
          "state": {
            "_model_module": "@jupyter-widgets/base",
            "_model_module_version": "1.2.0",
            "_model_name": "LayoutModel",
            "_view_count": null,
            "_view_module": "@jupyter-widgets/base",
            "_view_module_version": "1.2.0",
            "_view_name": "LayoutView",
            "align_content": null,
            "align_items": null,
            "align_self": null,
            "border": null,
            "bottom": null,
            "display": null,
            "flex": null,
            "flex_flow": null,
            "grid_area": null,
            "grid_auto_columns": null,
            "grid_auto_flow": null,
            "grid_auto_rows": null,
            "grid_column": null,
            "grid_gap": null,
            "grid_row": null,
            "grid_template_areas": null,
            "grid_template_columns": null,
            "grid_template_rows": null,
            "height": null,
            "justify_content": null,
            "justify_items": null,
            "left": null,
            "margin": null,
            "max_height": null,
            "max_width": null,
            "min_height": null,
            "min_width": null,
            "object_fit": null,
            "object_position": null,
            "order": null,
            "overflow": null,
            "overflow_x": null,
            "overflow_y": null,
            "padding": null,
            "right": null,
            "top": null,
            "visibility": null,
            "width": null
          }
        },
        "8a0639f7677b455aa9f526869b8207af": {
          "model_module": "@jupyter-widgets/base",
          "model_module_version": "1.2.0",
          "model_name": "LayoutModel",
          "state": {
            "_model_module": "@jupyter-widgets/base",
            "_model_module_version": "1.2.0",
            "_model_name": "LayoutModel",
            "_view_count": null,
            "_view_module": "@jupyter-widgets/base",
            "_view_module_version": "1.2.0",
            "_view_name": "LayoutView",
            "align_content": null,
            "align_items": null,
            "align_self": null,
            "border": null,
            "bottom": null,
            "display": null,
            "flex": null,
            "flex_flow": null,
            "grid_area": null,
            "grid_auto_columns": null,
            "grid_auto_flow": null,
            "grid_auto_rows": null,
            "grid_column": null,
            "grid_gap": null,
            "grid_row": null,
            "grid_template_areas": null,
            "grid_template_columns": null,
            "grid_template_rows": null,
            "height": null,
            "justify_content": null,
            "justify_items": null,
            "left": null,
            "margin": null,
            "max_height": null,
            "max_width": null,
            "min_height": null,
            "min_width": null,
            "object_fit": null,
            "object_position": null,
            "order": null,
            "overflow": null,
            "overflow_x": null,
            "overflow_y": null,
            "padding": null,
            "right": null,
            "top": null,
            "visibility": null,
            "width": null
          }
        },
        "8a16f6edd6454c98ae435dc3eb2e6eba": {
          "model_module": "@jupyter-widgets/controls",
          "model_module_version": "1.5.0",
          "model_name": "HTMLModel",
          "state": {
            "_dom_classes": [],
            "_model_module": "@jupyter-widgets/controls",
            "_model_module_version": "1.5.0",
            "_model_name": "HTMLModel",
            "_view_count": null,
            "_view_module": "@jupyter-widgets/controls",
            "_view_module_version": "1.5.0",
            "_view_name": "HTMLView",
            "description": "",
            "description_tooltip": null,
            "layout": "IPY_MODEL_c09432835b6d4e58b13c0c08f9e64d9f",
            "placeholder": "​",
            "style": "IPY_MODEL_d5fbfbbb0b8642fb958b117a13c7d44d",
            "value": " 3/3 [00:07&lt;00:00,  7.69s/it]"
          }
        },
        "8bd025b43ef8488aaaaeacea64de811c": {
          "model_module": "@jupyter-widgets/controls",
          "model_module_version": "1.5.0",
          "model_name": "DescriptionStyleModel",
          "state": {
            "_model_module": "@jupyter-widgets/controls",
            "_model_module_version": "1.5.0",
            "_model_name": "DescriptionStyleModel",
            "_view_count": null,
            "_view_module": "@jupyter-widgets/base",
            "_view_module_version": "1.2.0",
            "_view_name": "StyleView",
            "description_width": ""
          }
        },
        "8d20c392363342c0b3b008ddd75a72ba": {
          "model_module": "@jupyter-widgets/controls",
          "model_module_version": "1.5.0",
          "model_name": "FloatProgressModel",
          "state": {
            "_dom_classes": [],
            "_model_module": "@jupyter-widgets/controls",
            "_model_module_version": "1.5.0",
            "_model_name": "FloatProgressModel",
            "_view_count": null,
            "_view_module": "@jupyter-widgets/controls",
            "_view_module_version": "1.5.0",
            "_view_name": "ProgressView",
            "bar_style": "success",
            "description": "",
            "description_tooltip": null,
            "layout": "IPY_MODEL_e21cb62ee90a42e5b669220e14c6af8d",
            "max": 286744660,
            "min": 0,
            "orientation": "horizontal",
            "style": "IPY_MODEL_16cafd1c92614955acea9f1ee277e9b6",
            "value": 286744660
          }
        },
        "903459d89b134d0191ae2ce83ccb61da": {
          "model_module": "@jupyter-widgets/controls",
          "model_module_version": "1.5.0",
          "model_name": "FloatProgressModel",
          "state": {
            "_dom_classes": [],
            "_model_module": "@jupyter-widgets/controls",
            "_model_module_version": "1.5.0",
            "_model_name": "FloatProgressModel",
            "_view_count": null,
            "_view_module": "@jupyter-widgets/controls",
            "_view_module_version": "1.5.0",
            "_view_name": "ProgressView",
            "bar_style": "success",
            "description": "",
            "description_tooltip": null,
            "layout": "IPY_MODEL_315c7d90b4794d229a11596bf3157853",
            "max": 1299764,
            "min": 0,
            "orientation": "horizontal",
            "style": "IPY_MODEL_377fea80af044d2da41bf3215cc256ec",
            "value": 1299764
          }
        },
        "907e4affc1ce485bb13f8b1da9ec0435": {
          "model_module": "@jupyter-widgets/base",
          "model_module_version": "1.2.0",
          "model_name": "LayoutModel",
          "state": {
            "_model_module": "@jupyter-widgets/base",
            "_model_module_version": "1.2.0",
            "_model_name": "LayoutModel",
            "_view_count": null,
            "_view_module": "@jupyter-widgets/base",
            "_view_module_version": "1.2.0",
            "_view_name": "LayoutView",
            "align_content": null,
            "align_items": null,
            "align_self": null,
            "border": null,
            "bottom": null,
            "display": null,
            "flex": null,
            "flex_flow": null,
            "grid_area": null,
            "grid_auto_columns": null,
            "grid_auto_flow": null,
            "grid_auto_rows": null,
            "grid_column": null,
            "grid_gap": null,
            "grid_row": null,
            "grid_template_areas": null,
            "grid_template_columns": null,
            "grid_template_rows": null,
            "height": null,
            "justify_content": null,
            "justify_items": null,
            "left": null,
            "margin": null,
            "max_height": null,
            "max_width": null,
            "min_height": null,
            "min_width": null,
            "object_fit": null,
            "object_position": null,
            "order": null,
            "overflow": null,
            "overflow_x": null,
            "overflow_y": null,
            "padding": null,
            "right": null,
            "top": null,
            "visibility": null,
            "width": null
          }
        },
        "90ee6b5bc4c94b688e62f0c81c5ed0e2": {
          "model_module": "@jupyter-widgets/base",
          "model_module_version": "1.2.0",
          "model_name": "LayoutModel",
          "state": {
            "_model_module": "@jupyter-widgets/base",
            "_model_module_version": "1.2.0",
            "_model_name": "LayoutModel",
            "_view_count": null,
            "_view_module": "@jupyter-widgets/base",
            "_view_module_version": "1.2.0",
            "_view_name": "LayoutView",
            "align_content": null,
            "align_items": null,
            "align_self": null,
            "border": null,
            "bottom": null,
            "display": null,
            "flex": null,
            "flex_flow": null,
            "grid_area": null,
            "grid_auto_columns": null,
            "grid_auto_flow": null,
            "grid_auto_rows": null,
            "grid_column": null,
            "grid_gap": null,
            "grid_row": null,
            "grid_template_areas": null,
            "grid_template_columns": null,
            "grid_template_rows": null,
            "height": null,
            "justify_content": null,
            "justify_items": null,
            "left": null,
            "margin": null,
            "max_height": null,
            "max_width": null,
            "min_height": null,
            "min_width": null,
            "object_fit": null,
            "object_position": null,
            "order": null,
            "overflow": null,
            "overflow_x": null,
            "overflow_y": null,
            "padding": null,
            "right": null,
            "top": null,
            "visibility": null,
            "width": null
          }
        },
        "90ef1db3bcc64b5ebab15bc402403fc1": {
          "model_module": "@jupyter-widgets/base",
          "model_module_version": "1.2.0",
          "model_name": "LayoutModel",
          "state": {
            "_model_module": "@jupyter-widgets/base",
            "_model_module_version": "1.2.0",
            "_model_name": "LayoutModel",
            "_view_count": null,
            "_view_module": "@jupyter-widgets/base",
            "_view_module_version": "1.2.0",
            "_view_name": "LayoutView",
            "align_content": null,
            "align_items": null,
            "align_self": null,
            "border": null,
            "bottom": null,
            "display": null,
            "flex": null,
            "flex_flow": null,
            "grid_area": null,
            "grid_auto_columns": null,
            "grid_auto_flow": null,
            "grid_auto_rows": null,
            "grid_column": null,
            "grid_gap": null,
            "grid_row": null,
            "grid_template_areas": null,
            "grid_template_columns": null,
            "grid_template_rows": null,
            "height": null,
            "justify_content": null,
            "justify_items": null,
            "left": null,
            "margin": null,
            "max_height": null,
            "max_width": null,
            "min_height": null,
            "min_width": null,
            "object_fit": null,
            "object_position": null,
            "order": null,
            "overflow": null,
            "overflow_x": null,
            "overflow_y": null,
            "padding": null,
            "right": null,
            "top": null,
            "visibility": null,
            "width": null
          }
        },
        "9535f27c62ab4febac8e04156525bd65": {
          "model_module": "@jupyter-widgets/base",
          "model_module_version": "1.2.0",
          "model_name": "LayoutModel",
          "state": {
            "_model_module": "@jupyter-widgets/base",
            "_model_module_version": "1.2.0",
            "_model_name": "LayoutModel",
            "_view_count": null,
            "_view_module": "@jupyter-widgets/base",
            "_view_module_version": "1.2.0",
            "_view_name": "LayoutView",
            "align_content": null,
            "align_items": null,
            "align_self": null,
            "border": null,
            "bottom": null,
            "display": null,
            "flex": null,
            "flex_flow": null,
            "grid_area": null,
            "grid_auto_columns": null,
            "grid_auto_flow": null,
            "grid_auto_rows": null,
            "grid_column": null,
            "grid_gap": null,
            "grid_row": null,
            "grid_template_areas": null,
            "grid_template_columns": null,
            "grid_template_rows": null,
            "height": null,
            "justify_content": null,
            "justify_items": null,
            "left": null,
            "margin": null,
            "max_height": null,
            "max_width": null,
            "min_height": null,
            "min_width": null,
            "object_fit": null,
            "object_position": null,
            "order": null,
            "overflow": null,
            "overflow_x": null,
            "overflow_y": null,
            "padding": null,
            "right": null,
            "top": null,
            "visibility": null,
            "width": null
          }
        },
        "97cf14a6bbab42fbbd55da56b8a0060d": {
          "model_module": "@jupyter-widgets/controls",
          "model_module_version": "1.5.0",
          "model_name": "LabelModel",
          "state": {
            "_dom_classes": [],
            "_model_module": "@jupyter-widgets/controls",
            "_model_module_version": "1.5.0",
            "_model_name": "LabelModel",
            "_view_count": null,
            "_view_module": "@jupyter-widgets/controls",
            "_view_module_version": "1.5.0",
            "_view_name": "LabelView",
            "description": "",
            "description_tooltip": null,
            "layout": "IPY_MODEL_7b7dfcf1dadd430e806d0731a97dc031",
            "placeholder": "​",
            "style": "IPY_MODEL_8bd025b43ef8488aaaaeacea64de811c",
            "value": "Your token has been saved to /root/.cache/huggingface/token"
          }
        },
        "98b513fb020744bfbbe0678daa33f2aa": {
          "model_module": "@jupyter-widgets/controls",
          "model_module_version": "1.5.0",
          "model_name": "FloatProgressModel",
          "state": {
            "_dom_classes": [],
            "_model_module": "@jupyter-widgets/controls",
            "_model_module_version": "1.5.0",
            "_model_name": "FloatProgressModel",
            "_view_count": null,
            "_view_module": "@jupyter-widgets/controls",
            "_view_module_version": "1.5.0",
            "_view_name": "ProgressView",
            "bar_style": "success",
            "description": "",
            "description_tooltip": null,
            "layout": "IPY_MODEL_0c2955e8cff44b5ba998ca584e485e54",
            "max": 1520,
            "min": 0,
            "orientation": "horizontal",
            "style": "IPY_MODEL_e1d75f47a76d4bf8b2941fe543e46242",
            "value": 1520
          }
        },
        "9b1123843bb647cd9c8aebdee27afd45": {
          "model_module": "@jupyter-widgets/controls",
          "model_module_version": "1.5.0",
          "model_name": "DescriptionStyleModel",
          "state": {
            "_model_module": "@jupyter-widgets/controls",
            "_model_module_version": "1.5.0",
            "_model_name": "DescriptionStyleModel",
            "_view_count": null,
            "_view_module": "@jupyter-widgets/base",
            "_view_module_version": "1.2.0",
            "_view_name": "StyleView",
            "description_width": ""
          }
        },
        "9bd16932a4dc4ba5aaa2a62c39b496f1": {
          "model_module": "@jupyter-widgets/controls",
          "model_module_version": "1.5.0",
          "model_name": "FloatProgressModel",
          "state": {
            "_dom_classes": [],
            "_model_module": "@jupyter-widgets/controls",
            "_model_module_version": "1.5.0",
            "_model_name": "FloatProgressModel",
            "_view_count": null,
            "_view_module": "@jupyter-widgets/controls",
            "_view_module_version": "1.5.0",
            "_view_name": "ProgressView",
            "bar_style": "success",
            "description": "",
            "description_tooltip": null,
            "layout": "IPY_MODEL_d465f31829654f6d81018638dedc7be0",
            "max": 74,
            "min": 0,
            "orientation": "horizontal",
            "style": "IPY_MODEL_df4da6bee6b543cb935b57bf25c5bf6c",
            "value": 74
          }
        },
        "9d0a985bb1f147019622d1adfbf60eb5": {
          "model_module": "@jupyter-widgets/base",
          "model_module_version": "1.2.0",
          "model_name": "LayoutModel",
          "state": {
            "_model_module": "@jupyter-widgets/base",
            "_model_module_version": "1.2.0",
            "_model_name": "LayoutModel",
            "_view_count": null,
            "_view_module": "@jupyter-widgets/base",
            "_view_module_version": "1.2.0",
            "_view_name": "LayoutView",
            "align_content": null,
            "align_items": null,
            "align_self": null,
            "border": null,
            "bottom": null,
            "display": null,
            "flex": null,
            "flex_flow": null,
            "grid_area": null,
            "grid_auto_columns": null,
            "grid_auto_flow": null,
            "grid_auto_rows": null,
            "grid_column": null,
            "grid_gap": null,
            "grid_row": null,
            "grid_template_areas": null,
            "grid_template_columns": null,
            "grid_template_rows": null,
            "height": null,
            "justify_content": null,
            "justify_items": null,
            "left": null,
            "margin": null,
            "max_height": null,
            "max_width": null,
            "min_height": null,
            "min_width": null,
            "object_fit": null,
            "object_position": null,
            "order": null,
            "overflow": null,
            "overflow_x": null,
            "overflow_y": null,
            "padding": null,
            "right": null,
            "top": null,
            "visibility": null,
            "width": null
          }
        },
        "9d67da2b4afc4db18634e7b58939af35": {
          "model_module": "@jupyter-widgets/base",
          "model_module_version": "1.2.0",
          "model_name": "LayoutModel",
          "state": {
            "_model_module": "@jupyter-widgets/base",
            "_model_module_version": "1.2.0",
            "_model_name": "LayoutModel",
            "_view_count": null,
            "_view_module": "@jupyter-widgets/base",
            "_view_module_version": "1.2.0",
            "_view_name": "LayoutView",
            "align_content": null,
            "align_items": null,
            "align_self": null,
            "border": null,
            "bottom": null,
            "display": null,
            "flex": null,
            "flex_flow": null,
            "grid_area": null,
            "grid_auto_columns": null,
            "grid_auto_flow": null,
            "grid_auto_rows": null,
            "grid_column": null,
            "grid_gap": null,
            "grid_row": null,
            "grid_template_areas": null,
            "grid_template_columns": null,
            "grid_template_rows": null,
            "height": null,
            "justify_content": null,
            "justify_items": null,
            "left": null,
            "margin": null,
            "max_height": null,
            "max_width": null,
            "min_height": null,
            "min_width": null,
            "object_fit": null,
            "object_position": null,
            "order": null,
            "overflow": null,
            "overflow_x": null,
            "overflow_y": null,
            "padding": null,
            "right": null,
            "top": null,
            "visibility": null,
            "width": null
          }
        },
        "a0ab6680caba4307bb170e1ce6c45a5b": {
          "model_module": "@jupyter-widgets/base",
          "model_module_version": "1.2.0",
          "model_name": "LayoutModel",
          "state": {
            "_model_module": "@jupyter-widgets/base",
            "_model_module_version": "1.2.0",
            "_model_name": "LayoutModel",
            "_view_count": null,
            "_view_module": "@jupyter-widgets/base",
            "_view_module_version": "1.2.0",
            "_view_name": "LayoutView",
            "align_content": null,
            "align_items": null,
            "align_self": null,
            "border": null,
            "bottom": null,
            "display": null,
            "flex": null,
            "flex_flow": null,
            "grid_area": null,
            "grid_auto_columns": null,
            "grid_auto_flow": null,
            "grid_auto_rows": null,
            "grid_column": null,
            "grid_gap": null,
            "grid_row": null,
            "grid_template_areas": null,
            "grid_template_columns": null,
            "grid_template_rows": null,
            "height": null,
            "justify_content": null,
            "justify_items": null,
            "left": null,
            "margin": null,
            "max_height": null,
            "max_width": null,
            "min_height": null,
            "min_width": null,
            "object_fit": null,
            "object_position": null,
            "order": null,
            "overflow": null,
            "overflow_x": null,
            "overflow_y": null,
            "padding": null,
            "right": null,
            "top": null,
            "visibility": null,
            "width": null
          }
        },
        "a205a3e63b394e349c4d7515ef294874": {
          "model_module": "@jupyter-widgets/base",
          "model_module_version": "1.2.0",
          "model_name": "LayoutModel",
          "state": {
            "_model_module": "@jupyter-widgets/base",
            "_model_module_version": "1.2.0",
            "_model_name": "LayoutModel",
            "_view_count": null,
            "_view_module": "@jupyter-widgets/base",
            "_view_module_version": "1.2.0",
            "_view_name": "LayoutView",
            "align_content": null,
            "align_items": null,
            "align_self": null,
            "border": null,
            "bottom": null,
            "display": null,
            "flex": null,
            "flex_flow": null,
            "grid_area": null,
            "grid_auto_columns": null,
            "grid_auto_flow": null,
            "grid_auto_rows": null,
            "grid_column": null,
            "grid_gap": null,
            "grid_row": null,
            "grid_template_areas": null,
            "grid_template_columns": null,
            "grid_template_rows": null,
            "height": null,
            "justify_content": null,
            "justify_items": null,
            "left": null,
            "margin": null,
            "max_height": null,
            "max_width": null,
            "min_height": null,
            "min_width": null,
            "object_fit": null,
            "object_position": null,
            "order": null,
            "overflow": null,
            "overflow_x": null,
            "overflow_y": null,
            "padding": null,
            "right": null,
            "top": null,
            "visibility": null,
            "width": null
          }
        },
        "a434f279213545da8a92da73bc320504": {
          "model_module": "@jupyter-widgets/base",
          "model_module_version": "1.2.0",
          "model_name": "LayoutModel",
          "state": {
            "_model_module": "@jupyter-widgets/base",
            "_model_module_version": "1.2.0",
            "_model_name": "LayoutModel",
            "_view_count": null,
            "_view_module": "@jupyter-widgets/base",
            "_view_module_version": "1.2.0",
            "_view_name": "LayoutView",
            "align_content": null,
            "align_items": null,
            "align_self": null,
            "border": null,
            "bottom": null,
            "display": null,
            "flex": null,
            "flex_flow": null,
            "grid_area": null,
            "grid_auto_columns": null,
            "grid_auto_flow": null,
            "grid_auto_rows": null,
            "grid_column": null,
            "grid_gap": null,
            "grid_row": null,
            "grid_template_areas": null,
            "grid_template_columns": null,
            "grid_template_rows": null,
            "height": null,
            "justify_content": null,
            "justify_items": null,
            "left": null,
            "margin": null,
            "max_height": null,
            "max_width": null,
            "min_height": null,
            "min_width": null,
            "object_fit": null,
            "object_position": null,
            "order": null,
            "overflow": null,
            "overflow_x": null,
            "overflow_y": null,
            "padding": null,
            "right": null,
            "top": null,
            "visibility": null,
            "width": null
          }
        },
        "a4895ee5bdf94fbf87f11226edca7e3b": {
          "model_module": "@jupyter-widgets/controls",
          "model_module_version": "1.5.0",
          "model_name": "HBoxModel",
          "state": {
            "_dom_classes": [],
            "_model_module": "@jupyter-widgets/controls",
            "_model_module_version": "1.5.0",
            "_model_name": "HBoxModel",
            "_view_count": null,
            "_view_module": "@jupyter-widgets/controls",
            "_view_module_version": "1.5.0",
            "_view_name": "HBoxView",
            "box_style": "",
            "children": [
              "IPY_MODEL_25c5338967124567b8ad175660bc97de",
              "IPY_MODEL_8d20c392363342c0b3b008ddd75a72ba",
              "IPY_MODEL_48eb882949714c87b35029ef761e5633"
            ],
            "layout": "IPY_MODEL_fb6691227011463bb58cb9d4f9cc61c9"
          }
        },
        "a55b69b790704d899ce5b5f32c7e7a2a": {
          "model_module": "@jupyter-widgets/base",
          "model_module_version": "1.2.0",
          "model_name": "LayoutModel",
          "state": {
            "_model_module": "@jupyter-widgets/base",
            "_model_module_version": "1.2.0",
            "_model_name": "LayoutModel",
            "_view_count": null,
            "_view_module": "@jupyter-widgets/base",
            "_view_module_version": "1.2.0",
            "_view_name": "LayoutView",
            "align_content": null,
            "align_items": null,
            "align_self": null,
            "border": null,
            "bottom": null,
            "display": null,
            "flex": null,
            "flex_flow": null,
            "grid_area": null,
            "grid_auto_columns": null,
            "grid_auto_flow": null,
            "grid_auto_rows": null,
            "grid_column": null,
            "grid_gap": null,
            "grid_row": null,
            "grid_template_areas": null,
            "grid_template_columns": null,
            "grid_template_rows": null,
            "height": null,
            "justify_content": null,
            "justify_items": null,
            "left": null,
            "margin": null,
            "max_height": null,
            "max_width": null,
            "min_height": null,
            "min_width": null,
            "object_fit": null,
            "object_position": null,
            "order": null,
            "overflow": null,
            "overflow_x": null,
            "overflow_y": null,
            "padding": null,
            "right": null,
            "top": null,
            "visibility": null,
            "width": null
          }
        },
        "a76a843b5ac64734aa158217045ac659": {
          "model_module": "@jupyter-widgets/controls",
          "model_module_version": "1.5.0",
          "model_name": "DescriptionStyleModel",
          "state": {
            "_model_module": "@jupyter-widgets/controls",
            "_model_module_version": "1.5.0",
            "_model_name": "DescriptionStyleModel",
            "_view_count": null,
            "_view_module": "@jupyter-widgets/base",
            "_view_module_version": "1.2.0",
            "_view_name": "StyleView",
            "description_width": ""
          }
        },
        "a91e49cba5084478a0ff9f5900ef5ccc": {
          "model_module": "@jupyter-widgets/controls",
          "model_module_version": "1.5.0",
          "model_name": "HTMLModel",
          "state": {
            "_dom_classes": [],
            "_model_module": "@jupyter-widgets/controls",
            "_model_module_version": "1.5.0",
            "_model_name": "HTMLModel",
            "_view_count": null,
            "_view_module": "@jupyter-widgets/controls",
            "_view_module_version": "1.5.0",
            "_view_name": "HTMLView",
            "description": "",
            "description_tooltip": null,
            "layout": "IPY_MODEL_8936cd15dd5d43728d728ac9e5478bc9",
            "placeholder": "​",
            "style": "IPY_MODEL_ad1d30c3644744e3a6c61b36a2092b86",
            "value": " 74.0/74.0 [00:00&lt;00:00, 872B/s]"
          }
        },
        "a9aa1538562840f2b969340f1cbf8bbb": {
          "model_module": "@jupyter-widgets/controls",
          "model_module_version": "1.5.0",
          "model_name": "DescriptionStyleModel",
          "state": {
            "_model_module": "@jupyter-widgets/controls",
            "_model_module_version": "1.5.0",
            "_model_name": "DescriptionStyleModel",
            "_view_count": null,
            "_view_module": "@jupyter-widgets/base",
            "_view_module_version": "1.2.0",
            "_view_name": "StyleView",
            "description_width": ""
          }
        },
        "aa0124f37575481eb395487eb725e3af": {
          "model_module": "@jupyter-widgets/controls",
          "model_module_version": "1.5.0",
          "model_name": "DescriptionStyleModel",
          "state": {
            "_model_module": "@jupyter-widgets/controls",
            "_model_module_version": "1.5.0",
            "_model_name": "DescriptionStyleModel",
            "_view_count": null,
            "_view_module": "@jupyter-widgets/base",
            "_view_module_version": "1.2.0",
            "_view_name": "StyleView",
            "description_width": ""
          }
        },
        "ad1d30c3644744e3a6c61b36a2092b86": {
          "model_module": "@jupyter-widgets/controls",
          "model_module_version": "1.5.0",
          "model_name": "DescriptionStyleModel",
          "state": {
            "_model_module": "@jupyter-widgets/controls",
            "_model_module_version": "1.5.0",
            "_model_name": "DescriptionStyleModel",
            "_view_count": null,
            "_view_module": "@jupyter-widgets/base",
            "_view_module_version": "1.2.0",
            "_view_name": "StyleView",
            "description_width": ""
          }
        },
        "ad65c758c1114adab13e6dbf29f660aa": {
          "model_module": "@jupyter-widgets/base",
          "model_module_version": "1.2.0",
          "model_name": "LayoutModel",
          "state": {
            "_model_module": "@jupyter-widgets/base",
            "_model_module_version": "1.2.0",
            "_model_name": "LayoutModel",
            "_view_count": null,
            "_view_module": "@jupyter-widgets/base",
            "_view_module_version": "1.2.0",
            "_view_name": "LayoutView",
            "align_content": null,
            "align_items": null,
            "align_self": null,
            "border": null,
            "bottom": null,
            "display": null,
            "flex": null,
            "flex_flow": null,
            "grid_area": null,
            "grid_auto_columns": null,
            "grid_auto_flow": null,
            "grid_auto_rows": null,
            "grid_column": null,
            "grid_gap": null,
            "grid_row": null,
            "grid_template_areas": null,
            "grid_template_columns": null,
            "grid_template_rows": null,
            "height": null,
            "justify_content": null,
            "justify_items": null,
            "left": null,
            "margin": null,
            "max_height": null,
            "max_width": null,
            "min_height": null,
            "min_width": null,
            "object_fit": null,
            "object_position": null,
            "order": null,
            "overflow": null,
            "overflow_x": null,
            "overflow_y": null,
            "padding": null,
            "right": null,
            "top": null,
            "visibility": null,
            "width": null
          }
        },
        "ad6e9ae6822b489583aef2187db3df7c": {
          "model_module": "@jupyter-widgets/controls",
          "model_module_version": "1.5.0",
          "model_name": "DescriptionStyleModel",
          "state": {
            "_model_module": "@jupyter-widgets/controls",
            "_model_module_version": "1.5.0",
            "_model_name": "DescriptionStyleModel",
            "_view_count": null,
            "_view_module": "@jupyter-widgets/base",
            "_view_module_version": "1.2.0",
            "_view_name": "StyleView",
            "description_width": ""
          }
        },
        "adbad0b85f78492583b2c5b291341030": {
          "model_module": "@jupyter-widgets/base",
          "model_module_version": "1.2.0",
          "model_name": "LayoutModel",
          "state": {
            "_model_module": "@jupyter-widgets/base",
            "_model_module_version": "1.2.0",
            "_model_name": "LayoutModel",
            "_view_count": null,
            "_view_module": "@jupyter-widgets/base",
            "_view_module_version": "1.2.0",
            "_view_name": "LayoutView",
            "align_content": null,
            "align_items": null,
            "align_self": null,
            "border": null,
            "bottom": null,
            "display": null,
            "flex": null,
            "flex_flow": null,
            "grid_area": null,
            "grid_auto_columns": null,
            "grid_auto_flow": null,
            "grid_auto_rows": null,
            "grid_column": null,
            "grid_gap": null,
            "grid_row": null,
            "grid_template_areas": null,
            "grid_template_columns": null,
            "grid_template_rows": null,
            "height": null,
            "justify_content": null,
            "justify_items": null,
            "left": null,
            "margin": null,
            "max_height": null,
            "max_width": null,
            "min_height": null,
            "min_width": null,
            "object_fit": null,
            "object_position": null,
            "order": null,
            "overflow": null,
            "overflow_x": null,
            "overflow_y": null,
            "padding": null,
            "right": null,
            "top": null,
            "visibility": null,
            "width": null
          }
        },
        "aea304411d814cdf97244616e7b0b60e": {
          "model_module": "@jupyter-widgets/controls",
          "model_module_version": "1.5.0",
          "model_name": "DescriptionStyleModel",
          "state": {
            "_model_module": "@jupyter-widgets/controls",
            "_model_module_version": "1.5.0",
            "_model_name": "DescriptionStyleModel",
            "_view_count": null,
            "_view_module": "@jupyter-widgets/base",
            "_view_module_version": "1.2.0",
            "_view_name": "StyleView",
            "description_width": ""
          }
        },
        "b2a991432e5347c68b57c2b536e5259f": {
          "model_module": "@jupyter-widgets/controls",
          "model_module_version": "1.5.0",
          "model_name": "HTMLModel",
          "state": {
            "_dom_classes": [],
            "_model_module": "@jupyter-widgets/controls",
            "_model_module_version": "1.5.0",
            "_model_name": "HTMLModel",
            "_view_count": null,
            "_view_module": "@jupyter-widgets/controls",
            "_view_module_version": "1.5.0",
            "_view_name": "HTMLView",
            "description": "",
            "description_tooltip": null,
            "layout": "IPY_MODEL_3f6cb26214664eca87c4eea237cb2cf5",
            "placeholder": "​",
            "style": "IPY_MODEL_9b1123843bb647cd9c8aebdee27afd45",
            "value": "source.spm: 100%"
          }
        },
        "b30b3c3c16544631ab56df6ef295412e": {
          "model_module": "@jupyter-widgets/controls",
          "model_module_version": "1.5.0",
          "model_name": "HBoxModel",
          "state": {
            "_dom_classes": [],
            "_model_module": "@jupyter-widgets/controls",
            "_model_module_version": "1.5.0",
            "_model_name": "HBoxModel",
            "_view_count": null,
            "_view_module": "@jupyter-widgets/controls",
            "_view_module_version": "1.5.0",
            "_view_name": "HBoxView",
            "box_style": "",
            "children": [
              "IPY_MODEL_ce752278d7ca40f4b1f9117128207c60",
              "IPY_MODEL_61e02c8042e9452a93bcfb8ef494f152",
              "IPY_MODEL_c614d8a41cf744d7bbeddaa9d22ebb72"
            ],
            "layout": "IPY_MODEL_9d0a985bb1f147019622d1adfbf60eb5"
          }
        },
        "b841a00960ce463b9c11923479b767d8": {
          "model_module": "@jupyter-widgets/controls",
          "model_module_version": "1.5.0",
          "model_name": "DescriptionStyleModel",
          "state": {
            "_model_module": "@jupyter-widgets/controls",
            "_model_module_version": "1.5.0",
            "_model_name": "DescriptionStyleModel",
            "_view_count": null,
            "_view_module": "@jupyter-widgets/base",
            "_view_module_version": "1.2.0",
            "_view_name": "StyleView",
            "description_width": ""
          }
        },
        "b8604c0411f346be934ab46bfd8d4b34": {
          "model_module": "@jupyter-widgets/controls",
          "model_module_version": "1.5.0",
          "model_name": "HBoxModel",
          "state": {
            "_dom_classes": [],
            "_model_module": "@jupyter-widgets/controls",
            "_model_module_version": "1.5.0",
            "_model_name": "HBoxModel",
            "_view_count": null,
            "_view_module": "@jupyter-widgets/controls",
            "_view_module_version": "1.5.0",
            "_view_name": "HBoxView",
            "box_style": "",
            "children": [
              "IPY_MODEL_cca62ce7e7a347318a23146eaa9709ca",
              "IPY_MODEL_9bd16932a4dc4ba5aaa2a62c39b496f1",
              "IPY_MODEL_a91e49cba5084478a0ff9f5900ef5ccc"
            ],
            "layout": "IPY_MODEL_9535f27c62ab4febac8e04156525bd65"
          }
        },
        "b982f93475414c0c8a92601717138dc4": {
          "model_module": "@jupyter-widgets/controls",
          "model_module_version": "1.5.0",
          "model_name": "HTMLModel",
          "state": {
            "_dom_classes": [],
            "_model_module": "@jupyter-widgets/controls",
            "_model_module_version": "1.5.0",
            "_model_name": "HTMLModel",
            "_view_count": null,
            "_view_module": "@jupyter-widgets/controls",
            "_view_module_version": "1.5.0",
            "_view_name": "HTMLView",
            "description": "",
            "description_tooltip": null,
            "layout": "IPY_MODEL_a434f279213545da8a92da73bc320504",
            "placeholder": "​",
            "style": "IPY_MODEL_17ecb55f59dd411084d8692b80cc8cad",
            "value": "Downloading: "
          }
        },
        "bd13bf0f86854ca3a66e62e3dd6b068f": {
          "model_module": "@jupyter-widgets/controls",
          "model_module_version": "1.5.0",
          "model_name": "ProgressStyleModel",
          "state": {
            "_model_module": "@jupyter-widgets/controls",
            "_model_module_version": "1.5.0",
            "_model_name": "ProgressStyleModel",
            "_view_count": null,
            "_view_module": "@jupyter-widgets/base",
            "_view_module_version": "1.2.0",
            "_view_name": "StyleView",
            "bar_color": null,
            "description_width": ""
          }
        },
        "bf711dc920b9403999399788947b7257": {
          "model_module": "@jupyter-widgets/controls",
          "model_module_version": "1.5.0",
          "model_name": "HTMLModel",
          "state": {
            "_dom_classes": [],
            "_model_module": "@jupyter-widgets/controls",
            "_model_module_version": "1.5.0",
            "_model_name": "HTMLModel",
            "_view_count": null,
            "_view_module": "@jupyter-widgets/controls",
            "_view_module_version": "1.5.0",
            "_view_name": "HTMLView",
            "description": "",
            "description_tooltip": null,
            "layout": "IPY_MODEL_a205a3e63b394e349c4d7515ef294874",
            "placeholder": "​",
            "style": "IPY_MODEL_ad6e9ae6822b489583aef2187db3df7c",
            "value": " 809k/809k [00:00&lt;00:00, 5.70MB/s]"
          }
        },
        "bf9c7864c148474c9662b7a0fe32f500": {
          "model_module": "@jupyter-widgets/controls",
          "model_module_version": "1.5.0",
          "model_name": "ProgressStyleModel",
          "state": {
            "_model_module": "@jupyter-widgets/controls",
            "_model_module_version": "1.5.0",
            "_model_name": "ProgressStyleModel",
            "_view_count": null,
            "_view_module": "@jupyter-widgets/base",
            "_view_module_version": "1.2.0",
            "_view_name": "StyleView",
            "bar_color": null,
            "description_width": ""
          }
        },
        "c04bdf05ef684c8fb12ea45833394e77": {
          "model_module": "@jupyter-widgets/controls",
          "model_module_version": "1.5.0",
          "model_name": "DescriptionStyleModel",
          "state": {
            "_model_module": "@jupyter-widgets/controls",
            "_model_module_version": "1.5.0",
            "_model_name": "DescriptionStyleModel",
            "_view_count": null,
            "_view_module": "@jupyter-widgets/base",
            "_view_module_version": "1.2.0",
            "_view_name": "StyleView",
            "description_width": ""
          }
        },
        "c09432835b6d4e58b13c0c08f9e64d9f": {
          "model_module": "@jupyter-widgets/base",
          "model_module_version": "1.2.0",
          "model_name": "LayoutModel",
          "state": {
            "_model_module": "@jupyter-widgets/base",
            "_model_module_version": "1.2.0",
            "_model_name": "LayoutModel",
            "_view_count": null,
            "_view_module": "@jupyter-widgets/base",
            "_view_module_version": "1.2.0",
            "_view_name": "LayoutView",
            "align_content": null,
            "align_items": null,
            "align_self": null,
            "border": null,
            "bottom": null,
            "display": null,
            "flex": null,
            "flex_flow": null,
            "grid_area": null,
            "grid_auto_columns": null,
            "grid_auto_flow": null,
            "grid_auto_rows": null,
            "grid_column": null,
            "grid_gap": null,
            "grid_row": null,
            "grid_template_areas": null,
            "grid_template_columns": null,
            "grid_template_rows": null,
            "height": null,
            "justify_content": null,
            "justify_items": null,
            "left": null,
            "margin": null,
            "max_height": null,
            "max_width": null,
            "min_height": null,
            "min_width": null,
            "object_fit": null,
            "object_position": null,
            "order": null,
            "overflow": null,
            "overflow_x": null,
            "overflow_y": null,
            "padding": null,
            "right": null,
            "top": null,
            "visibility": null,
            "width": null
          }
        },
        "c0b539be8cb7483ab04e74abe8878f73": {
          "model_module": "@jupyter-widgets/base",
          "model_module_version": "1.2.0",
          "model_name": "LayoutModel",
          "state": {
            "_model_module": "@jupyter-widgets/base",
            "_model_module_version": "1.2.0",
            "_model_name": "LayoutModel",
            "_view_count": null,
            "_view_module": "@jupyter-widgets/base",
            "_view_module_version": "1.2.0",
            "_view_name": "LayoutView",
            "align_content": null,
            "align_items": null,
            "align_self": null,
            "border": null,
            "bottom": null,
            "display": null,
            "flex": null,
            "flex_flow": null,
            "grid_area": null,
            "grid_auto_columns": null,
            "grid_auto_flow": null,
            "grid_auto_rows": null,
            "grid_column": null,
            "grid_gap": null,
            "grid_row": null,
            "grid_template_areas": null,
            "grid_template_columns": null,
            "grid_template_rows": null,
            "height": null,
            "justify_content": null,
            "justify_items": null,
            "left": null,
            "margin": null,
            "max_height": null,
            "max_width": null,
            "min_height": null,
            "min_width": null,
            "object_fit": null,
            "object_position": null,
            "order": null,
            "overflow": null,
            "overflow_x": null,
            "overflow_y": null,
            "padding": null,
            "right": null,
            "top": null,
            "visibility": null,
            "width": null
          }
        },
        "c211858b08b946b2b75469653f96f34f": {
          "model_module": "@jupyter-widgets/base",
          "model_module_version": "1.2.0",
          "model_name": "LayoutModel",
          "state": {
            "_model_module": "@jupyter-widgets/base",
            "_model_module_version": "1.2.0",
            "_model_name": "LayoutModel",
            "_view_count": null,
            "_view_module": "@jupyter-widgets/base",
            "_view_module_version": "1.2.0",
            "_view_name": "LayoutView",
            "align_content": null,
            "align_items": null,
            "align_self": null,
            "border": null,
            "bottom": null,
            "display": null,
            "flex": null,
            "flex_flow": null,
            "grid_area": null,
            "grid_auto_columns": null,
            "grid_auto_flow": null,
            "grid_auto_rows": null,
            "grid_column": null,
            "grid_gap": null,
            "grid_row": null,
            "grid_template_areas": null,
            "grid_template_columns": null,
            "grid_template_rows": null,
            "height": null,
            "justify_content": null,
            "justify_items": null,
            "left": null,
            "margin": null,
            "max_height": null,
            "max_width": null,
            "min_height": null,
            "min_width": null,
            "object_fit": null,
            "object_position": null,
            "order": null,
            "overflow": null,
            "overflow_x": null,
            "overflow_y": null,
            "padding": null,
            "right": null,
            "top": null,
            "visibility": null,
            "width": null
          }
        },
        "c22e7a8724084a54a924826e36d9a78f": {
          "model_module": "@jupyter-widgets/controls",
          "model_module_version": "1.5.0",
          "model_name": "ProgressStyleModel",
          "state": {
            "_model_module": "@jupyter-widgets/controls",
            "_model_module_version": "1.5.0",
            "_model_name": "ProgressStyleModel",
            "_view_count": null,
            "_view_module": "@jupyter-widgets/base",
            "_view_module_version": "1.2.0",
            "_view_name": "StyleView",
            "bar_color": null,
            "description_width": ""
          }
        },
        "c312ed6de5b149e39c64ad8aa74ab5cc": {
          "model_module": "@jupyter-widgets/controls",
          "model_module_version": "1.5.0",
          "model_name": "HTMLModel",
          "state": {
            "_dom_classes": [],
            "_model_module": "@jupyter-widgets/controls",
            "_model_module_version": "1.5.0",
            "_model_name": "HTMLModel",
            "_view_count": null,
            "_view_module": "@jupyter-widgets/controls",
            "_view_module_version": "1.5.0",
            "_view_name": "HTMLView",
            "description": "",
            "description_tooltip": null,
            "layout": "IPY_MODEL_a0ab6680caba4307bb170e1ce6c45a5b",
            "placeholder": "​",
            "style": "IPY_MODEL_f3c8ddc4fd824c1ca133c56ae36b5274",
            "value": " 9.71k/9.71k [00:00&lt;00:00, 27.3kB/s]"
          }
        },
        "c614d8a41cf744d7bbeddaa9d22ebb72": {
          "model_module": "@jupyter-widgets/controls",
          "model_module_version": "1.5.0",
          "model_name": "HTMLModel",
          "state": {
            "_dom_classes": [],
            "_model_module": "@jupyter-widgets/controls",
            "_model_module_version": "1.5.0",
            "_model_name": "HTMLModel",
            "_view_count": null,
            "_view_module": "@jupyter-widgets/controls",
            "_view_module_version": "1.5.0",
            "_view_name": "HTMLView",
            "description": "",
            "description_tooltip": null,
            "layout": "IPY_MODEL_43d5adecb09d434da68640b03b7c6bd1",
            "placeholder": "​",
            "style": "IPY_MODEL_58e0fe327fcd4fc6bf02692dbdb3896a",
            "value": " 287M/287M [00:04&lt;00:00, 53.4MB/s]"
          }
        },
        "c680d33396734594a9ef90c24aa09e0e": {
          "model_module": "@jupyter-widgets/controls",
          "model_module_version": "1.5.0",
          "model_name": "ProgressStyleModel",
          "state": {
            "_model_module": "@jupyter-widgets/controls",
            "_model_module_version": "1.5.0",
            "_model_name": "ProgressStyleModel",
            "_view_count": null,
            "_view_module": "@jupyter-widgets/base",
            "_view_module_version": "1.2.0",
            "_view_name": "StyleView",
            "bar_color": null,
            "description_width": ""
          }
        },
        "c75f1fc20b74427f848f8f5ac462eaf6": {
          "model_module": "@jupyter-widgets/base",
          "model_module_version": "1.2.0",
          "model_name": "LayoutModel",
          "state": {
            "_model_module": "@jupyter-widgets/base",
            "_model_module_version": "1.2.0",
            "_model_name": "LayoutModel",
            "_view_count": null,
            "_view_module": "@jupyter-widgets/base",
            "_view_module_version": "1.2.0",
            "_view_name": "LayoutView",
            "align_content": null,
            "align_items": null,
            "align_self": null,
            "border": null,
            "bottom": null,
            "display": null,
            "flex": null,
            "flex_flow": null,
            "grid_area": null,
            "grid_auto_columns": null,
            "grid_auto_flow": null,
            "grid_auto_rows": null,
            "grid_column": null,
            "grid_gap": null,
            "grid_row": null,
            "grid_template_areas": null,
            "grid_template_columns": null,
            "grid_template_rows": null,
            "height": null,
            "justify_content": null,
            "justify_items": null,
            "left": null,
            "margin": null,
            "max_height": null,
            "max_width": null,
            "min_height": null,
            "min_width": null,
            "object_fit": null,
            "object_position": null,
            "order": null,
            "overflow": null,
            "overflow_x": null,
            "overflow_y": null,
            "padding": null,
            "right": null,
            "top": null,
            "visibility": null,
            "width": null
          }
        },
        "c916612f156b457f828410fdc85c8def": {
          "model_module": "@jupyter-widgets/controls",
          "model_module_version": "1.5.0",
          "model_name": "FloatProgressModel",
          "state": {
            "_dom_classes": [],
            "_model_module": "@jupyter-widgets/controls",
            "_model_module_version": "1.5.0",
            "_model_name": "FloatProgressModel",
            "_view_count": null,
            "_view_module": "@jupyter-widgets/controls",
            "_view_module_version": "1.5.0",
            "_view_name": "ProgressView",
            "bar_style": "success",
            "description": "",
            "description_tooltip": null,
            "layout": "IPY_MODEL_adbad0b85f78492583b2c5b291341030",
            "max": 1405,
            "min": 0,
            "orientation": "horizontal",
            "style": "IPY_MODEL_f8f12dcd6d164513bae3d4d7835cc45e",
            "value": 1405
          }
        },
        "ca10687a274147a8a03f44900e79ff41": {
          "model_module": "@jupyter-widgets/controls",
          "model_module_version": "1.5.0",
          "model_name": "HBoxModel",
          "state": {
            "_dom_classes": [],
            "_model_module": "@jupyter-widgets/controls",
            "_model_module_version": "1.5.0",
            "_model_name": "HBoxModel",
            "_view_count": null,
            "_view_module": "@jupyter-widgets/controls",
            "_view_module_version": "1.5.0",
            "_view_name": "HBoxView",
            "box_style": "",
            "children": [
              "IPY_MODEL_15a4d9a241534a579bada1b6ce9697b6",
              "IPY_MODEL_12eff2a7241543e6852d52d15ad06c04",
              "IPY_MODEL_436ee70a25ee4b38a1ddea54fd6e0d09"
            ],
            "layout": "IPY_MODEL_9d67da2b4afc4db18634e7b58939af35"
          }
        },
        "cc8b5fd6581b406faa7fa4bcedea7287": {
          "model_module": "@jupyter-widgets/controls",
          "model_module_version": "1.5.0",
          "model_name": "HTMLModel",
          "state": {
            "_dom_classes": [],
            "_model_module": "@jupyter-widgets/controls",
            "_model_module_version": "1.5.0",
            "_model_name": "HTMLModel",
            "_view_count": null,
            "_view_module": "@jupyter-widgets/controls",
            "_view_module_version": "1.5.0",
            "_view_name": "HTMLView",
            "description": "",
            "description_tooltip": null,
            "layout": "IPY_MODEL_5e226582f5db482b8f8b7de8c66d6cd1",
            "placeholder": "​",
            "style": "IPY_MODEL_aea304411d814cdf97244616e7b0b60e",
            "value": " 818/818 [00:00&lt;00:00, 9.17kB/s]"
          }
        },
        "cca62ce7e7a347318a23146eaa9709ca": {
          "model_module": "@jupyter-widgets/controls",
          "model_module_version": "1.5.0",
          "model_name": "HTMLModel",
          "state": {
            "_dom_classes": [],
            "_model_module": "@jupyter-widgets/controls",
            "_model_module_version": "1.5.0",
            "_model_name": "HTMLModel",
            "_view_count": null,
            "_view_module": "@jupyter-widgets/controls",
            "_view_module_version": "1.5.0",
            "_view_name": "HTMLView",
            "description": "",
            "description_tooltip": null,
            "layout": "IPY_MODEL_fa465a3275d144bdb9e9c608b53c77d6",
            "placeholder": "​",
            "style": "IPY_MODEL_d8d842e2b36c441d99761c5becbb1153",
            "value": "special_tokens_map.json: 100%"
          }
        },
        "ce5e08f32fc942e99c8c4234fcf89194": {
          "model_module": "@jupyter-widgets/base",
          "model_module_version": "1.2.0",
          "model_name": "LayoutModel",
          "state": {
            "_model_module": "@jupyter-widgets/base",
            "_model_module_version": "1.2.0",
            "_model_name": "LayoutModel",
            "_view_count": null,
            "_view_module": "@jupyter-widgets/base",
            "_view_module_version": "1.2.0",
            "_view_name": "LayoutView",
            "align_content": null,
            "align_items": null,
            "align_self": null,
            "border": null,
            "bottom": null,
            "display": null,
            "flex": null,
            "flex_flow": null,
            "grid_area": null,
            "grid_auto_columns": null,
            "grid_auto_flow": null,
            "grid_auto_rows": null,
            "grid_column": null,
            "grid_gap": null,
            "grid_row": null,
            "grid_template_areas": null,
            "grid_template_columns": null,
            "grid_template_rows": null,
            "height": null,
            "justify_content": null,
            "justify_items": null,
            "left": null,
            "margin": null,
            "max_height": null,
            "max_width": null,
            "min_height": null,
            "min_width": null,
            "object_fit": null,
            "object_position": null,
            "order": null,
            "overflow": null,
            "overflow_x": null,
            "overflow_y": null,
            "padding": null,
            "right": null,
            "top": null,
            "visibility": null,
            "width": null
          }
        },
        "ce752278d7ca40f4b1f9117128207c60": {
          "model_module": "@jupyter-widgets/controls",
          "model_module_version": "1.5.0",
          "model_name": "HTMLModel",
          "state": {
            "_dom_classes": [],
            "_model_module": "@jupyter-widgets/controls",
            "_model_module_version": "1.5.0",
            "_model_name": "HTMLModel",
            "_view_count": null,
            "_view_module": "@jupyter-widgets/controls",
            "_view_module_version": "1.5.0",
            "_view_name": "HTMLView",
            "description": "",
            "description_tooltip": null,
            "layout": "IPY_MODEL_0447c04fafa2430daf9a53b8b072fd66",
            "placeholder": "​",
            "style": "IPY_MODEL_da9be4e48c944cd2872a2541e3f81e21",
            "value": "model.safetensors: 100%"
          }
        },
        "d05c439a28e04471b39b47b627f6a729": {
          "model_module": "@jupyter-widgets/controls",
          "model_module_version": "1.5.0",
          "model_name": "DescriptionStyleModel",
          "state": {
            "_model_module": "@jupyter-widgets/controls",
            "_model_module_version": "1.5.0",
            "_model_name": "DescriptionStyleModel",
            "_view_count": null,
            "_view_module": "@jupyter-widgets/base",
            "_view_module_version": "1.2.0",
            "_view_name": "StyleView",
            "description_width": ""
          }
        },
        "d465f31829654f6d81018638dedc7be0": {
          "model_module": "@jupyter-widgets/base",
          "model_module_version": "1.2.0",
          "model_name": "LayoutModel",
          "state": {
            "_model_module": "@jupyter-widgets/base",
            "_model_module_version": "1.2.0",
            "_model_name": "LayoutModel",
            "_view_count": null,
            "_view_module": "@jupyter-widgets/base",
            "_view_module_version": "1.2.0",
            "_view_name": "LayoutView",
            "align_content": null,
            "align_items": null,
            "align_self": null,
            "border": null,
            "bottom": null,
            "display": null,
            "flex": null,
            "flex_flow": null,
            "grid_area": null,
            "grid_auto_columns": null,
            "grid_auto_flow": null,
            "grid_auto_rows": null,
            "grid_column": null,
            "grid_gap": null,
            "grid_row": null,
            "grid_template_areas": null,
            "grid_template_columns": null,
            "grid_template_rows": null,
            "height": null,
            "justify_content": null,
            "justify_items": null,
            "left": null,
            "margin": null,
            "max_height": null,
            "max_width": null,
            "min_height": null,
            "min_width": null,
            "object_fit": null,
            "object_position": null,
            "order": null,
            "overflow": null,
            "overflow_x": null,
            "overflow_y": null,
            "padding": null,
            "right": null,
            "top": null,
            "visibility": null,
            "width": null
          }
        },
        "d5fbfbbb0b8642fb958b117a13c7d44d": {
          "model_module": "@jupyter-widgets/controls",
          "model_module_version": "1.5.0",
          "model_name": "DescriptionStyleModel",
          "state": {
            "_model_module": "@jupyter-widgets/controls",
            "_model_module_version": "1.5.0",
            "_model_name": "DescriptionStyleModel",
            "_view_count": null,
            "_view_module": "@jupyter-widgets/base",
            "_view_module_version": "1.2.0",
            "_view_name": "StyleView",
            "description_width": ""
          }
        },
        "d625876911cb4a70b51624bf325ce116": {
          "model_module": "@jupyter-widgets/controls",
          "model_module_version": "1.5.0",
          "model_name": "ProgressStyleModel",
          "state": {
            "_model_module": "@jupyter-widgets/controls",
            "_model_module_version": "1.5.0",
            "_model_name": "ProgressStyleModel",
            "_view_count": null,
            "_view_module": "@jupyter-widgets/base",
            "_view_module_version": "1.2.0",
            "_view_name": "StyleView",
            "bar_color": null,
            "description_width": ""
          }
        },
        "d8499a1a46144034b56489025aaee86f": {
          "model_module": "@jupyter-widgets/base",
          "model_module_version": "1.2.0",
          "model_name": "LayoutModel",
          "state": {
            "_model_module": "@jupyter-widgets/base",
            "_model_module_version": "1.2.0",
            "_model_name": "LayoutModel",
            "_view_count": null,
            "_view_module": "@jupyter-widgets/base",
            "_view_module_version": "1.2.0",
            "_view_name": "LayoutView",
            "align_content": null,
            "align_items": null,
            "align_self": null,
            "border": null,
            "bottom": null,
            "display": null,
            "flex": null,
            "flex_flow": null,
            "grid_area": null,
            "grid_auto_columns": null,
            "grid_auto_flow": null,
            "grid_auto_rows": null,
            "grid_column": null,
            "grid_gap": null,
            "grid_row": null,
            "grid_template_areas": null,
            "grid_template_columns": null,
            "grid_template_rows": null,
            "height": null,
            "justify_content": null,
            "justify_items": null,
            "left": null,
            "margin": null,
            "max_height": null,
            "max_width": null,
            "min_height": null,
            "min_width": null,
            "object_fit": null,
            "object_position": null,
            "order": null,
            "overflow": null,
            "overflow_x": null,
            "overflow_y": null,
            "padding": null,
            "right": null,
            "top": null,
            "visibility": null,
            "width": null
          }
        },
        "d868485125cf4c259cdc4889e9403968": {
          "model_module": "@jupyter-widgets/controls",
          "model_module_version": "1.5.0",
          "model_name": "DescriptionStyleModel",
          "state": {
            "_model_module": "@jupyter-widgets/controls",
            "_model_module_version": "1.5.0",
            "_model_name": "DescriptionStyleModel",
            "_view_count": null,
            "_view_module": "@jupyter-widgets/base",
            "_view_module_version": "1.2.0",
            "_view_name": "StyleView",
            "description_width": ""
          }
        },
        "d8c4d9cb7725495d9e8633ade12c1ac9": {
          "model_module": "@jupyter-widgets/controls",
          "model_module_version": "1.5.0",
          "model_name": "FloatProgressModel",
          "state": {
            "_dom_classes": [],
            "_model_module": "@jupyter-widgets/controls",
            "_model_module_version": "1.5.0",
            "_model_name": "FloatProgressModel",
            "_view_count": null,
            "_view_module": "@jupyter-widgets/controls",
            "_view_module_version": "1.5.0",
            "_view_name": "ProgressView",
            "bar_style": "success",
            "description": "",
            "description_tooltip": null,
            "layout": "IPY_MODEL_68bf6f7d858d450587da77cf817e43dc",
            "max": 818,
            "min": 0,
            "orientation": "horizontal",
            "style": "IPY_MODEL_c680d33396734594a9ef90c24aa09e0e",
            "value": 818
          }
        },
        "d8d842e2b36c441d99761c5becbb1153": {
          "model_module": "@jupyter-widgets/controls",
          "model_module_version": "1.5.0",
          "model_name": "DescriptionStyleModel",
          "state": {
            "_model_module": "@jupyter-widgets/controls",
            "_model_module_version": "1.5.0",
            "_model_name": "DescriptionStyleModel",
            "_view_count": null,
            "_view_module": "@jupyter-widgets/base",
            "_view_module_version": "1.2.0",
            "_view_name": "StyleView",
            "description_width": ""
          }
        },
        "da9be4e48c944cd2872a2541e3f81e21": {
          "model_module": "@jupyter-widgets/controls",
          "model_module_version": "1.5.0",
          "model_name": "DescriptionStyleModel",
          "state": {
            "_model_module": "@jupyter-widgets/controls",
            "_model_module_version": "1.5.0",
            "_model_name": "DescriptionStyleModel",
            "_view_count": null,
            "_view_module": "@jupyter-widgets/base",
            "_view_module_version": "1.2.0",
            "_view_name": "StyleView",
            "description_width": ""
          }
        },
        "dc323d9ba5304c80b5370c1bbb8c22ca": {
          "model_module": "@jupyter-widgets/base",
          "model_module_version": "1.2.0",
          "model_name": "LayoutModel",
          "state": {
            "_model_module": "@jupyter-widgets/base",
            "_model_module_version": "1.2.0",
            "_model_name": "LayoutModel",
            "_view_count": null,
            "_view_module": "@jupyter-widgets/base",
            "_view_module_version": "1.2.0",
            "_view_name": "LayoutView",
            "align_content": null,
            "align_items": null,
            "align_self": null,
            "border": null,
            "bottom": null,
            "display": null,
            "flex": null,
            "flex_flow": null,
            "grid_area": null,
            "grid_auto_columns": null,
            "grid_auto_flow": null,
            "grid_auto_rows": null,
            "grid_column": null,
            "grid_gap": null,
            "grid_row": null,
            "grid_template_areas": null,
            "grid_template_columns": null,
            "grid_template_rows": null,
            "height": null,
            "justify_content": null,
            "justify_items": null,
            "left": null,
            "margin": null,
            "max_height": null,
            "max_width": null,
            "min_height": null,
            "min_width": null,
            "object_fit": null,
            "object_position": null,
            "order": null,
            "overflow": null,
            "overflow_x": null,
            "overflow_y": null,
            "padding": null,
            "right": null,
            "top": null,
            "visibility": null,
            "width": null
          }
        },
        "dd858d7619e048258eb77115b2f120f5": {
          "model_module": "@jupyter-widgets/controls",
          "model_module_version": "1.5.0",
          "model_name": "FloatProgressModel",
          "state": {
            "_dom_classes": [],
            "_model_module": "@jupyter-widgets/controls",
            "_model_module_version": "1.5.0",
            "_model_name": "FloatProgressModel",
            "_view_count": null,
            "_view_module": "@jupyter-widgets/controls",
            "_view_module_version": "1.5.0",
            "_view_name": "ProgressView",
            "bar_style": "success",
            "description": "",
            "description_tooltip": null,
            "layout": "IPY_MODEL_0fd232a9e30d481fa566cdedb93b87b5",
            "max": 756198,
            "min": 0,
            "orientation": "horizontal",
            "style": "IPY_MODEL_c22e7a8724084a54a924826e36d9a78f",
            "value": 756198
          }
        },
        "de1e4b0f94f74b4380de2cb4447352f1": {
          "model_module": "@jupyter-widgets/controls",
          "model_module_version": "1.5.0",
          "model_name": "HTMLModel",
          "state": {
            "_dom_classes": [],
            "_model_module": "@jupyter-widgets/controls",
            "_model_module_version": "1.5.0",
            "_model_name": "HTMLModel",
            "_view_count": null,
            "_view_module": "@jupyter-widgets/controls",
            "_view_module_version": "1.5.0",
            "_view_name": "HTMLView",
            "description": "",
            "description_tooltip": null,
            "layout": "IPY_MODEL_5600aa1b802c46b183417910f0e18cc4",
            "placeholder": "​",
            "style": "IPY_MODEL_a9aa1538562840f2b969340f1cbf8bbb",
            "value": " 2.81k/? [00:00&lt;00:00, 57.6kB/s]"
          }
        },
        "decf5b29fb9a4b9e86806ac4faaaf934": {
          "model_module": "@jupyter-widgets/base",
          "model_module_version": "1.2.0",
          "model_name": "LayoutModel",
          "state": {
            "_model_module": "@jupyter-widgets/base",
            "_model_module_version": "1.2.0",
            "_model_name": "LayoutModel",
            "_view_count": null,
            "_view_module": "@jupyter-widgets/base",
            "_view_module_version": "1.2.0",
            "_view_name": "LayoutView",
            "align_content": null,
            "align_items": null,
            "align_self": null,
            "border": null,
            "bottom": null,
            "display": null,
            "flex": null,
            "flex_flow": null,
            "grid_area": null,
            "grid_auto_columns": null,
            "grid_auto_flow": null,
            "grid_auto_rows": null,
            "grid_column": null,
            "grid_gap": null,
            "grid_row": null,
            "grid_template_areas": null,
            "grid_template_columns": null,
            "grid_template_rows": null,
            "height": null,
            "justify_content": null,
            "justify_items": null,
            "left": null,
            "margin": null,
            "max_height": null,
            "max_width": null,
            "min_height": null,
            "min_width": null,
            "object_fit": null,
            "object_position": null,
            "order": null,
            "overflow": null,
            "overflow_x": null,
            "overflow_y": null,
            "padding": null,
            "right": null,
            "top": null,
            "visibility": null,
            "width": null
          }
        },
        "df4da6bee6b543cb935b57bf25c5bf6c": {
          "model_module": "@jupyter-widgets/controls",
          "model_module_version": "1.5.0",
          "model_name": "ProgressStyleModel",
          "state": {
            "_model_module": "@jupyter-widgets/controls",
            "_model_module_version": "1.5.0",
            "_model_name": "ProgressStyleModel",
            "_view_count": null,
            "_view_module": "@jupyter-widgets/base",
            "_view_module_version": "1.2.0",
            "_view_name": "StyleView",
            "bar_color": null,
            "description_width": ""
          }
        },
        "e1d75f47a76d4bf8b2941fe543e46242": {
          "model_module": "@jupyter-widgets/controls",
          "model_module_version": "1.5.0",
          "model_name": "ProgressStyleModel",
          "state": {
            "_model_module": "@jupyter-widgets/controls",
            "_model_module_version": "1.5.0",
            "_model_name": "ProgressStyleModel",
            "_view_count": null,
            "_view_module": "@jupyter-widgets/base",
            "_view_module_version": "1.2.0",
            "_view_name": "StyleView",
            "bar_color": null,
            "description_width": ""
          }
        },
        "e21cb62ee90a42e5b669220e14c6af8d": {
          "model_module": "@jupyter-widgets/base",
          "model_module_version": "1.2.0",
          "model_name": "LayoutModel",
          "state": {
            "_model_module": "@jupyter-widgets/base",
            "_model_module_version": "1.2.0",
            "_model_name": "LayoutModel",
            "_view_count": null,
            "_view_module": "@jupyter-widgets/base",
            "_view_module_version": "1.2.0",
            "_view_name": "LayoutView",
            "align_content": null,
            "align_items": null,
            "align_self": null,
            "border": null,
            "bottom": null,
            "display": null,
            "flex": null,
            "flex_flow": null,
            "grid_area": null,
            "grid_auto_columns": null,
            "grid_auto_flow": null,
            "grid_auto_rows": null,
            "grid_column": null,
            "grid_gap": null,
            "grid_row": null,
            "grid_template_areas": null,
            "grid_template_columns": null,
            "grid_template_rows": null,
            "height": null,
            "justify_content": null,
            "justify_items": null,
            "left": null,
            "margin": null,
            "max_height": null,
            "max_width": null,
            "min_height": null,
            "min_width": null,
            "object_fit": null,
            "object_position": null,
            "order": null,
            "overflow": null,
            "overflow_x": null,
            "overflow_y": null,
            "padding": null,
            "right": null,
            "top": null,
            "visibility": null,
            "width": null
          }
        },
        "e23e6956d7b440489df6763eb3a893ba": {
          "model_module": "@jupyter-widgets/controls",
          "model_module_version": "1.5.0",
          "model_name": "LabelModel",
          "state": {
            "_dom_classes": [],
            "_model_module": "@jupyter-widgets/controls",
            "_model_module_version": "1.5.0",
            "_model_name": "LabelModel",
            "_view_count": null,
            "_view_module": "@jupyter-widgets/controls",
            "_view_module_version": "1.5.0",
            "_view_name": "LabelView",
            "description": "",
            "description_tooltip": null,
            "layout": "IPY_MODEL_dc323d9ba5304c80b5370c1bbb8c22ca",
            "placeholder": "​",
            "style": "IPY_MODEL_eb88d3a4b1e64f4ba402ca3209725764",
            "value": "Login successful"
          }
        },
        "e2ef5ee73de84090baec40da5ff7e4bd": {
          "model_module": "@jupyter-widgets/controls",
          "model_module_version": "1.5.0",
          "model_name": "ProgressStyleModel",
          "state": {
            "_model_module": "@jupyter-widgets/controls",
            "_model_module_version": "1.5.0",
            "_model_name": "ProgressStyleModel",
            "_view_count": null,
            "_view_module": "@jupyter-widgets/base",
            "_view_module_version": "1.2.0",
            "_view_name": "StyleView",
            "bar_color": null,
            "description_width": ""
          }
        },
        "e6702ab87a1648c4adb372b7fef836cd": {
          "model_module": "@jupyter-widgets/controls",
          "model_module_version": "1.5.0",
          "model_name": "HTMLModel",
          "state": {
            "_dom_classes": [],
            "_model_module": "@jupyter-widgets/controls",
            "_model_module_version": "1.5.0",
            "_model_name": "HTMLModel",
            "_view_count": null,
            "_view_module": "@jupyter-widgets/controls",
            "_view_module_version": "1.5.0",
            "_view_name": "HTMLView",
            "description": "",
            "description_tooltip": null,
            "layout": "IPY_MODEL_316e4424101a4921b8802a28cb887728",
            "placeholder": "​",
            "style": "IPY_MODEL_50975a3fe3e2449485e72878926ffa44",
            "value": " 288/288 [00:00&lt;00:00, 11.3kB/s]"
          }
        },
        "e988af6b2b5f4f269fa2175b455d891f": {
          "model_module": "@jupyter-widgets/base",
          "model_module_version": "1.2.0",
          "model_name": "LayoutModel",
          "state": {
            "_model_module": "@jupyter-widgets/base",
            "_model_module_version": "1.2.0",
            "_model_name": "LayoutModel",
            "_view_count": null,
            "_view_module": "@jupyter-widgets/base",
            "_view_module_version": "1.2.0",
            "_view_name": "LayoutView",
            "align_content": null,
            "align_items": null,
            "align_self": null,
            "border": null,
            "bottom": null,
            "display": null,
            "flex": null,
            "flex_flow": null,
            "grid_area": null,
            "grid_auto_columns": null,
            "grid_auto_flow": null,
            "grid_auto_rows": null,
            "grid_column": null,
            "grid_gap": null,
            "grid_row": null,
            "grid_template_areas": null,
            "grid_template_columns": null,
            "grid_template_rows": null,
            "height": null,
            "justify_content": null,
            "justify_items": null,
            "left": null,
            "margin": null,
            "max_height": null,
            "max_width": null,
            "min_height": null,
            "min_width": null,
            "object_fit": null,
            "object_position": null,
            "order": null,
            "overflow": null,
            "overflow_x": null,
            "overflow_y": null,
            "padding": null,
            "right": null,
            "top": null,
            "visibility": null,
            "width": null
          }
        },
        "ea80f5d74458403294bf12af9333688a": {
          "model_module": "@jupyter-widgets/base",
          "model_module_version": "1.2.0",
          "model_name": "LayoutModel",
          "state": {
            "_model_module": "@jupyter-widgets/base",
            "_model_module_version": "1.2.0",
            "_model_name": "LayoutModel",
            "_view_count": null,
            "_view_module": "@jupyter-widgets/base",
            "_view_module_version": "1.2.0",
            "_view_name": "LayoutView",
            "align_content": null,
            "align_items": null,
            "align_self": null,
            "border": null,
            "bottom": null,
            "display": null,
            "flex": null,
            "flex_flow": null,
            "grid_area": null,
            "grid_auto_columns": null,
            "grid_auto_flow": null,
            "grid_auto_rows": null,
            "grid_column": null,
            "grid_gap": null,
            "grid_row": null,
            "grid_template_areas": null,
            "grid_template_columns": null,
            "grid_template_rows": null,
            "height": null,
            "justify_content": null,
            "justify_items": null,
            "left": null,
            "margin": null,
            "max_height": null,
            "max_width": null,
            "min_height": null,
            "min_width": null,
            "object_fit": null,
            "object_position": null,
            "order": null,
            "overflow": null,
            "overflow_x": null,
            "overflow_y": null,
            "padding": null,
            "right": null,
            "top": null,
            "visibility": null,
            "width": null
          }
        },
        "eb10554a79a04ecf92517ba96ca956d9": {
          "model_module": "@jupyter-widgets/controls",
          "model_module_version": "1.5.0",
          "model_name": "DescriptionStyleModel",
          "state": {
            "_model_module": "@jupyter-widgets/controls",
            "_model_module_version": "1.5.0",
            "_model_name": "DescriptionStyleModel",
            "_view_count": null,
            "_view_module": "@jupyter-widgets/base",
            "_view_module_version": "1.2.0",
            "_view_name": "StyleView",
            "description_width": ""
          }
        },
        "eb88d3a4b1e64f4ba402ca3209725764": {
          "model_module": "@jupyter-widgets/controls",
          "model_module_version": "1.5.0",
          "model_name": "DescriptionStyleModel",
          "state": {
            "_model_module": "@jupyter-widgets/controls",
            "_model_module_version": "1.5.0",
            "_model_name": "DescriptionStyleModel",
            "_view_count": null,
            "_view_module": "@jupyter-widgets/base",
            "_view_module_version": "1.2.0",
            "_view_name": "StyleView",
            "description_width": ""
          }
        },
        "ecb70e2fbfde41739c28fa77a2c27f98": {
          "model_module": "@jupyter-widgets/controls",
          "model_module_version": "1.5.0",
          "model_name": "HBoxModel",
          "state": {
            "_dom_classes": [],
            "_model_module": "@jupyter-widgets/controls",
            "_model_module_version": "1.5.0",
            "_model_name": "HBoxModel",
            "_view_count": null,
            "_view_module": "@jupyter-widgets/controls",
            "_view_module_version": "1.5.0",
            "_view_name": "HBoxView",
            "box_style": "",
            "children": [
              "IPY_MODEL_3dba9ecc32fc48d0a87cd533a20fa86f",
              "IPY_MODEL_568bf52994e7411c8e78fa8ff62faa93",
              "IPY_MODEL_8a16f6edd6454c98ae435dc3eb2e6eba"
            ],
            "layout": "IPY_MODEL_e988af6b2b5f4f269fa2175b455d891f"
          }
        },
        "ed5983a37cba4faea852cf2e13b355b4": {
          "model_module": "@jupyter-widgets/base",
          "model_module_version": "1.2.0",
          "model_name": "LayoutModel",
          "state": {
            "_model_module": "@jupyter-widgets/base",
            "_model_module_version": "1.2.0",
            "_model_name": "LayoutModel",
            "_view_count": null,
            "_view_module": "@jupyter-widgets/base",
            "_view_module_version": "1.2.0",
            "_view_name": "LayoutView",
            "align_content": null,
            "align_items": null,
            "align_self": null,
            "border": null,
            "bottom": null,
            "display": null,
            "flex": null,
            "flex_flow": null,
            "grid_area": null,
            "grid_auto_columns": null,
            "grid_auto_flow": null,
            "grid_auto_rows": null,
            "grid_column": null,
            "grid_gap": null,
            "grid_row": null,
            "grid_template_areas": null,
            "grid_template_columns": null,
            "grid_template_rows": null,
            "height": null,
            "justify_content": null,
            "justify_items": null,
            "left": null,
            "margin": null,
            "max_height": null,
            "max_width": null,
            "min_height": null,
            "min_width": null,
            "object_fit": null,
            "object_position": null,
            "order": null,
            "overflow": null,
            "overflow_x": null,
            "overflow_y": null,
            "padding": null,
            "right": null,
            "top": null,
            "visibility": null,
            "width": null
          }
        },
        "ee6f23b36a6e4425b56efa283ac82925": {
          "model_module": "@jupyter-widgets/base",
          "model_module_version": "1.2.0",
          "model_name": "LayoutModel",
          "state": {
            "_model_module": "@jupyter-widgets/base",
            "_model_module_version": "1.2.0",
            "_model_name": "LayoutModel",
            "_view_count": null,
            "_view_module": "@jupyter-widgets/base",
            "_view_module_version": "1.2.0",
            "_view_name": "LayoutView",
            "align_content": null,
            "align_items": null,
            "align_self": null,
            "border": null,
            "bottom": null,
            "display": null,
            "flex": null,
            "flex_flow": null,
            "grid_area": null,
            "grid_auto_columns": null,
            "grid_auto_flow": null,
            "grid_auto_rows": null,
            "grid_column": null,
            "grid_gap": null,
            "grid_row": null,
            "grid_template_areas": null,
            "grid_template_columns": null,
            "grid_template_rows": null,
            "height": null,
            "justify_content": null,
            "justify_items": null,
            "left": null,
            "margin": null,
            "max_height": null,
            "max_width": null,
            "min_height": null,
            "min_width": null,
            "object_fit": null,
            "object_position": null,
            "order": null,
            "overflow": null,
            "overflow_x": null,
            "overflow_y": null,
            "padding": null,
            "right": null,
            "top": null,
            "visibility": null,
            "width": null
          }
        },
        "ef50b5ea6d244be9a209c02c1c70998b": {
          "model_module": "@jupyter-widgets/base",
          "model_module_version": "1.2.0",
          "model_name": "LayoutModel",
          "state": {
            "_model_module": "@jupyter-widgets/base",
            "_model_module_version": "1.2.0",
            "_model_name": "LayoutModel",
            "_view_count": null,
            "_view_module": "@jupyter-widgets/base",
            "_view_module_version": "1.2.0",
            "_view_name": "LayoutView",
            "align_content": null,
            "align_items": null,
            "align_self": null,
            "border": null,
            "bottom": null,
            "display": null,
            "flex": null,
            "flex_flow": null,
            "grid_area": null,
            "grid_auto_columns": null,
            "grid_auto_flow": null,
            "grid_auto_rows": null,
            "grid_column": null,
            "grid_gap": null,
            "grid_row": null,
            "grid_template_areas": null,
            "grid_template_columns": null,
            "grid_template_rows": null,
            "height": null,
            "justify_content": null,
            "justify_items": null,
            "left": null,
            "margin": null,
            "max_height": null,
            "max_width": null,
            "min_height": null,
            "min_width": null,
            "object_fit": null,
            "object_position": null,
            "order": null,
            "overflow": null,
            "overflow_x": null,
            "overflow_y": null,
            "padding": null,
            "right": null,
            "top": null,
            "visibility": null,
            "width": null
          }
        },
        "f3c8ddc4fd824c1ca133c56ae36b5274": {
          "model_module": "@jupyter-widgets/controls",
          "model_module_version": "1.5.0",
          "model_name": "DescriptionStyleModel",
          "state": {
            "_model_module": "@jupyter-widgets/controls",
            "_model_module_version": "1.5.0",
            "_model_name": "DescriptionStyleModel",
            "_view_count": null,
            "_view_module": "@jupyter-widgets/base",
            "_view_module_version": "1.2.0",
            "_view_name": "StyleView",
            "description_width": ""
          }
        },
        "f433a361e6b6475796f8802b5adff7b9": {
          "model_module": "@jupyter-widgets/base",
          "model_module_version": "1.2.0",
          "model_name": "LayoutModel",
          "state": {
            "_model_module": "@jupyter-widgets/base",
            "_model_module_version": "1.2.0",
            "_model_name": "LayoutModel",
            "_view_count": null,
            "_view_module": "@jupyter-widgets/base",
            "_view_module_version": "1.2.0",
            "_view_name": "LayoutView",
            "align_content": null,
            "align_items": null,
            "align_self": null,
            "border": null,
            "bottom": null,
            "display": null,
            "flex": null,
            "flex_flow": null,
            "grid_area": null,
            "grid_auto_columns": null,
            "grid_auto_flow": null,
            "grid_auto_rows": null,
            "grid_column": null,
            "grid_gap": null,
            "grid_row": null,
            "grid_template_areas": null,
            "grid_template_columns": null,
            "grid_template_rows": null,
            "height": null,
            "justify_content": null,
            "justify_items": null,
            "left": null,
            "margin": null,
            "max_height": null,
            "max_width": null,
            "min_height": null,
            "min_width": null,
            "object_fit": null,
            "object_position": null,
            "order": null,
            "overflow": null,
            "overflow_x": null,
            "overflow_y": null,
            "padding": null,
            "right": null,
            "top": null,
            "visibility": null,
            "width": null
          }
        },
        "f4a86f2919e840589f078f6360aba51a": {
          "model_module": "@jupyter-widgets/controls",
          "model_module_version": "1.5.0",
          "model_name": "HTMLModel",
          "state": {
            "_dom_classes": [],
            "_model_module": "@jupyter-widgets/controls",
            "_model_module_version": "1.5.0",
            "_model_name": "HTMLModel",
            "_view_count": null,
            "_view_module": "@jupyter-widgets/controls",
            "_view_module_version": "1.5.0",
            "_view_name": "HTMLView",
            "description": "",
            "description_tooltip": null,
            "layout": "IPY_MODEL_c211858b08b946b2b75469653f96f34f",
            "placeholder": "​",
            "style": "IPY_MODEL_19c10a4fcb85463285654cca5e0d117d",
            "value": "target.spm: 100%"
          }
        },
        "f81ce2f4c3ef4d869bc7a021f0a36504": {
          "model_module": "@jupyter-widgets/controls",
          "model_module_version": "1.5.0",
          "model_name": "HBoxModel",
          "state": {
            "_dom_classes": [],
            "_model_module": "@jupyter-widgets/controls",
            "_model_module_version": "1.5.0",
            "_model_name": "HBoxModel",
            "_view_count": null,
            "_view_module": "@jupyter-widgets/controls",
            "_view_module_version": "1.5.0",
            "_view_name": "HBoxView",
            "box_style": "",
            "children": [
              "IPY_MODEL_0307fe4e35234234906cdbcdd6e7eb8a",
              "IPY_MODEL_ffa6a0f1f0f2411298c1d9c19d5be91f",
              "IPY_MODEL_c312ed6de5b149e39c64ad8aa74ab5cc"
            ],
            "layout": "IPY_MODEL_7d07958f3b494525bda6c49d31cea14f"
          }
        },
        "f8f12dcd6d164513bae3d4d7835cc45e": {
          "model_module": "@jupyter-widgets/controls",
          "model_module_version": "1.5.0",
          "model_name": "ProgressStyleModel",
          "state": {
            "_model_module": "@jupyter-widgets/controls",
            "_model_module_version": "1.5.0",
            "_model_name": "ProgressStyleModel",
            "_view_count": null,
            "_view_module": "@jupyter-widgets/base",
            "_view_module_version": "1.2.0",
            "_view_name": "StyleView",
            "bar_color": null,
            "description_width": ""
          }
        },
        "f9288742da334eb593d8b8147eabccce": {
          "model_module": "@jupyter-widgets/base",
          "model_module_version": "1.2.0",
          "model_name": "LayoutModel",
          "state": {
            "_model_module": "@jupyter-widgets/base",
            "_model_module_version": "1.2.0",
            "_model_name": "LayoutModel",
            "_view_count": null,
            "_view_module": "@jupyter-widgets/base",
            "_view_module_version": "1.2.0",
            "_view_name": "LayoutView",
            "align_content": null,
            "align_items": "center",
            "align_self": null,
            "border": null,
            "bottom": null,
            "display": "flex",
            "flex": null,
            "flex_flow": "column",
            "grid_area": null,
            "grid_auto_columns": null,
            "grid_auto_flow": null,
            "grid_auto_rows": null,
            "grid_column": null,
            "grid_gap": null,
            "grid_row": null,
            "grid_template_areas": null,
            "grid_template_columns": null,
            "grid_template_rows": null,
            "height": null,
            "justify_content": null,
            "justify_items": null,
            "left": null,
            "margin": null,
            "max_height": null,
            "max_width": null,
            "min_height": null,
            "min_width": null,
            "object_fit": null,
            "object_position": null,
            "order": null,
            "overflow": null,
            "overflow_x": null,
            "overflow_y": null,
            "padding": null,
            "right": null,
            "top": null,
            "visibility": null,
            "width": "50%"
          }
        },
        "fa465a3275d144bdb9e9c608b53c77d6": {
          "model_module": "@jupyter-widgets/base",
          "model_module_version": "1.2.0",
          "model_name": "LayoutModel",
          "state": {
            "_model_module": "@jupyter-widgets/base",
            "_model_module_version": "1.2.0",
            "_model_name": "LayoutModel",
            "_view_count": null,
            "_view_module": "@jupyter-widgets/base",
            "_view_module_version": "1.2.0",
            "_view_name": "LayoutView",
            "align_content": null,
            "align_items": null,
            "align_self": null,
            "border": null,
            "bottom": null,
            "display": null,
            "flex": null,
            "flex_flow": null,
            "grid_area": null,
            "grid_auto_columns": null,
            "grid_auto_flow": null,
            "grid_auto_rows": null,
            "grid_column": null,
            "grid_gap": null,
            "grid_row": null,
            "grid_template_areas": null,
            "grid_template_columns": null,
            "grid_template_rows": null,
            "height": null,
            "justify_content": null,
            "justify_items": null,
            "left": null,
            "margin": null,
            "max_height": null,
            "max_width": null,
            "min_height": null,
            "min_width": null,
            "object_fit": null,
            "object_position": null,
            "order": null,
            "overflow": null,
            "overflow_x": null,
            "overflow_y": null,
            "padding": null,
            "right": null,
            "top": null,
            "visibility": null,
            "width": null
          }
        },
        "faa107b32f164ae28eeed7d1ef64073a": {
          "model_module": "@jupyter-widgets/base",
          "model_module_version": "1.2.0",
          "model_name": "LayoutModel",
          "state": {
            "_model_module": "@jupyter-widgets/base",
            "_model_module_version": "1.2.0",
            "_model_name": "LayoutModel",
            "_view_count": null,
            "_view_module": "@jupyter-widgets/base",
            "_view_module_version": "1.2.0",
            "_view_name": "LayoutView",
            "align_content": null,
            "align_items": null,
            "align_self": null,
            "border": null,
            "bottom": null,
            "display": null,
            "flex": null,
            "flex_flow": null,
            "grid_area": null,
            "grid_auto_columns": null,
            "grid_auto_flow": null,
            "grid_auto_rows": null,
            "grid_column": null,
            "grid_gap": null,
            "grid_row": null,
            "grid_template_areas": null,
            "grid_template_columns": null,
            "grid_template_rows": null,
            "height": null,
            "justify_content": null,
            "justify_items": null,
            "left": null,
            "margin": null,
            "max_height": null,
            "max_width": null,
            "min_height": null,
            "min_width": null,
            "object_fit": null,
            "object_position": null,
            "order": null,
            "overflow": null,
            "overflow_x": null,
            "overflow_y": null,
            "padding": null,
            "right": null,
            "top": null,
            "visibility": null,
            "width": null
          }
        },
        "fb6691227011463bb58cb9d4f9cc61c9": {
          "model_module": "@jupyter-widgets/base",
          "model_module_version": "1.2.0",
          "model_name": "LayoutModel",
          "state": {
            "_model_module": "@jupyter-widgets/base",
            "_model_module_version": "1.2.0",
            "_model_name": "LayoutModel",
            "_view_count": null,
            "_view_module": "@jupyter-widgets/base",
            "_view_module_version": "1.2.0",
            "_view_name": "LayoutView",
            "align_content": null,
            "align_items": null,
            "align_self": null,
            "border": null,
            "bottom": null,
            "display": null,
            "flex": null,
            "flex_flow": null,
            "grid_area": null,
            "grid_auto_columns": null,
            "grid_auto_flow": null,
            "grid_auto_rows": null,
            "grid_column": null,
            "grid_gap": null,
            "grid_row": null,
            "grid_template_areas": null,
            "grid_template_columns": null,
            "grid_template_rows": null,
            "height": null,
            "justify_content": null,
            "justify_items": null,
            "left": null,
            "margin": null,
            "max_height": null,
            "max_width": null,
            "min_height": null,
            "min_width": null,
            "object_fit": null,
            "object_position": null,
            "order": null,
            "overflow": null,
            "overflow_x": null,
            "overflow_y": null,
            "padding": null,
            "right": null,
            "top": null,
            "visibility": null,
            "width": null
          }
        },
        "fcea47ceafae48c48db3d0c346e2be0a": {
          "model_module": "@jupyter-widgets/controls",
          "model_module_version": "1.5.0",
          "model_name": "HTMLModel",
          "state": {
            "_dom_classes": [],
            "_model_module": "@jupyter-widgets/controls",
            "_model_module_version": "1.5.0",
            "_model_name": "HTMLModel",
            "_view_count": null,
            "_view_module": "@jupyter-widgets/controls",
            "_view_module_version": "1.5.0",
            "_view_name": "HTMLView",
            "description": "",
            "description_tooltip": null,
            "layout": "IPY_MODEL_f433a361e6b6475796f8802b5adff7b9",
            "placeholder": "​",
            "style": "IPY_MODEL_d05c439a28e04471b39b47b627f6a729",
            "value": " 1.30M/1.30M [00:00&lt;00:00, 30.4MB/s]"
          }
        },
        "fd3b7f5ca2584c62b93ffd067db7874a": {
          "model_module": "@jupyter-widgets/controls",
          "model_module_version": "1.5.0",
          "model_name": "HTMLModel",
          "state": {
            "_dom_classes": [],
            "_model_module": "@jupyter-widgets/controls",
            "_model_module_version": "1.5.0",
            "_model_name": "HTMLModel",
            "_view_count": null,
            "_view_module": "@jupyter-widgets/controls",
            "_view_module_version": "1.5.0",
            "_view_name": "HTMLView",
            "description": "",
            "description_tooltip": null,
            "layout": "IPY_MODEL_438ba9f59d15469bb398f67cd0bcc801",
            "placeholder": "​",
            "style": "IPY_MODEL_5c12c1abd854466f945a86a4e60c7724",
            "value": " 5.18k/5.18k [00:00&lt;00:00, 15.1kB/s]"
          }
        },
        "fd705f2d192c41f8bbbf5c6270e6ffb0": {
          "model_module": "@jupyter-widgets/controls",
          "model_module_version": "1.5.0",
          "model_name": "HBoxModel",
          "state": {
            "_dom_classes": [],
            "_model_module": "@jupyter-widgets/controls",
            "_model_module_version": "1.5.0",
            "_model_name": "HBoxModel",
            "_view_count": null,
            "_view_module": "@jupyter-widgets/controls",
            "_view_module_version": "1.5.0",
            "_view_name": "HBoxView",
            "box_style": "",
            "children": [
              "IPY_MODEL_b982f93475414c0c8a92601717138dc4",
              "IPY_MODEL_98b513fb020744bfbbe0678daa33f2aa",
              "IPY_MODEL_4295f3dc0a494198b776f682b327924d"
            ],
            "layout": "IPY_MODEL_d8499a1a46144034b56489025aaee86f"
          }
        },
        "ffa6a0f1f0f2411298c1d9c19d5be91f": {
          "model_module": "@jupyter-widgets/controls",
          "model_module_version": "1.5.0",
          "model_name": "FloatProgressModel",
          "state": {
            "_dom_classes": [],
            "_model_module": "@jupyter-widgets/controls",
            "_model_module_version": "1.5.0",
            "_model_name": "FloatProgressModel",
            "_view_count": null,
            "_view_module": "@jupyter-widgets/controls",
            "_view_module_version": "1.5.0",
            "_view_name": "ProgressView",
            "bar_style": "success",
            "description": "",
            "description_tooltip": null,
            "layout": "IPY_MODEL_a55b69b790704d899ce5b5f32c7e7a2a",
            "max": 9712,
            "min": 0,
            "orientation": "horizontal",
            "style": "IPY_MODEL_bf9c7864c148474c9662b7a0fe32f500",
            "value": 9712
          }
        }
      }
    }
  },
  "nbformat": 4,
  "nbformat_minor": 0
}